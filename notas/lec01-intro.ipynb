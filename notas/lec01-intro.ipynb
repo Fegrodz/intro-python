{
 "cells": [
  {
   "cell_type": "markdown",
   "metadata": {
    "slideshow": {
     "slide_type": "slide"
    }
   },
   "source": [
    "<img src=\"../files/misc/logo.gif\" width=300/>\n",
    "<img src=\"../files/misc/itam.JPG\" width=300/>\n",
    "<h1 style=\"color:#872325\">Introducción a Python</h1>"
   ]
  },
  {
   "cell_type": "markdown",
   "metadata": {
    "slideshow": {
     "slide_type": "slide"
    }
   },
   "source": [
    "**¿Qué es un programa?**\n",
    "\n",
    "Un programa es una colección de instrucciones específicas designadas a resolver una clase de problemas. Los pasos lógicos necesarios para resolver el problema se conoce como **algoritmo**."
   ]
  },
  {
   "cell_type": "markdown",
   "metadata": {
    "slideshow": {
     "slide_type": "slide"
    }
   },
   "source": [
    "**¿Qué es un lenguaje de computación?**  \n",
    "\n",
    "Un lenguaje de computación específica de manera formal las instrucciones necesarias para llevar a cabo un algoritmo y llegar a un resultado."
   ]
  },
  {
   "cell_type": "markdown",
   "metadata": {
    "slideshow": {
     "slide_type": "subslide"
    }
   },
   "source": [
    "**¿Qué lenguajes de programación existen?**\n",
    "* Python\n",
    "* C, C++\n",
    "* R\n",
    "* Matlab\n",
    "* Java"
   ]
  },
  {
   "cell_type": "markdown",
   "metadata": {
    "slideshow": {
     "slide_type": "slide"
    }
   },
   "source": [
    "## ¿Por qué Python?\n",
    "\n",
    "Python es un lenguaje de programación interpretado muliparadigma con aplicaciones en:\n",
    "* finanzas\n",
    "* desarrollo web y software\n",
    "* investigación científica\n",
    "* machine learning & data science"
   ]
  },
  {
   "cell_type": "markdown",
   "metadata": {},
   "source": [
    "### Investigación Cientifica\n",
    "![Gradient-Descent](../files/lec01/gd.gif)"
   ]
  },
  {
   "cell_type": "markdown",
   "metadata": {},
   "source": [
    "### Finanzas\n",
    "![simulation](../files/lec01/simulation.png)"
   ]
  },
  {
   "cell_type": "markdown",
   "metadata": {},
   "source": [
    "### Finanzas\n",
    "![spreads](../files/lec01/spread-dist.png)"
   ]
  },
  {
   "cell_type": "markdown",
   "metadata": {},
   "source": [
    "### Machine Learning\n",
    "![Klearn](../files/lec01/k_learn.gif)"
   ]
  },
  {
   "cell_type": "markdown",
   "metadata": {},
   "source": [
    "### Data Science\n",
    "![Debate](../files/lec01/debate.gif)"
   ]
  },
  {
   "cell_type": "markdown",
   "metadata": {},
   "source": [
    "### Sentiment Analysis\n",
    "![Sentiment](../files/lec01/sentiment.png)"
   ]
  },
  {
   "cell_type": "markdown",
   "metadata": {},
   "source": [
    "### Simulaciones\n",
    "\n",
    "```\n",
    "python ./files/lec01/stocks.py\n",
    "```\n",
    "\n",
    "![Simul](../files/lec01/weiner-simul.png)"
   ]
  },
  {
   "cell_type": "markdown",
   "metadata": {
    "slideshow": {
     "slide_type": "slide"
    }
   },
   "source": [
    "## Un primer programa en Python"
   ]
  },
  {
   "cell_type": "code",
   "execution_count": 1,
   "metadata": {
    "slideshow": {
     "slide_type": "slide"
    }
   },
   "outputs": [
    {
     "name": "stdout",
     "output_type": "stream",
     "text": [
      "¡Hola, Mundo!\n"
     ]
    }
   ],
   "source": [
    "# Esto es un comentario \n",
    "print(\"¡Hola, Mundo!\")"
   ]
  },
  {
   "cell_type": "markdown",
   "metadata": {
    "slideshow": {
     "slide_type": "slide"
    }
   },
   "source": [
    "## Tres Maneras de Trabajar en Python"
   ]
  },
  {
   "cell_type": "markdown",
   "metadata": {
    "slideshow": {
     "slide_type": "slide"
    }
   },
   "source": [
    "### Línea de comandos\n",
    "<img src=\"../files/lec01/hw_terminal.png\" width=\"500\">"
   ]
  },
  {
   "cell_type": "markdown",
   "metadata": {
    "slideshow": {
     "slide_type": "slide"
    }
   },
   "source": [
    "### Escribiendo *scripts* `.py`\n",
    "<img src=\"../files/lec01/hw_script.png\" width=\"500\">"
   ]
  },
  {
   "cell_type": "code",
   "execution_count": 2,
   "metadata": {
    "slideshow": {
     "slide_type": "slide"
    }
   },
   "outputs": [
    {
     "name": "stdout",
     "output_type": "stream",
     "text": [
      "print(\"¡Hola, Mundo!\")\n"
     ]
    }
   ],
   "source": [
    "%%bash\n",
    "cat ../files/lec01/hello.py"
   ]
  },
  {
   "cell_type": "markdown",
   "metadata": {
    "slideshow": {
     "slide_type": "slide"
    }
   },
   "source": [
    "### Jupyter Notebook\n",
    "<img src=\"http://jupyter.org/assets/main-logo.svg\" width=\"200\">\n",
    "\n",
    "> *Jupyter Notebook* es una aplicación web *open-source*, la cual permite crear y compartir documentos que contienen código, ecuaciones, visualizaciones y texto. Sus usos incluyen: limpieza y transformación de datos, simulaciones numéricas, modelación estadístcia, visualización, machine learning y más.\n",
    "\n",
    "La mayor parte del curso estaremos trabjando con *jupyter notebooks*\n",
    "\n",
    "1. Un *jupyter notebook* cuenta con celdas en donde podemos escribir texto o código."
   ]
  },
  {
   "cell_type": "markdown",
   "metadata": {
    "slideshow": {
     "slide_type": "slide"
    }
   },
   "source": [
    "`# (Una celda con texto)`  \n",
    "Hola, Mundo\n",
    "\n",
    "Esta es una ecuación: $\\int_{-\\infty}^{\\infty}e^{-x^2}dx$\n",
    "\n",
    "Esta es otra ecuación\n",
    "$$\\int_{-\\infty}^{\\infty}e^{-x^2}dx$$"
   ]
  },
  {
   "cell_type": "raw",
   "metadata": {
    "slideshow": {
     "slide_type": "slide"
    }
   },
   "source": [
    "# Una celda con código\n",
    "print(\"¡Hola, Mundo!\")"
   ]
  },
  {
   "cell_type": "markdown",
   "metadata": {
    "slideshow": {
     "slide_type": "slide"
    }
   },
   "source": [
    "# Objetos\n",
    "\n",
    "* Cada animal tiene una especie, cada elemento en python *tiene* un objeto\n",
    "* Cada objecto tiene funcionalidades específicas conocidas como **métodos**"
   ]
  },
  {
   "cell_type": "markdown",
   "metadata": {
    "slideshow": {
     "slide_type": "slide"
    }
   },
   "source": [
    "## Strings `str`\n",
    "Un string es una secuencia de caractéres.\n",
    "\n",
    "* Toda secuencia de caracteres rodeada entre comillas (`\"`o `'`)se considera un string en Python.\n",
    "* Si una secuencia de caracteres no se encuentra rodeado de comillas no es considerado un string"
   ]
  },
  {
   "cell_type": "code",
   "execution_count": 3,
   "metadata": {
    "slideshow": {
     "slide_type": "fragment"
    }
   },
   "outputs": [
    {
     "data": {
      "text/plain": [
       "str"
      ]
     },
     "execution_count": 3,
     "metadata": {},
     "output_type": "execute_result"
    }
   ],
   "source": [
    "type(\"esto es un 'string'\")"
   ]
  },
  {
   "cell_type": "code",
   "execution_count": 4,
   "metadata": {
    "slideshow": {
     "slide_type": "slide"
    }
   },
   "outputs": [
    {
     "name": "stdout",
     "output_type": "stream",
     "text": [
      "¡Hola, Python!\n"
     ]
    }
   ],
   "source": [
    "print(\"¡Hola, Python!\")"
   ]
  },
  {
   "cell_type": "code",
   "execution_count": 5,
   "metadata": {
    "slideshow": {
     "slide_type": "fragment"
    }
   },
   "outputs": [
    {
     "name": "stdout",
     "output_type": "stream",
     "text": [
      "Hola, Python!\n"
     ]
    }
   ],
   "source": [
    "print('Hola, Python!')"
   ]
  },
  {
   "cell_type": "markdown",
   "metadata": {
    "slideshow": {
     "slide_type": "slide"
    }
   },
   "source": [
    "Podemos crear un string con varias lineas escribiendo `\\n` dentro del string"
   ]
  },
  {
   "cell_type": "code",
   "execution_count": 6,
   "metadata": {
    "slideshow": {
     "slide_type": "slide"
    }
   },
   "outputs": [
    {
     "name": "stdout",
     "output_type": "stream",
     "text": [
      "Un\n",
      "string\n",
      "multilinea\n"
     ]
    }
   ],
   "source": [
    "print(\"Un\\nstring\\nmultilinea\")"
   ]
  },
  {
   "cell_type": "markdown",
   "metadata": {
    "slideshow": {
     "slide_type": "slide"
    }
   },
   "source": [
    "De igual manera, podemos crear un string *multilinea* con tres comillas (`\"\"\"`)"
   ]
  },
  {
   "cell_type": "code",
   "execution_count": 7,
   "metadata": {
    "slideshow": {
     "slide_type": "fragment"
    }
   },
   "outputs": [
    {
     "name": "stdout",
     "output_type": "stream",
     "text": [
      "Un\n",
      "string\n",
      "multilinea\n"
     ]
    }
   ],
   "source": [
    "print(\n",
    "\"\"\"Un\n",
    "string\n",
    "multilinea\"\"\"\n",
    ")"
   ]
  },
  {
   "cell_type": "markdown",
   "metadata": {},
   "source": [
    "Para concer la longitud de un string ocupamos la función `len`"
   ]
  },
  {
   "cell_type": "code",
   "execution_count": 8,
   "metadata": {},
   "outputs": [
    {
     "data": {
      "text/plain": [
       "6"
      ]
     },
     "execution_count": 8,
     "metadata": {},
     "output_type": "execute_result"
    }
   ],
   "source": [
    "len(\"Python\")"
   ]
  },
  {
   "cell_type": "markdown",
   "metadata": {},
   "source": [
    "En un Jupyter notebook podemos obtener el resultado de la última línea dentro de una celda sin necesidad de llamar `print`"
   ]
  },
  {
   "cell_type": "code",
   "execution_count": 9,
   "metadata": {},
   "outputs": [
    {
     "data": {
      "text/plain": [
       "'Python'"
      ]
     },
     "execution_count": 9,
     "metadata": {},
     "output_type": "execute_result"
    }
   ],
   "source": [
    "\"Python\""
   ]
  },
  {
   "cell_type": "markdown",
   "metadata": {},
   "source": [
    "<h2 style=\"color:#B22222\">Ejercicios</h2>\n",
    "\n",
    "1. ¿Qué sucede si corremos el programa: `print(Hola, Mundo)`?\n",
    "2. Crea un programa que imprima tu nombre en la pantalla.\n",
    "3. ¿Qué sucede al correr el siguiente progama en Python?\n",
    "```python\n",
    "\"Hola,\"\n",
    "\"Mundo\"\n",
    "```\n",
    "4. ¿Qué sucede al correr el siguiente programa?\n",
    "```python\n",
    "print(\"Hola,\")\n",
    "\"mundo\"\n",
    "```\n",
    "5. ¿Cuál es el resultado de correr el siguiente programa: `\"x\" * 50`?"
   ]
  },
  {
   "cell_type": "markdown",
   "metadata": {
    "slideshow": {
     "slide_type": "fragment"
    }
   },
   "source": [
    "Cada `str` tiene funcionalidades conocidas como métodos, los cuales modifican o indican algo de un `str`. En Python, accedemos a un método de la siguiente forma:\n",
    "```python\n",
    "\"string\".nombre_metodo()\n",
    "```"
   ]
  },
  {
   "cell_type": "code",
   "execution_count": 10,
   "metadata": {
    "slideshow": {
     "slide_type": "fragment"
    }
   },
   "outputs": [
    {
     "data": {
      "text/plain": [
       "'Machine Learning'"
      ]
     },
     "execution_count": 10,
     "metadata": {},
     "output_type": "execute_result"
    }
   ],
   "source": [
    "\"machine learning\".title()"
   ]
  },
  {
   "cell_type": "code",
   "execution_count": 11,
   "metadata": {},
   "outputs": [
    {
     "data": {
      "text/plain": [
       "'MAYUSCULAS'"
      ]
     },
     "execution_count": 11,
     "metadata": {},
     "output_type": "execute_result"
    }
   ],
   "source": [
    "\"mayusculas\".upper()"
   ]
  },
  {
   "cell_type": "code",
   "execution_count": 12,
   "metadata": {},
   "outputs": [
    {
     "data": {
      "text/plain": [
       "'Este string contiene espacios inecesarios'"
      ]
     },
     "execution_count": 12,
     "metadata": {},
     "output_type": "execute_result"
    }
   ],
   "source": [
    "\" Este string contiene espacios inecesarios   \".strip()"
   ]
  },
  {
   "cell_type": "markdown",
   "metadata": {},
   "source": [
    "Ciertos métodos requieren *argumentos*, los cuales determinan el resultado de aplicar el método a un string dado."
   ]
  },
  {
   "cell_type": "code",
   "execution_count": 13,
   "metadata": {
    "slideshow": {
     "slide_type": "fragment"
    }
   },
   "outputs": [
    {
     "data": {
      "text/plain": [
       "4"
      ]
     },
     "execution_count": 13,
     "metadata": {},
     "output_type": "execute_result"
    }
   ],
   "source": [
    "\"Una gran maquina\".find(\"gran\")"
   ]
  },
  {
   "cell_type": "code",
   "execution_count": 14,
   "metadata": {
    "slideshow": {
     "slide_type": "fragment"
    }
   },
   "outputs": [
    {
     "data": {
      "text/plain": [
       "-1"
      ]
     },
     "execution_count": 14,
     "metadata": {},
     "output_type": "execute_result"
    }
   ],
   "source": [
    "\"Una gran maquina\".find(\"pequeña\")"
   ]
  },
  {
   "cell_type": "code",
   "execution_count": 15,
   "metadata": {},
   "outputs": [
    {
     "data": {
      "text/plain": [
       "'Una diminuta maquina'"
      ]
     },
     "execution_count": 15,
     "metadata": {},
     "output_type": "execute_result"
    }
   ],
   "source": [
    "\"Una gran maquina\".replace(\"gran\", \"diminuta\")"
   ]
  },
  {
   "cell_type": "code",
   "execution_count": 16,
   "metadata": {},
   "outputs": [
    {
     "data": {
      "text/plain": [
       "'#######Python#######'"
      ]
     },
     "execution_count": 16,
     "metadata": {},
     "output_type": "execute_result"
    }
   ],
   "source": [
    "\"Python\".center(20, \"#\")"
   ]
  },
  {
   "cell_type": "code",
   "execution_count": 17,
   "metadata": {},
   "outputs": [
    {
     "data": {
      "text/plain": [
       "'minusculas'"
      ]
     },
     "execution_count": 17,
     "metadata": {},
     "output_type": "execute_result"
    }
   ],
   "source": [
    "\"MINUSCULAS\".lower()"
   ]
  },
  {
   "cell_type": "markdown",
   "metadata": {},
   "source": [
    "<h2 style=\"color:#B22222\">Ejercicios</h2>\n",
    "\n",
    "1. ¿Qué sucede al correr el siguiente programa: `\"Una gran maquina\".find()`?\n",
    "2. Crea un programa que transforme el siguiente string en minúsculas `\"MINUSCULAS\"` (*hint*: usa el método `.lower`)"
   ]
  },
  {
   "cell_type": "markdown",
   "metadata": {
    "slideshow": {
     "slide_type": "slide"
    }
   },
   "source": [
    "### *String Slicing*\n",
    "En ocasiones, nos interesa acceder al subconjunto de una sequencia de carácteres (`str`). En python, esto se conoce como *slicing*."
   ]
  },
  {
   "cell_type": "markdown",
   "metadata": {},
   "source": [
    "La sintáxis para acceder al $i$-ésimo elemento de un string es el siguiente:\n",
    "```python\n",
    "\"string\"[i]\n",
    "```\n",
    "\n",
    "**Nota:** Python cuenta desde cero, por lo tanto, el primer índice de un `str` es `0`."
   ]
  },
  {
   "cell_type": "code",
   "execution_count": 18,
   "metadata": {
    "slideshow": {
     "slide_type": "fragment"
    }
   },
   "outputs": [
    {
     "name": "stdout",
     "output_type": "stream",
     "text": [
      "M\n",
      "é\n",
      "x\n"
     ]
    }
   ],
   "source": [
    "print(\"México\"[0])\n",
    "print(\"México\"[1])\n",
    "print(\"México\"[2])"
   ]
  },
  {
   "cell_type": "markdown",
   "metadata": {
    "slideshow": {
     "slide_type": "fragment"
    }
   },
   "source": [
    "¿Cómo accederíamos al último carácter del string `\"Outlier\"`?"
   ]
  },
  {
   "cell_type": "code",
   "execution_count": 19,
   "metadata": {
    "slideshow": {
     "slide_type": "fragment"
    }
   },
   "outputs": [
    {
     "data": {
      "text/plain": [
       "'r'"
      ]
     },
     "execution_count": 19,
     "metadata": {},
     "output_type": "execute_result"
    }
   ],
   "source": [
    "# La manera incorrecta:\n",
    "\"Outlier\"[len(\"Outlier\") - 1]"
   ]
  },
  {
   "cell_type": "markdown",
   "metadata": {},
   "source": [
    "Python puede contar de izquierda a derecha (empezando con `0`) y de derecha a izquierda (empezando con `-1`)\n",
    "```c\n",
    " P   Y   T   H   O   N\n",
    " 0   1   2   3   4   5\n",
    "-6  -5  -4  -3  -2  -1\n",
    "```"
   ]
  },
  {
   "cell_type": "code",
   "execution_count": 20,
   "metadata": {
    "slideshow": {
     "slide_type": "fragment"
    }
   },
   "outputs": [
    {
     "data": {
      "text/plain": [
       "'r'"
      ]
     },
     "execution_count": 20,
     "metadata": {},
     "output_type": "execute_result"
    }
   ],
   "source": [
    "# La manera correcta:\n",
    "\"Outlier\"[-1]"
   ]
  },
  {
   "cell_type": "markdown",
   "metadata": {
    "slideshow": {
     "slide_type": "slide"
    }
   },
   "source": [
    "### Slicing:\n",
    "Muchas veces no es suficiente contar con un solo elemento. Para obtener un corte sucesivo en python, usamos *slicing* de la siguiente manera\n",
    "\n",
    "```python\n",
    "\"slicing\"[ini:fin]\n",
    "```\n",
    "\n",
    "`fin` es el número del primer índice que **no** se estaría considerando."
   ]
  },
  {
   "cell_type": "code",
   "execution_count": 21,
   "metadata": {
    "slideshow": {
     "slide_type": "fragment"
    }
   },
   "outputs": [
    {
     "data": {
      "text/plain": [
       "'yth'"
      ]
     },
     "execution_count": 21,
     "metadata": {},
     "output_type": "execute_result"
    }
   ],
   "source": [
    "# P Y T H O N\n",
    "# 0 1 2 3 4 5\n",
    "\"Python\"[1:4]"
   ]
  },
  {
   "cell_type": "markdown",
   "metadata": {},
   "source": [
    "En general, se puede hacer el *slice* de un string en cualquiera de las siguientes maneras\n",
    "```python\n",
    "\"slicing\"[ini:fin] # Del índice *ini* hasta el índice *fin - 1*\n",
    "\"slicing\"[ini:]    # Del indice *ini* hasta el fin del string\n",
    "\"slicing\"[:fin]    # Del inicio del string hasta  *fin - 1*\n",
    "\"slicing\"[:]       # Una copia del string\n",
    "```"
   ]
  },
  {
   "cell_type": "code",
   "execution_count": 22,
   "metadata": {
    "slideshow": {
     "slide_type": "fragment"
    }
   },
   "outputs": [
    {
     "data": {
      "text/plain": [
       "'Py'"
      ]
     },
     "execution_count": 22,
     "metadata": {},
     "output_type": "execute_result"
    }
   ],
   "source": [
    "#  P  Y  T  H  O  N\n",
    "#  0  1  2  3  4  5\n",
    "# -6 -5 -4 -3 -2 -1\n",
    "\"Python\"[:-4]"
   ]
  },
  {
   "cell_type": "markdown",
   "metadata": {},
   "source": [
    "<h2 style=\"color:#B22222\">Ejercicios</h2>\n",
    "\n",
    "Dado el string `\"Python\"`,\n",
    "1. Obten del primer al tercer carácter\n",
    "2. Obten del tercer al último carácter\n",
    "3. Obten del segundo al cuárto carácter\n",
    "4. ¿En que resulta la siguiente línea de código: `\"Python\"[::2]`? ¿Qué efecto tuvo sobre el string?\n",
    "5. ¿En que resulta la siguiente línea de código: `\"Python\"[::-1]`?\n",
    "6. Explica que hace el siguiente slicing `\"string\"[ini:fin:k]`, para enteros no negativos `ini`, `fin` y `k`."
   ]
  },
  {
   "cell_type": "markdown",
   "metadata": {
    "slideshow": {
     "slide_type": "slide"
    }
   },
   "source": [
    "## Enteros `int` y flotantes `float`\n",
    "Python contiene clases de objetos numéricos."
   ]
  },
  {
   "cell_type": "code",
   "execution_count": 23,
   "metadata": {
    "slideshow": {
     "slide_type": "fragment"
    }
   },
   "outputs": [
    {
     "data": {
      "text/plain": [
       "int"
      ]
     },
     "execution_count": 23,
     "metadata": {},
     "output_type": "execute_result"
    }
   ],
   "source": [
    "type(4)"
   ]
  },
  {
   "cell_type": "code",
   "execution_count": 24,
   "metadata": {
    "slideshow": {
     "slide_type": "fragment"
    }
   },
   "outputs": [
    {
     "data": {
      "text/plain": [
       "float"
      ]
     },
     "execution_count": 24,
     "metadata": {},
     "output_type": "execute_result"
    }
   ],
   "source": [
    "type(4.0)"
   ]
  },
  {
   "cell_type": "markdown",
   "metadata": {
    "slideshow": {
     "slide_type": "slide"
    }
   },
   "source": [
    "## Operaciones Arítmeticas"
   ]
  },
  {
   "cell_type": "code",
   "execution_count": 25,
   "metadata": {
    "slideshow": {
     "slide_type": "fragment"
    }
   },
   "outputs": [
    {
     "data": {
      "text/plain": [
       "5"
      ]
     },
     "execution_count": 25,
     "metadata": {},
     "output_type": "execute_result"
    }
   ],
   "source": [
    "# Suma\n",
    "3 + 2"
   ]
  },
  {
   "cell_type": "code",
   "execution_count": 26,
   "metadata": {
    "slideshow": {
     "slide_type": "fragment"
    }
   },
   "outputs": [
    {
     "data": {
      "text/plain": [
       "1"
      ]
     },
     "execution_count": 26,
     "metadata": {},
     "output_type": "execute_result"
    }
   ],
   "source": [
    "# Resta\n",
    "3 - 2"
   ]
  },
  {
   "cell_type": "code",
   "execution_count": 27,
   "metadata": {
    "slideshow": {
     "slide_type": "fragment"
    }
   },
   "outputs": [
    {
     "data": {
      "text/plain": [
       "6"
      ]
     },
     "execution_count": 27,
     "metadata": {},
     "output_type": "execute_result"
    }
   ],
   "source": [
    "# Multiplicación\n",
    "3 * 2"
   ]
  },
  {
   "cell_type": "code",
   "execution_count": 28,
   "metadata": {
    "slideshow": {
     "slide_type": "fragment"
    }
   },
   "outputs": [
    {
     "data": {
      "text/plain": [
       "1.5"
      ]
     },
     "execution_count": 28,
     "metadata": {},
     "output_type": "execute_result"
    }
   ],
   "source": [
    "# División\n",
    "3 / 2"
   ]
  },
  {
   "cell_type": "code",
   "execution_count": 29,
   "metadata": {
    "slideshow": {
     "slide_type": "fragment"
    }
   },
   "outputs": [
    {
     "data": {
      "text/plain": [
       "1"
      ]
     },
     "execution_count": 29,
     "metadata": {},
     "output_type": "execute_result"
    }
   ],
   "source": [
    "# División entera (elimina residuo)\n",
    "3 // 2"
   ]
  },
  {
   "cell_type": "code",
   "execution_count": 30,
   "metadata": {
    "slideshow": {
     "slide_type": "fragment"
    }
   },
   "outputs": [
    {
     "data": {
      "text/plain": [
       "9"
      ]
     },
     "execution_count": 30,
     "metadata": {},
     "output_type": "execute_result"
    }
   ],
   "source": [
    "# Potencia. Equivalente a pow(3, 2)\n",
    "3 ** 2"
   ]
  },
  {
   "cell_type": "code",
   "execution_count": 31,
   "metadata": {
    "slideshow": {
     "slide_type": "fragment"
    }
   },
   "outputs": [
    {
     "data": {
      "text/plain": [
       "1"
      ]
     },
     "execution_count": 31,
     "metadata": {},
     "output_type": "execute_result"
    }
   ],
   "source": [
    "# Residuo\n",
    "3 % 2"
   ]
  },
  {
   "cell_type": "markdown",
   "metadata": {
    "slideshow": {
     "slide_type": "slide"
    }
   },
   "source": [
    "### Funciones Numéricas"
   ]
  },
  {
   "cell_type": "code",
   "execution_count": 32,
   "metadata": {
    "slideshow": {
     "slide_type": "fragment"
    }
   },
   "outputs": [
    {
     "data": {
      "text/plain": [
       "3.142"
      ]
     },
     "execution_count": 32,
     "metadata": {},
     "output_type": "execute_result"
    }
   ],
   "source": [
    "round(3.141592653589793, 3)"
   ]
  },
  {
   "cell_type": "code",
   "execution_count": 33,
   "metadata": {
    "slideshow": {
     "slide_type": "fragment"
    }
   },
   "outputs": [
    {
     "data": {
      "text/plain": [
       "9"
      ]
     },
     "execution_count": 33,
     "metadata": {},
     "output_type": "execute_result"
    }
   ],
   "source": [
    "max(-3, 1, 9, 4.9)"
   ]
  },
  {
   "cell_type": "code",
   "execution_count": 34,
   "metadata": {
    "slideshow": {
     "slide_type": "fragment"
    }
   },
   "outputs": [
    {
     "data": {
      "text/plain": [
       "-3"
      ]
     },
     "execution_count": 34,
     "metadata": {},
     "output_type": "execute_result"
    }
   ],
   "source": [
    "min(-3, 1)"
   ]
  },
  {
   "cell_type": "code",
   "execution_count": 35,
   "metadata": {
    "slideshow": {
     "slide_type": "fragment"
    }
   },
   "outputs": [
    {
     "data": {
      "text/plain": [
       "(1+2j)"
      ]
     },
     "execution_count": 35,
     "metadata": {},
     "output_type": "execute_result"
    }
   ],
   "source": [
    "complex(1, 2)"
   ]
  },
  {
   "cell_type": "code",
   "execution_count": 36,
   "metadata": {
    "slideshow": {
     "slide_type": "fragment"
    }
   },
   "outputs": [
    {
     "data": {
      "text/plain": [
       "'0b1010'"
      ]
     },
     "execution_count": 36,
     "metadata": {},
     "output_type": "execute_result"
    }
   ],
   "source": [
    "bin(10)"
   ]
  },
  {
   "cell_type": "code",
   "execution_count": 37,
   "metadata": {
    "slideshow": {
     "slide_type": "fragment"
    }
   },
   "outputs": [
    {
     "data": {
      "text/plain": [
       "'10,000,000,000.00'"
      ]
     },
     "execution_count": 37,
     "metadata": {},
     "output_type": "execute_result"
    }
   ],
   "source": [
    "format(1e10, \",.2f\")"
   ]
  },
  {
   "cell_type": "code",
   "execution_count": 38,
   "metadata": {
    "slideshow": {
     "slide_type": "fragment"
    }
   },
   "outputs": [
    {
     "data": {
      "text/plain": [
       "'76.45%'"
      ]
     },
     "execution_count": 38,
     "metadata": {},
     "output_type": "execute_result"
    }
   ],
   "source": [
    "format(0.7645, \".2%\")"
   ]
  },
  {
   "cell_type": "code",
   "execution_count": 39,
   "metadata": {
    "slideshow": {
     "slide_type": "fragment"
    }
   },
   "outputs": [
    {
     "data": {
      "text/plain": [
       "3.9999"
      ]
     },
     "execution_count": 39,
     "metadata": {},
     "output_type": "execute_result"
    }
   ],
   "source": [
    "float(\"3.9999\")"
   ]
  },
  {
   "cell_type": "code",
   "execution_count": 40,
   "metadata": {
    "slideshow": {
     "slide_type": "fragment"
    }
   },
   "outputs": [
    {
     "data": {
      "text/plain": [
       "10"
      ]
     },
     "execution_count": 40,
     "metadata": {},
     "output_type": "execute_result"
    }
   ],
   "source": [
    "int(\"10\")"
   ]
  },
  {
   "cell_type": "markdown",
   "metadata": {},
   "source": [
    "<h2 style=\"color:#B22222\">Ejercicios</h2>\n",
    "\n",
    "¿Cuál es el resultado de evaluar lo siguiente?\n",
    "1. `2 ** 3 / 4` \n",
    "2. `(1 * (3 - 3 % 10) + 10) / 10`\n",
    "3. `10 % 10 + 1`\n",
    "4. `3 // 2 + 3 % 2`\n",
    "5. `type(1 + 2.3)`\n",
    "6. `6 +\"5\"` ¿Qué problema existe y cómo lo solucionarías? "
   ]
  },
  {
   "cell_type": "markdown",
   "metadata": {
    "slideshow": {
     "slide_type": "slide"
    }
   },
   "source": [
    "## Variables \n",
    "Una variable es un lugar en memoria la cual guarda un objeto. En python, definimos una variable de la siguiente manera:\n",
    "```python\n",
    "nombre_variable = <objeto>\n",
    "```\n",
    "\n",
    "**Reglas**:\n",
    "1. Una variable puede contener cualquier carácter alfanumérico o un guión bajo\n",
    "2. Una variable **no** puede empezar con un carácter numérico `0-9`\n",
    "3. Una variable distingue entre mayúsculas y minúsculas, e.g., `Nombre != nombre`."
   ]
  },
  {
   "cell_type": "code",
   "execution_count": 41,
   "metadata": {
    "slideshow": {
     "slide_type": "fragment"
    }
   },
   "outputs": [],
   "source": [
    "nombre = \"Guido\"\n",
    "apellido = \"van Rossum\""
   ]
  },
  {
   "cell_type": "code",
   "execution_count": 42,
   "metadata": {
    "slideshow": {
     "slide_type": "fragment"
    }
   },
   "outputs": [
    {
     "name": "stdout",
     "output_type": "stream",
     "text": [
      "Guido\n"
     ]
    }
   ],
   "source": [
    "print(nombre)"
   ]
  },
  {
   "cell_type": "code",
   "execution_count": 43,
   "metadata": {
    "slideshow": {
     "slide_type": "fragment"
    }
   },
   "outputs": [
    {
     "name": "stdout",
     "output_type": "stream",
     "text": [
      "Guido van Rossum\n"
     ]
    }
   ],
   "source": [
    "print(nombre, apellido)"
   ]
  },
  {
   "cell_type": "code",
   "execution_count": 44,
   "metadata": {
    "slideshow": {
     "slide_type": "fragment"
    }
   },
   "outputs": [
    {
     "name": "stdout",
     "output_type": "stream",
     "text": [
      "van Rossum, Guido\n"
     ]
    }
   ],
   "source": [
    "print(apellido, nombre, sep=\", \")"
   ]
  },
  {
   "cell_type": "markdown",
   "metadata": {},
   "source": [
    "### String Formatting\n",
    "En ocasiones, es deseable tener un string modelos sobre el cuál mostrar el valor de variables.  \n",
    "Consideremos las variables `nombre` y `apellido` y supongamos que deseamos imprimir en la consola\n",
    "```python\n",
    "\"Hola, <nombre>. Te apellidas <apellido>\"\n",
    "```\n",
    "¿De qué manera podemos hacer esto en Python?"
   ]
  },
  {
   "cell_type": "code",
   "execution_count": 45,
   "metadata": {
    "scrolled": true
   },
   "outputs": [
    {
     "name": "stdout",
     "output_type": "stream",
     "text": [
      "Hola, Guido. Te apellidas van Rossum.\n"
     ]
    }
   ],
   "source": [
    "# V.01: Usando Print y dividir los valores a imprimir en varios argumentos.\n",
    "# Desventaja: Si quitamos 'print', el resultado no es un string.\n",
    "print(\"Hola, \", nombre, \". Te apellidas \", apellido, \".\", sep=\"\")"
   ]
  },
  {
   "cell_type": "code",
   "execution_count": 46,
   "metadata": {},
   "outputs": [
    {
     "name": "stdout",
     "output_type": "stream",
     "text": [
      "Hola, Guido. Te apellidas van Rossum.\n"
     ]
    }
   ],
   "source": [
    "# V.02: Usando dividir los valores a imprimir y agruparlos por medio de \"+\"\n",
    "print(\"Hola, \" + nombre + \". Te apellidas \" + apellido + \".\")"
   ]
  },
  {
   "cell_type": "code",
   "execution_count": 47,
   "metadata": {},
   "outputs": [
    {
     "name": "stdout",
     "output_type": "stream",
     "text": [
      "Hola, Guido. Te apellidas van Rossum\n"
     ]
    }
   ],
   "source": [
    "# V.03: Usando el método `.format`\n",
    "# Si agregamos el símbolo de llaves ({}) dentro de un string,\n",
    "# al usar el método `format`, podemos asignar un valor por cada llave\n",
    "# asignada en el string\n",
    "print(\"Hola, {}. Te apellidas {}\".format(nombre, apellido))"
   ]
  },
  {
   "cell_type": "code",
   "execution_count": 48,
   "metadata": {},
   "outputs": [
    {
     "name": "stdout",
     "output_type": "stream",
     "text": [
      "Hola, Guido. Te apellidas Van Rossum\n"
     ]
    }
   ],
   "source": [
    "# V.03.1: Usando el método `.format`\n",
    "# Opcionalmente, podemos asignar variables (por definir) dentro de las llaves.\n",
    "# Esto último proporciona mayor legilibilidad al leer el código\n",
    "print(\"Hola, {nombre}. Te apellidas {apellido}\".format(nombre=\"Guido\", apellido=\"Van Rossum\"))"
   ]
  },
  {
   "cell_type": "code",
   "execution_count": 49,
   "metadata": {},
   "outputs": [
    {
     "name": "stdout",
     "output_type": "stream",
     "text": [
      "Hola, Guido. Te apellidas van Rossum\n"
     ]
    }
   ],
   "source": [
    "# V.04: f-string.\n",
    "# Si agregamos una 'f', un string con corchetes adentro\n",
    "# evalua la expresión dentro de ellos (Python 3.6 en adelante)\n",
    "print(f\"Hola, {nombre}. Te apellidas {apellido}\")"
   ]
  },
  {
   "cell_type": "code",
   "execution_count": 50,
   "metadata": {},
   "outputs": [
    {
     "name": "stdout",
     "output_type": "stream",
     "text": [
      "2 + 5 = 7\n"
     ]
    }
   ],
   "source": [
    "# Un f-string puede evaluar cualquier expresión dentro de las llaves {}\n",
    "num1 = 2\n",
    "num2 = 5\n",
    "print(f\"{num1} + {num2} = {num1 + num2}\")"
   ]
  },
  {
   "cell_type": "markdown",
   "metadata": {},
   "source": [
    "### Inputs\n",
    "Podemos asignarle el valor de una variable asignada por el usuario por medio de la función `input`\n",
    "\n",
    "```python\n",
    "var = input(\"Mensaje al usario\")\n",
    "```\n",
    "\n",
    "Por default, el resultado de un `input` es de tipo `str`."
   ]
  },
  {
   "cell_type": "code",
   "execution_count": 2,
   "metadata": {},
   "outputs": [
    {
     "name": "stdout",
     "output_type": "stream",
     "text": [
      "Dame tu nombre: Gerardo\n",
      "Dame tu apellido: Durán Martín\n",
      "Hola Gerardo. Te apellidas Durán Martín\n"
     ]
    }
   ],
   "source": [
    "nombre = input(\"Dame tu nombre: \")\n",
    "apellido = input(\"Dame tu apellido: \")\n",
    "print(f\"Hola {nombre}. Te apellidas {apellido}\")"
   ]
  },
  {
   "cell_type": "markdown",
   "metadata": {},
   "source": [
    "<h2 style=\"color:#B22222\">Ejercicios</h2>\n",
    "\n",
    "1. Calcula el valor presente de un bono cupón zero con valor nominal $C=100$, tasa de interés pagadera anual $i=7\\%$ y vencimiento a  $t=10$ años. El precio del bono cupón zero está dado por\n",
    "\n",
    "$$\n",
    "    \\frac{C}{(1 + i)^t}\n",
    "$$\n",
    "\n",
    "2. Modifica el programa anterior: por medio de la función `input`, pídele al usuario un valor nominal `C`, una tasa de interés `i` y un vencimiento a `y` años. Calcula el valor del bono cupón zero y guárdala dentro de la variable `B`.\n",
    "\n",
    "3. Escribe un programa que pida el nombre y la edad del usuario. Posteriormente, deberá imprimir el nombre del usuario repetido el mismo número de su edad; cada repetición del nombre en una nueva línea. Por ejemplo, para un usuario `\"Toño\"` con `5` años de edad, el programa deberá mostrar lo siguiente:\n",
    "```\n",
    "¿Cuál es tu nombre? Toño\n",
    "¿Cuál es tu edad? 5\n",
    "Toño\n",
    "Toño\n",
    "Toño\n",
    "Toño\n",
    "Toño\n",
    "```\n",
    "\n",
    "4. Considerando la variable `trabalenguas` (definida abajo, elimina todas las `\"r\"` y `\"s\"` del string.\n",
    "```python\n",
    "trabalenguas = \"\"\"En tres tristes trastos de trigo,\n",
    "tres tristes tigres comían trigo.\n",
    "Comían trigo, tres tristes tigres,\n",
    "en tres tristes trastos de trigo.\"\"\"\n",
    "```\n",
    "5. Escribe un programa que le pida al usuario una `frase` y una `palabra_objetivo`; el programa deberá imprimir en la pantalla todos los carácteres posteriores (no espacios) a la palabra objetivo. Por ejemplo, si `frase = \"Como valuar un forward-starting swap\"` y `palabra_objetivo = \"un\"`, el programa debe regresar `forward-starting swap`."
   ]
  }
 ],
 "metadata": {
  "celltoolbar": "Slideshow",
  "kernelspec": {
   "display_name": "Python 3",
   "language": "python",
   "name": "python3"
  },
  "language_info": {
   "codemirror_mode": {
    "name": "ipython",
    "version": 3
   },
   "file_extension": ".py",
   "mimetype": "text/x-python",
   "name": "python",
   "nbconvert_exporter": "python",
   "pygments_lexer": "ipython3",
   "version": "3.7.3"
  },
  "widgets": {
   "application/vnd.jupyter.widget-state+json": {
    "state": {
     "026b61e32613440393e77d84bc143343": {
      "model_module": "@jupyter-widgets/controls",
      "model_module_version": "1.1.0",
      "model_name": "SliderStyleModel",
      "state": {
       "description_width": ""
      }
     },
     "143ce3b1127f4fe1b27f4f629d9c2dee": {
      "model_module": "@jupyter-widgets/controls",
      "model_module_version": "1.1.0",
      "model_name": "FloatSliderModel",
      "state": {
       "description": "spread",
       "layout": "IPY_MODEL_ad59518de36844da9bb02ca2afe14fbc",
       "max": 10,
       "step": 0.5,
       "style": "IPY_MODEL_ce22dffffd444300b7c66b8198bae03b",
       "value": 5
      }
     },
     "26f885e1fd69473fb1a6b4a1ccf8df6b": {
      "model_module": "@jupyter-widgets/base",
      "model_module_version": "1.0.0",
      "model_name": "LayoutModel",
      "state": {}
     },
     "60a4cf854d794acbaf8c4804aae13be3": {
      "model_module": "@jupyter-widgets/controls",
      "model_module_version": "1.1.0",
      "model_name": "FloatSliderModel",
      "state": {
       "description": "k2",
       "layout": "IPY_MODEL_8f2aa50ece214a76b1d04f126b234ded",
       "max": 20,
       "style": "IPY_MODEL_026b61e32613440393e77d84bc143343",
       "value": 10
      }
     },
     "76ee93b57e044c858aa38202b5cbd23c": {
      "model_module": "@jupyter-widgets/output",
      "model_module_version": "1.1.0",
      "model_name": "OutputModel",
      "state": {
       "_model_module_version": "1.1.0",
       "_view_module_version": "1.1.0",
       "layout": "IPY_MODEL_26f885e1fd69473fb1a6b4a1ccf8df6b",
       "outputs": [
        {
         "data": {
          "image/png": "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\n",
          "text/plain": "<matplotlib.figure.Figure at 0x106116978>"
         },
         "metadata": {},
         "output_type": "display_data"
        }
       ]
      }
     },
     "8f2aa50ece214a76b1d04f126b234ded": {
      "model_module": "@jupyter-widgets/base",
      "model_module_version": "1.0.0",
      "model_name": "LayoutModel",
      "state": {}
     },
     "979f6dd8a1ed4dd2973d24a173984609": {
      "model_module": "@jupyter-widgets/controls",
      "model_module_version": "1.1.0",
      "model_name": "VBoxModel",
      "state": {
       "_dom_classes": [
        "widget-interact"
       ],
       "children": [
        "IPY_MODEL_143ce3b1127f4fe1b27f4f629d9c2dee",
        "IPY_MODEL_60a4cf854d794acbaf8c4804aae13be3",
        "IPY_MODEL_76ee93b57e044c858aa38202b5cbd23c"
       ],
       "layout": "IPY_MODEL_d7fabbe4b1134b9db6b0c244e3ada0dc"
      }
     },
     "ad59518de36844da9bb02ca2afe14fbc": {
      "model_module": "@jupyter-widgets/base",
      "model_module_version": "1.0.0",
      "model_name": "LayoutModel",
      "state": {}
     },
     "ce22dffffd444300b7c66b8198bae03b": {
      "model_module": "@jupyter-widgets/controls",
      "model_module_version": "1.1.0",
      "model_name": "SliderStyleModel",
      "state": {
       "description_width": ""
      }
     },
     "d7fabbe4b1134b9db6b0c244e3ada0dc": {
      "model_module": "@jupyter-widgets/base",
      "model_module_version": "1.0.0",
      "model_name": "LayoutModel",
      "state": {}
     }
    },
    "version_major": 2,
    "version_minor": 0
   }
  }
 },
 "nbformat": 4,
 "nbformat_minor": 2
}
