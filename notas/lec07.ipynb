{
 "cells": [
  {
   "cell_type": "markdown",
   "metadata": {
    "slideshow": {
     "slide_type": "slide"
    }
   },
   "source": [
    "<img src=\"../files/misc/logo.gif\" width=300/>\n",
    "<h1 style=\"color:#872325\"> Más modulos del <i> standard Library</i></h1>"
   ]
  },
  {
   "cell_type": "markdown",
   "metadata": {
    "slideshow": {
     "slide_type": "slide"
    }
   },
   "source": [
    "## Regex\n",
    "\n",
    "[Regex](https://docs.python.org/3.4/library/re.html#module-re) o *Regular Expression* es un texto que describe un patrón de busqueda dentro de un *corpus* (conjunto de texto). \n",
    "\n",
    "Un *regex* nos ayuda a encontrar patrones dentro de un texto tanto para búsqueda como remplazo de texto. En ocasiones, métodos como `str.replace` no son suficientes para un objecivo, en esos casos usamos *regex*.\n",
    "\n",
    "En Python, la librería para usar *regular expressions* es `re`."
   ]
  },
  {
   "cell_type": "code",
   "execution_count": 1,
   "metadata": {
    "slideshow": {
     "slide_type": "fragment"
    }
   },
   "outputs": [],
   "source": [
    "import re"
   ]
  },
  {
   "cell_type": "markdown",
   "metadata": {},
   "source": [
    "Como un ejemplo para motivar su uso, consideremos el cuento *The Egg* por Andy Weir."
   ]
  },
  {
   "cell_type": "code",
   "execution_count": 2,
   "metadata": {
    "slideshow": {
     "slide_type": "slide"
    }
   },
   "outputs": [
    {
     "name": "stdout",
     "output_type": "stream",
     "text": [
      "The Egg\n",
      "By: Andy Weir\n",
      " \n",
      "You were on your way home when you died.\n",
      "It was a car accident. Nothing particularly remarkable, but fatal nonetheless. You left behind a wife and two children. It was a painless death. The EMTs tried their best to save you, but to no avail. Your body was so utterly shattered you were better off, trust me.\n",
      "And that’s when you met me.\n"
     ]
    }
   ],
   "source": [
    "%%bash\n",
    "head -6 ../files/lec07/egg.txt"
   ]
  },
  {
   "cell_type": "code",
   "execution_count": 3,
   "metadata": {
    "slideshow": {
     "slide_type": "slide"
    }
   },
   "outputs": [],
   "source": [
    "# Leemos cuento y lo guardamos dentro de la variable \"egg\"\n",
    "with open(\"../files/lec07/egg.txt\", \"r\", encoding=\"utf-8\") as f:\n",
    "    egg = f.read()"
   ]
  },
  {
   "cell_type": "markdown",
   "metadata": {},
   "source": [
    "Para encontrar un string mediante `re` usamos el método `.search`"
   ]
  },
  {
   "cell_type": "code",
   "execution_count": 4,
   "metadata": {
    "slideshow": {
     "slide_type": "fragment"
    }
   },
   "outputs": [
    {
     "data": {
      "text/plain": [
       "<_sre.SRE_Match object; span=(2372, 2377), match='human'>"
      ]
     },
     "execution_count": 4,
     "metadata": {},
     "output_type": "execute_result"
    }
   ],
   "source": [
    "re.search(r\"human\", egg)"
   ]
  },
  {
   "cell_type": "markdown",
   "metadata": {},
   "source": [
    "En ocasiones, encontrar la primera posición de una sola palabra no es suficiente.\n",
    "\n",
    "<h2 style=\"color:crimson\"> Ejercicio </h2>\n",
    "\n",
    "¿De qué manera podríamos encontrar cada una de las posiciones de incio del string `humano` usando únicamente Python?\n",
    "**Hint**: recuerda que el método `.find` toma un argumento opcional con la posición incial de búsqueda dentro del texto; si no existe ningun *match* después de la posición incial, `.find` regresa -1.\n",
    "\n",
    "ans:\n",
    "```\n",
    "[2372, 2653, 4538, 4995, 5350]\n",
    "```"
   ]
  },
  {
   "cell_type": "code",
   "execution_count": 5,
   "metadata": {},
   "outputs": [
    {
     "data": {
      "text/plain": [
       "[<_sre.SRE_Match object; span=(2372, 2377), match='human'>,\n",
       " <_sre.SRE_Match object; span=(2653, 2658), match='human'>,\n",
       " <_sre.SRE_Match object; span=(4538, 4543), match='human'>,\n",
       " <_sre.SRE_Match object; span=(4995, 5000), match='human'>,\n",
       " <_sre.SRE_Match object; span=(5350, 5355), match='human'>]"
      ]
     },
     "execution_count": 5,
     "metadata": {},
     "output_type": "execute_result"
    }
   ],
   "source": [
    "list(re.finditer(\"human\", egg))"
   ]
  },
  {
   "cell_type": "markdown",
   "metadata": {},
   "source": [
    "### Syntaxis básica de Regex\n",
    "\n",
    "El verdadero poder de *regex* es poder encontrar patrones de búsqueda sin declarar explícitamente qué es lo que se está buscando. Pensemos, por ejemplo, que quisieramos encontrar dentro de un texto las palabras *niño*, *niña*, *niños* o *niñas*. Hacerlo solamente con python sería una tarea ardua. Con regex, expresar la busqueda de este conjunto de palabras sería de la siguiente manera: `niñ[oa]s?`.\n",
    "\n",
    "Del ejemplo anterior, `[oa]` expresa un conjunto de donde se elige `a` u `o`; `s?` expresa que `s` es un carácter opcional. Al igual que Python, *regex* tiene una sintáxis. La sintáxis básica es la que sigue:\n",
    "\n",
    "1. `.` Encuentra cualquier carácter\n",
    "2. `\\s` Cualquier espacio en blanco\n",
    "3. `\\S` Cualquiera que no sea espacios en blanco\n",
    "4. `\\w` Cualquier carácter alfanumérico (`a`,..,`z`,`A`,..,`Z`,`0`,..,`9`)\n",
    "5. `\\W` Cualquier carácter no alfanumérico\n",
    "6. `(...)` Agrupa términos\n",
    "7. `(xxx|yyy)` Encuentra `xxx` o `yyy`.\n",
    "8. `Machines?` `s` es opcional (Encuentra `Machine` o `Machines`)\n",
    "9. `x*` Encuentra 0 o más repeticiones de `x`: ` `, `x`, `xxxxx...xxx`\n",
    "10. `x+` Encuentra 1 o más repeticiones de `x`: , `x`, `xxxxx...xxx`\n",
    "10. `[a-z]` encuentra cualquier letra minúscula (de `a` a la `z`)\n",
    "11. `x{4}` encuentra exactamente 4 repeticiones de `x`\n",
    "12. `x{1,4}` encuentra de 1 a 4 repeticiones de `x`\n",
    "13. `x{2, }` encuentra 2 o más repeticiones de `x`\n",
    "14. `^smth` encuentra `smth` al principio del string.\n",
    "15. `x[^abc]` encuentra cualquier conjunto de caracterés que no contenga ninguna `a`, `b` o `c` como segunda posicion. E.g., `xd`, `xe`, `x.`, `x-`\n",
    "16. `(?:aaa|bbb)` agrupa `aaa` o `bbb` sin regresarlo como un patrón encontrado. *capture but don't retrieve*.\n",
    "\n",
    "#### Dos Funciones de `re`\n",
    "`re.search(patron, string)`: Regresa la primera ocurrencia de buscar `patron` dentro de `string`. Regresa `None` si no encuentra.\n",
    "\n",
    "`re.findall(patron, string)`: Regresa una lista de todas ocurrencias en `string` buscando `patron`.\n",
    "\n",
    "`re.sub(patron, remplazo, string)`"
   ]
  },
  {
   "cell_type": "code",
   "execution_count": 6,
   "metadata": {},
   "outputs": [
    {
     "data": {
      "text/plain": [
       "<_sre.SRE_Match object; span=(0, 7), match='The Egg'>"
      ]
     },
     "execution_count": 6,
     "metadata": {},
     "output_type": "execute_result"
    }
   ],
   "source": [
    "# '.' Encuentra cualquier caracter.\n",
    "re.search(r\"The E..\", egg)"
   ]
  },
  {
   "cell_type": "code",
   "execution_count": 7,
   "metadata": {},
   "outputs": [
    {
     "data": {
      "text/plain": [
       "<_sre.SRE_Match object; span=(59, 63), match='died'>"
      ]
     },
     "execution_count": 7,
     "metadata": {},
     "output_type": "execute_result"
    }
   ],
   "source": [
    "# Encuentra cualquier letra en a,..,z que se repita de 1 a 4 veces y\n",
    "# termine en `ed`\n",
    "re.search(r\"[a-z]{1,4}ed\", egg)"
   ]
  },
  {
   "cell_type": "code",
   "execution_count": 8,
   "metadata": {},
   "outputs": [
    {
     "data": {
      "text/plain": [
       "<_sre.SRE_Match object; span=(422, 428), match='I said'>"
      ]
     },
     "execution_count": 8,
     "metadata": {},
     "output_type": "execute_result"
    }
   ],
   "source": [
    "# Encuentra cualquier 'I' seguido de un espacio y cualquier conjunto \n",
    "# de letras miúsculas (al menos una). El patrón se pierde apenas se encuentre\n",
    "# con cualquier carácter no dentro [a, b, ..., z]\n",
    "re.search(r\"I\\s(?:[a-z]|’)+\", egg)"
   ]
  },
  {
   "cell_type": "code",
   "execution_count": 9,
   "metadata": {},
   "outputs": [
    {
     "data": {
      "text/plain": [
       "<_sre.SRE_Match object; span=(24, 32), match='You were'>"
      ]
     },
     "execution_count": 9,
     "metadata": {},
     "output_type": "execute_result"
    }
   ],
   "source": [
    "# '[xy]aaa' Encuentra 'xaaa' o 'yaaa'.\n",
    "re.search(r\"[Yy]ou\\s\\w+\", egg)"
   ]
  },
  {
   "cell_type": "code",
   "execution_count": 10,
   "metadata": {},
   "outputs": [
    {
     "data": {
      "text/plain": [
       "<_sre.SRE_Match object; span=(511, 514), match='kid'>"
      ]
     },
     "execution_count": 10,
     "metadata": {},
     "output_type": "execute_result"
    }
   ],
   "source": [
    "# Encuentra 'kids' o 'kid'\n",
    "re.search(r\"kids?\", egg)"
   ]
  },
  {
   "cell_type": "code",
   "execution_count": 11,
   "metadata": {},
   "outputs": [
    {
     "data": {
      "text/plain": [
       "['You were on your way home when you died.',\n",
       " 'You looked around.',\n",
       " 'You looked at me with fascination.',\n",
       " 'You followed along as we strode through the void.',\n",
       " 'I stopped walking and took you by the shoulders.',\n",
       " 'I looked you in the eye.',\n",
       " 'You stared blankly at me.',\n",
       " 'You fell silent.',\n",
       " 'You thought for a long time.']"
      ]
     },
     "execution_count": 11,
     "metadata": {},
     "output_type": "execute_result"
    }
   ],
   "source": [
    "# Encuentra todo conjunto de palabras cuya linea empiece\n",
    "# con 'You', 'I'; seguido de, al menos uno de: un carácter que se repita\n",
    "# al menos una vez luego de un espacio; finalizando con un punto '.'\n",
    "re.findall(r\"^(?:You|I)\\s(?:[a-z]+\\s?)+\\.\", egg, re.M)"
   ]
  },
  {
   "cell_type": "code",
   "execution_count": 12,
   "metadata": {},
   "outputs": [
    {
     "data": {
      "text/plain": [
       "'It w*s th* b*st *f t*m*s, *t w*s th* w*rst *f t*m*s, *t w*s th* *g* *f w*sd*m.'"
      ]
     },
     "execution_count": 12,
     "metadata": {},
     "output_type": "execute_result"
    }
   ],
   "source": [
    "text = \"It was the best of times, it was the worst of times, it was the age of wisdom.\"\n",
    "re.sub(\"[aeiou]\", \"*\", text)"
   ]
  },
  {
   "cell_type": "markdown",
   "metadata": {},
   "source": [
    "<h2 style=\"color:crimson\">Ejercicios</h2>\n",
    "\n",
    "1. Dado el string `S1 = \"aaa aba aca a.a a+a aaa\"`, encuentra todas las ocurrencias de conjunto de carácteres cuyo primer y tercer es `a` y el segundo carácter, ningun espacio en blanco o `a`\n",
    "\n",
    "2. Lee el archivo `../files/lec07/all_words.txt` y considera el diccionario `labels` \n",
    "```python\n",
    "labels = {'pos': ['afoot', 'catfoot', 'dogfoot', 'fanfoot', 'foody', 'foolery', 'foolish', 'fooster',\n",
    "                  'footage', 'foothot', 'footle', 'footpad', 'footway', 'hotfoot', 'jawfoot', 'mafoo',\n",
    "                  'nonfood', 'padfoot', 'prefool', 'sfoot', 'unfool'],\n",
    "          'neg': ['Atlas', 'Aymoro', 'Iberic', 'Mahran', 'Ormazd', 'Silipan', 'altared', 'chandoo',\n",
    "                  'crenel', 'crooked', 'fardo', 'folksy', 'forest', 'hebamic', 'idgah', 'manlike',\n",
    "                  'marly', 'palazzi', 'sixfold', 'tarrock', 'unfold']}\n",
    "```\n",
    "Crea un programa usando regex que encuentre todas las palabras dentro de `pos` y ninguna de `neg`.\n",
    "3. Dada la variable `egg`, encuentra todas las frases que contengan `I’m ` seguido de una palabra con, al menos, 2 letras.\n",
    "\n",
    "4. Lee el archivo `../files/lec07/mails.txt`, encuentra el nombre del usuario para cada mail y guardalo en una lista(Si, por ejemplo, el mail es `\"g.duran@me.com\"`, el programa debería regresar `\"g.duran\"`).\n",
    "```python\n",
    "from string import punctuation\n",
    "```\n",
    "para resolver el problema\n",
    "5. Encuentra todas las ocurrencias dentro de la variable `egg` que empiecen con `the` ó `The` seguido de cualquier número de número de palabras y termine con `of`. E.g., `the meaning of`, `The grand adventures of`, `the big parade of`."
   ]
  },
  {
   "cell_type": "markdown",
   "metadata": {
    "slideshow": {
     "slide_type": "slide"
    }
   },
   "source": [
    "## Collections\n",
    "\n",
    "El módulo [collections](https://docs.python.org/3.6/library/collections.html#collections.Counter) implementa colecciones especializadas como alternativa a las incluidas en Python: `dict`, `list`, `set` y `tuples`. "
   ]
  },
  {
   "cell_type": "markdown",
   "metadata": {},
   "source": [
    "### Counter"
   ]
  },
  {
   "cell_type": "code",
   "execution_count": 13,
   "metadata": {
    "slideshow": {
     "slide_type": "fragment"
    }
   },
   "outputs": [],
   "source": [
    "from collections import Counter"
   ]
  },
  {
   "cell_type": "code",
   "execution_count": 14,
   "metadata": {
    "slideshow": {
     "slide_type": "slide"
    }
   },
   "outputs": [
    {
     "data": {
      "text/plain": [
       "Counter({'a': 2, 'b': 3, 'd': 3, 'c': 2})"
      ]
     },
     "execution_count": 14,
     "metadata": {},
     "output_type": "execute_result"
    }
   ],
   "source": [
    "c1 = Counter(\"aabbbddccd\")\n",
    "c1"
   ]
  },
  {
   "cell_type": "code",
   "execution_count": 15,
   "metadata": {
    "slideshow": {
     "slide_type": "slide"
    }
   },
   "outputs": [
    {
     "data": {
      "text/plain": [
       "0"
      ]
     },
     "execution_count": 15,
     "metadata": {},
     "output_type": "execute_result"
    }
   ],
   "source": [
    "# Cada elemento dentro de un Counter se indexa como un diccionario\n",
    "# cuya llave es el elemento seleccionado y el valor el número de\n",
    "# veces que dicha llave apareció en el iterable\n",
    "c1[\"z\"]"
   ]
  },
  {
   "cell_type": "code",
   "execution_count": 16,
   "metadata": {
    "slideshow": {
     "slide_type": "fragment"
    }
   },
   "outputs": [
    {
     "data": {
      "text/plain": [
       "[('I said', 14),\n",
       " ('you said', 6),\n",
       " ('You asked', 5),\n",
       " ('you were', 2),\n",
       " ('You looked', 2)]"
      ]
     },
     "execution_count": 16,
     "metadata": {},
     "output_type": "execute_result"
    }
   ],
   "source": [
    "# Encontramos todas las ocurrencias dentro de la variable 'egg'\n",
    "# que contengan 'I', 'You' o 'you' seguido de un espacio y cualquier conjunto \n",
    "# de, por lo menos, dos letra minúsucula de la 'a' a la 'z'\n",
    "you_i_verbc = Counter(re.findall(\"((?:[Yy]ou|I)\\s[a-z]{2,})\", egg))\n",
    "you_i_verbc.most_common(5)"
   ]
  },
  {
   "cell_type": "markdown",
   "metadata": {},
   "source": [
    "<h2 style=\"color:crimson\">Ejercicio</h2>\n",
    "1) Encuentra las palabras que más se repitan dentro de `egg`. Para esto, convierte cada letra a minúscula y valida tu resultado parcialmente:\n",
    "\n",
    "```python\n",
    ">>> all_words[\"you\"]\n",
    "66\n",
    ">>> all_words[\"what\"]\n",
    "11\n",
    ">>> all_words[\"you’re\"]\n",
    "10\n",
    ">>> all_words[\"i’m\"]\n",
    "7\n",
    "```"
   ]
  },
  {
   "cell_type": "markdown",
   "metadata": {},
   "source": [
    "### defaultdict\n",
    "Un `defaultdict` es un pseudo-diccionario de Python que nos permite manipular la entrada de cualquier nuevo elemento en el diccionario sin necesidad de declararlo como nuevo explicitamente."
   ]
  },
  {
   "cell_type": "code",
   "execution_count": 17,
   "metadata": {
    "slideshow": {
     "slide_type": "slide"
    }
   },
   "outputs": [],
   "source": [
    "from collections import defaultdict"
   ]
  },
  {
   "cell_type": "code",
   "execution_count": 18,
   "metadata": {
    "slideshow": {
     "slide_type": "slide"
    }
   },
   "outputs": [
    {
     "data": {
      "text/plain": [
       "{'derivados': ['opciones']}"
      ]
     },
     "execution_count": 18,
     "metadata": {},
     "output_type": "execute_result"
    }
   ],
   "source": [
    "# Supongamos queremos crear un diccionario llamado 'instrumentos'\n",
    "# con tipos y subtipos  de instrumentos financieros, donde cada\n",
    "# tipo de instrumentos es la llave y cada subtipo una lista.\n",
    "# Al querer agregar un nuevo subtipo de instrumentos'opciones', por ejemplo,\n",
    "# a la lista de derivados, tendríamos que asegurar que la llave a la que pertenece\n",
    "# aún no existe.\n",
    "instrumentos = {}\n",
    "if \"derivados\" not in instrumentos.keys():\n",
    "    instrumentos[\"derivados\"] = []\n",
    "    instrumentos[\"derivados\"].append(\"opciones\")\n",
    "instrumentos\n",
    "\n",
    "# Este problema se vuelve más complejo cuando tomamos en cuenta que\n",
    "# 'derivados' no es el único tipo de instrumento."
   ]
  },
  {
   "cell_type": "markdown",
   "metadata": {},
   "source": [
    "Una solución al problema anterior se logra mediante un `defaultdict` inicializado como una lista."
   ]
  },
  {
   "cell_type": "code",
   "execution_count": 19,
   "metadata": {
    "slideshow": {
     "slide_type": "fragment"
    }
   },
   "outputs": [
    {
     "data": {
      "text/plain": [
       "defaultdict(list,\n",
       "            {'derivados': ['opciones', 'forwards', 'swaps'],\n",
       "             'deuda': ['bonosM', 'cetes'],\n",
       "             'bursatil': ['aapl', 'goog']})"
      ]
     },
     "execution_count": 19,
     "metadata": {},
     "output_type": "execute_result"
    }
   ],
   "source": [
    "instrumentos = defaultdict(list)\n",
    "\n",
    "instrumentos[\"derivados\"].append(\"opciones\")\n",
    "instrumentos[\"derivados\"].append(\"forwards\")\n",
    "instrumentos[\"derivados\"].append(\"swaps\")\n",
    "instrumentos[\"deuda\"].append(\"bonosM\")\n",
    "instrumentos[\"deuda\"].append(\"cetes\")\n",
    "instrumentos[\"bursatil\"].append(\"aapl\")\n",
    "instrumentos[\"bursatil\"].append(\"goog\")\n",
    "\n",
    "instrumentos"
   ]
  },
  {
   "cell_type": "markdown",
   "metadata": {},
   "source": [
    "<h2 style=\"color:crimson\">Ejercicio</h2>\n",
    "\n",
    "Usando un `defaultdict` llamado `aapl_movements`, lee el archivo `../files/lec07/AAPL.json`, calcula los rendimientos diarios y cuenta los días en los que `AAPL` tuvo un rendimiento negativo usando la llave `neg` y una llave `pos`, la cual cuente los días en los que `AAPL` tuvo un rendimiento positivo.\n",
    "\n",
    "Recuerda cargar la libreria `json` y usar la función `json.load` para cargar los datos del archivo `AAPL.txt`.\n",
    "\n",
    "Los datos que nos interesan se encuentran dentro de la llave inicial `\"Time Series (Daily)\"` y, para cada fecha, la llave `\"5. adjusted close\"`"
   ]
  },
  {
   "cell_type": "code",
   "execution_count": 20,
   "metadata": {
    "slideshow": {
     "slide_type": "slide"
    }
   },
   "outputs": [],
   "source": [
    "from collections import namedtuple"
   ]
  },
  {
   "cell_type": "code",
   "execution_count": 21,
   "metadata": {
    "slideshow": {
     "slide_type": "fragment"
    }
   },
   "outputs": [],
   "source": [
    "Instrumento = namedtuple(\"Instrumento\", [\"nombre\", \"tipo\", \"mesa\"])\n",
    "i1 = Instrumento(nombre=\"Asian\", tipo=\"opcion\", mesa=\"dermx\")"
   ]
  },
  {
   "cell_type": "code",
   "execution_count": 22,
   "metadata": {
    "slideshow": {
     "slide_type": "fragment"
    }
   },
   "outputs": [
    {
     "data": {
      "text/plain": [
       "Instrumento(nombre='Asian', tipo='opcion', mesa='dermx')"
      ]
     },
     "execution_count": 22,
     "metadata": {},
     "output_type": "execute_result"
    }
   ],
   "source": [
    "i1"
   ]
  },
  {
   "cell_type": "code",
   "execution_count": 23,
   "metadata": {
    "slideshow": {
     "slide_type": "fragment"
    }
   },
   "outputs": [
    {
     "data": {
      "text/plain": [
       "('Asian', 'dermx')"
      ]
     },
     "execution_count": 23,
     "metadata": {},
     "output_type": "execute_result"
    }
   ],
   "source": [
    "i1.nombre, i1.mesa"
   ]
  },
  {
   "cell_type": "markdown",
   "metadata": {
    "slideshow": {
     "slide_type": "slide"
    }
   },
   "source": [
    "## Datetime "
   ]
  },
  {
   "cell_type": "code",
   "execution_count": 24,
   "metadata": {
    "slideshow": {
     "slide_type": "fragment"
    }
   },
   "outputs": [],
   "source": [
    "from datetime import datetime"
   ]
  },
  {
   "cell_type": "code",
   "execution_count": 25,
   "metadata": {
    "slideshow": {
     "slide_type": "slide"
    }
   },
   "outputs": [],
   "source": [
    "start_date = datetime(2016, 6, 23)"
   ]
  },
  {
   "cell_type": "code",
   "execution_count": 26,
   "metadata": {
    "slideshow": {
     "slide_type": "fragment"
    }
   },
   "outputs": [
    {
     "data": {
      "text/plain": [
       "3"
      ]
     },
     "execution_count": 26,
     "metadata": {},
     "output_type": "execute_result"
    }
   ],
   "source": [
    "# Devuelve la fecha de la semana como un entero donde lunes es 0 y domingo 6\n",
    "start_date.weekday()"
   ]
  },
  {
   "cell_type": "code",
   "execution_count": 27,
   "metadata": {
    "slideshow": {
     "slide_type": "fragment"
    }
   },
   "outputs": [
    {
     "data": {
      "text/plain": [
       "(2016, 6, 23)"
      ]
     },
     "execution_count": 27,
     "metadata": {},
     "output_type": "execute_result"
    }
   ],
   "source": [
    "start_date.year, start_date.month, start_date.day"
   ]
  },
  {
   "cell_type": "markdown",
   "metadata": {
    "slideshow": {
     "slide_type": "slide"
    }
   },
   "source": [
    "Dando formato a las fechas. Documentación en:\n",
    "\n",
    "https://docs.python.org/3/library/datetime.html?highlight=datetime#strftime-and-strptime-behavior"
   ]
  },
  {
   "cell_type": "code",
   "execution_count": 28,
   "metadata": {
    "slideshow": {
     "slide_type": "fragment"
    }
   },
   "outputs": [
    {
     "name": "stdout",
     "output_type": "stream",
     "text": [
      "06 23 2016\n"
     ]
    }
   ],
   "source": [
    "print(start_date.strftime(\"%m %d %Y\"))"
   ]
  },
  {
   "cell_type": "code",
   "execution_count": 29,
   "metadata": {
    "slideshow": {
     "slide_type": "fragment"
    }
   },
   "outputs": [
    {
     "data": {
      "text/plain": [
       "'Thursday, June 23 2016'"
      ]
     },
     "execution_count": 29,
     "metadata": {},
     "output_type": "execute_result"
    }
   ],
   "source": [
    "start_date.strftime(\"%A, %B %d %Y\")"
   ]
  },
  {
   "cell_type": "code",
   "execution_count": 30,
   "metadata": {
    "slideshow": {
     "slide_type": "slide"
    }
   },
   "outputs": [],
   "source": [
    "from datetime import timedelta"
   ]
  },
  {
   "cell_type": "code",
   "execution_count": 31,
   "metadata": {
    "slideshow": {
     "slide_type": "fragment"
    }
   },
   "outputs": [
    {
     "data": {
      "text/plain": [
       "datetime.timedelta(255)"
      ]
     },
     "execution_count": 31,
     "metadata": {},
     "output_type": "execute_result"
    }
   ],
   "source": [
    "duracion = timedelta(days=255)\n",
    "duracion"
   ]
  },
  {
   "cell_type": "code",
   "execution_count": 32,
   "metadata": {
    "slideshow": {
     "slide_type": "fragment"
    }
   },
   "outputs": [
    {
     "data": {
      "text/plain": [
       "'Sunday, March 05 2017'"
      ]
     },
     "execution_count": 32,
     "metadata": {},
     "output_type": "execute_result"
    }
   ],
   "source": [
    "maturity = start_date + duracion\n",
    "maturity.strftime(\"%A, %B %d %Y\")"
   ]
  },
  {
   "cell_type": "code",
   "execution_count": 33,
   "metadata": {
    "slideshow": {
     "slide_type": "fragment"
    }
   },
   "outputs": [
    {
     "data": {
      "text/plain": [
       "datetime.datetime(2012, 12, 25, 0, 0)"
      ]
     },
     "execution_count": 33,
     "metadata": {},
     "output_type": "execute_result"
    }
   ],
   "source": [
    "# De formato a fecha\n",
    "fecha = \"2012.12.25\"\n",
    "datetime.strptime(fecha, \"%Y.%m.%d\")"
   ]
  },
  {
   "cell_type": "code",
   "execution_count": 34,
   "metadata": {},
   "outputs": [
    {
     "data": {
      "text/plain": [
       "datetime.datetime(2010, 12, 25, 0, 0)"
      ]
     },
     "execution_count": 34,
     "metadata": {},
     "output_type": "execute_result"
    }
   ],
   "source": [
    "datetime.strptime(\"12/25/10\", \"%m/%d/%y\")"
   ]
  },
  {
   "cell_type": "markdown",
   "metadata": {
    "slideshow": {
     "slide_type": "slide"
    }
   },
   "source": [
    "<h3 style=\"color:crimson\"> Ejercicio </h3>\n",
    "\n",
    "1. Crea la función `timestep(init_date, n)` tal que, dada una fecha inicial y $n$ días de duración, calcule la fecha hábil final corriendo la fecha un día después al final de $n$ días si  cae en una fecha inhábil o en fin de semana. Para lograr esto, lee el archivo `../files/lec07/holidays.txt`\n",
    "\n",
    "Considera cualquier fecha entre 1/1/10 y 12/25/50.\n",
    "\n",
    "```python\n",
    ">>> timestep(datetime(2009, 12, 31), 1)\n",
    "datetime.datetime(2010, 1, 4, 0, 0)\n",
    "\n",
    ">>> timestep(datetime(2009, 12, 31), 2)\n",
    "datetime.datetime(2010, 1, 4, 0, 0)\n",
    "\n",
    ">>> timestep(datetime(2017, 12, 26), 4)\n",
    "datetime.datetime(2018, 1, 2, 0, 0)\n",
    "\n",
    ">>> timestep(datetime(2018, 2, 19), 2)\n",
    "datetime.datetime(2018, 2, 21, 0, 0)\n",
    "```\n",
    "\n",
    "2. Usando el archivo `6m_rates.csv`, crear el diccionario `tasas` donde las llaves sean las fechas (`datetime.datetime`) y los valores (`float`) las tasas a esa fecha.\n",
    "```python\n",
    ">>>tasas[datetime(2017, 2, 1)]\n",
    "2.58\n",
    ">>>tasas[datetime(2013, 4, 1)]\n",
    "1.9\n",
    "```\n",
    "\n",
    "3. Crear una función `tasa_compuesta` que, para una tasa nominal fija compuesta $n$ veces en un año, calcule el valor del nominal para cada periodo $k = 0,\\ldots, n$. \n",
    "```python\n",
    "def tasa_compuesta(inicio_periodo, nominal, tasa_nominal, n_periodos, path=\".\"):\n",
    "    pass\n",
    "```\n",
    "La función debe regresar un archivo `.csv` de nombre `cap_n.csv`; donde `n` es el número de veces de capitalización en un año."
   ]
  },
  {
   "cell_type": "markdown",
   "metadata": {
    "slideshow": {
     "slide_type": "slide"
    }
   },
   "source": [
    "## OS"
   ]
  },
  {
   "cell_type": "code",
   "execution_count": 35,
   "metadata": {
    "slideshow": {
     "slide_type": "fragment"
    }
   },
   "outputs": [],
   "source": [
    "import os"
   ]
  },
  {
   "cell_type": "code",
   "execution_count": 36,
   "metadata": {
    "slideshow": {
     "slide_type": "slide"
    }
   },
   "outputs": [
    {
     "data": {
      "text/plain": [
       "['lec08.ipynb',\n",
       " 'lec04.ipynb',\n",
       " 'lec06.ipynb',\n",
       " 'lec02.ipynb',\n",
       " '.ipynb_checkpoints',\n",
       " 'lec07.ipynb',\n",
       " 'lec05.ipynb',\n",
       " 'lec01.ipynb',\n",
       " 'lec03.ipynb']"
      ]
     },
     "execution_count": 36,
     "metadata": {},
     "output_type": "execute_result"
    }
   ],
   "source": [
    "os.listdir(\".\")"
   ]
  },
  {
   "cell_type": "code",
   "execution_count": 37,
   "metadata": {
    "slideshow": {
     "slide_type": "fragment"
    }
   },
   "outputs": [
    {
     "data": {
      "text/plain": [
       "'/Users/gerardoduran/Dropbox (Personal)/Analysic-Nabla/proyectos/cursos/python101'"
      ]
     },
     "execution_count": 37,
     "metadata": {},
     "output_type": "execute_result"
    }
   ],
   "source": [
    "os.path.abspath(\"..\")"
   ]
  },
  {
   "cell_type": "code",
   "execution_count": 38,
   "metadata": {
    "slideshow": {
     "slide_type": "fragment"
    }
   },
   "outputs": [],
   "source": [
    "os.mkdir(\"test_folder\")"
   ]
  },
  {
   "cell_type": "code",
   "execution_count": 39,
   "metadata": {},
   "outputs": [
    {
     "name": "stdout",
     "output_type": "stream",
     "text": [
      "lec01.ipynb  lec03.ipynb  lec05.ipynb  lec07.ipynb  \u001b[1m\u001b[36mtest_folder\u001b[m\u001b[m/\r\n",
      "lec02.ipynb  lec04.ipynb  lec06.ipynb  lec08.ipynb\r\n"
     ]
    }
   ],
   "source": [
    "ls"
   ]
  },
  {
   "cell_type": "code",
   "execution_count": 40,
   "metadata": {},
   "outputs": [],
   "source": [
    "os.removedirs(\"test_folder/\")"
   ]
  }
 ],
 "metadata": {
  "celltoolbar": "Slideshow",
  "kernelspec": {
   "display_name": "Python 3",
   "language": "python",
   "name": "python3"
  },
  "language_info": {
   "codemirror_mode": {
    "name": "ipython",
    "version": 3
   },
   "file_extension": ".py",
   "mimetype": "text/x-python",
   "name": "python",
   "nbconvert_exporter": "python",
   "pygments_lexer": "ipython3",
   "version": "3.6.6"
  }
 },
 "nbformat": 4,
 "nbformat_minor": 2
}
