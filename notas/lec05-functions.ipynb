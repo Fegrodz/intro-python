{
 "cells": [
  {
   "cell_type": "markdown",
   "metadata": {
    "slideshow": {
     "slide_type": "slide"
    }
   },
   "source": [
    "<img src=\"../files/misc/logo.gif\" width=300/>\n",
    "<h1 style=\"color:#872325\">Funciones</h1>"
   ]
  },
  {
   "cell_type": "markdown",
   "metadata": {},
   "source": [
    "* Una función, en programación, es una sección nombrada de un programa cuyo fin es realizar una tarea específica.\n",
    "* La mayoría de los lenguajes de programación, como es el caso de Python, contienen funciones ya definidas que pueden ser usadas por el usuario."
   ]
  },
  {
   "cell_type": "markdown",
   "metadata": {
    "slideshow": {
     "slide_type": "slide"
    }
   },
   "source": [
    "### Funciones que ya conocemos"
   ]
  },
  {
   "cell_type": "code",
   "execution_count": 1,
   "metadata": {
    "slideshow": {
     "slide_type": "fragment"
    }
   },
   "outputs": [
    {
     "data": {
      "text/plain": [
       "4"
      ]
     },
     "execution_count": 1,
     "metadata": {},
     "output_type": "execute_result"
    }
   ],
   "source": [
    "len([1, 2, 3, 4])"
   ]
  },
  {
   "cell_type": "code",
   "execution_count": 1,
   "metadata": {},
   "outputs": [
    {
     "data": {
      "text/plain": [
       "10"
      ]
     },
     "execution_count": 1,
     "metadata": {},
     "output_type": "execute_result"
    }
   ],
   "source": [
    "sum([1, 2, 3, 4])"
   ]
  },
  {
   "cell_type": "code",
   "execution_count": 2,
   "metadata": {
    "slideshow": {
     "slide_type": "fragment"
    }
   },
   "outputs": [
    {
     "name": "stdout",
     "output_type": "stream",
     "text": [
      "f(x)\n"
     ]
    }
   ],
   "source": [
    "print(\"f(x)\")"
   ]
  },
  {
   "cell_type": "code",
   "execution_count": 3,
   "metadata": {
    "slideshow": {
     "slide_type": "fragment"
    }
   },
   "outputs": [
    {
     "data": {
      "text/plain": [
       "9"
      ]
     },
     "execution_count": 3,
     "metadata": {},
     "output_type": "execute_result"
    }
   ],
   "source": [
    "pow(3, 2)"
   ]
  },
  {
   "cell_type": "code",
   "execution_count": 4,
   "metadata": {
    "slideshow": {
     "slide_type": "fragment"
    }
   },
   "outputs": [
    {
     "data": {
      "text/plain": [
       "3"
      ]
     },
     "execution_count": 4,
     "metadata": {},
     "output_type": "execute_result"
    }
   ],
   "source": [
    "abs(-3)"
   ]
  },
  {
   "cell_type": "markdown",
   "metadata": {
    "slideshow": {
     "slide_type": "slide"
    }
   },
   "source": [
    "Declaramos una función en python por medio del keyword `def` (*definition*). La sintáxis general para declarar una función en python es la siguiente:\n",
    "\n",
    "```python\n",
    "def nombre_funcion(param1, param2, ..., paramn):\n",
    "    <operaciones>\n",
    "```\n",
    "\n",
    "* `param1`, `param2` son conocidos como los **parámetros** de la función. Estos son objetos que servirán como *inputs* a la función (si es que la función necesita algún input)\n",
    "* Al igual que con los loops (`for`, `while`) y control flow statements (`if`, `else`, `elif`), la definición de una función inicia después de su declaración inicial; el cuerpo de la función es todo aquello con sangría y acaba al regresar al nivel en donde la función fue definida."
   ]
  },
  {
   "cell_type": "code",
   "execution_count": 1,
   "metadata": {
    "slideshow": {
     "slide_type": "slide"
    }
   },
   "outputs": [
    {
     "name": "stdout",
     "output_type": "stream",
     "text": [
      "¡Esto es una función!\n"
     ]
    }
   ],
   "source": [
    "def funcion():\n",
    "    print(\"¡Esto es una función!\")\n",
    "\n",
    "funcion()"
   ]
  },
  {
   "cell_type": "code",
   "execution_count": 9,
   "metadata": {
    "slideshow": {
     "slide_type": "subslide"
    }
   },
   "outputs": [
    {
     "name": "stdout",
     "output_type": "stream",
     "text": [
      "2.23606797749979\n"
     ]
    }
   ],
   "source": [
    "def distancia(a, b):\n",
    "    print( (a**2 + b**2) ** (1/2))\n",
    "\n",
    "distancia(1, 2)"
   ]
  },
  {
   "cell_type": "markdown",
   "metadata": {},
   "source": [
    "Al crear una función es importante notar que los parámetros de la función y las variables declaradas dentro de la función solo se ven afectadas dentro de la función.  \n",
    "El alcance de una variable es conocido como el *scope*"
   ]
  },
  {
   "cell_type": "code",
   "execution_count": 25,
   "metadata": {},
   "outputs": [
    {
     "name": "stdout",
     "output_type": "stream",
     "text": [
      "4\n",
      "3\n"
     ]
    }
   ],
   "source": [
    "def f(a): # 'a' es conocido como un parámetro\n",
    "    b = 3 # 'b' no existe fuera de este scope\n",
    "    a = a + 1\n",
    "    print(a)\n",
    "\n",
    "b = 6\n",
    "a = 3\n",
    "f(a) # 'a' es un argumento\n",
    "print(a)"
   ]
  },
  {
   "cell_type": "markdown",
   "metadata": {},
   "source": [
    "El valor que toma un parámetro es conocido como su **argumento**. Los argumentos de una función se toman de manera ordenada."
   ]
  },
  {
   "cell_type": "code",
   "execution_count": 26,
   "metadata": {},
   "outputs": [],
   "source": [
    "def potencia(x, y):\n",
    "    print(x ** y)"
   ]
  },
  {
   "cell_type": "code",
   "execution_count": 27,
   "metadata": {},
   "outputs": [
    {
     "name": "stdout",
     "output_type": "stream",
     "text": [
      "8\n"
     ]
    }
   ],
   "source": [
    "potencia(2, 3)"
   ]
  },
  {
   "cell_type": "code",
   "execution_count": 28,
   "metadata": {},
   "outputs": [
    {
     "name": "stdout",
     "output_type": "stream",
     "text": [
      "9\n"
     ]
    }
   ],
   "source": [
    "potencia(3, 2)"
   ]
  },
  {
   "cell_type": "markdown",
   "metadata": {},
   "source": [
    "De igual manera, podemos pasar un argumento a cualquier función de manera explicita mencionando el nombre del parámetro seguido del argumento. De esta manera, el orden de los argumentos no son relevantes, siempre y cuando tomemos el nombre del parámetro correcto"
   ]
  },
  {
   "cell_type": "code",
   "execution_count": 29,
   "metadata": {
    "slideshow": {
     "slide_type": "fragment"
    }
   },
   "outputs": [
    {
     "name": "stdout",
     "output_type": "stream",
     "text": [
      "8\n"
     ]
    }
   ],
   "source": [
    "potencia(x=2, y=3)"
   ]
  },
  {
   "cell_type": "markdown",
   "metadata": {},
   "source": [
    "### El `return` keyword\n",
    "En muchas ocasiones no nos es estrictamente necesario observar el valor que arroja una función, sino más bien trabajar con ese valor.\n",
    "\n",
    "Considerando la siguiente función, supongamos que queremos guardar el valor que nos arroja una función. En este caso, vemos que no podemos hacer uso del valor calculado por la función `cuadrado`. En efecto, el valor arrojado por la función no es nada `None`."
   ]
  },
  {
   "cell_type": "code",
   "execution_count": 51,
   "metadata": {},
   "outputs": [
    {
     "name": "stdout",
     "output_type": "stream",
     "text": [
      "4\n",
      "None\n"
     ]
    }
   ],
   "source": [
    "def cuadrado(x):\n",
    "    print(x * 2)\n",
    "\n",
    "sq2 = cuadrado(2)\n",
    "print(sq2)"
   ]
  },
  {
   "cell_type": "markdown",
   "metadata": {},
   "source": [
    "Para poder obtener el valor de una función ocupamos el keyword `return`, el cuál nos arroja un valor (o valores) deseado creados dentro de una función"
   ]
  },
  {
   "cell_type": "code",
   "execution_count": 43,
   "metadata": {},
   "outputs": [
    {
     "name": "stdout",
     "output_type": "stream",
     "text": [
      "5\n"
     ]
    }
   ],
   "source": [
    "def cuadrado(x):\n",
    "    return x ** 2\n",
    "\n",
    "sq2 = cuadrado(2)\n",
    "print(sq2 + 1)"
   ]
  },
  {
   "cell_type": "markdown",
   "metadata": {},
   "source": [
    "Dentro de una función, normalmente se ocupa el `print` para saber el estado de un programa, e.g., un proceso largo sobre el cuál nos gustaría saber en que punto se encuentra el proceso. El `return` es el valor sobre el cuál nos gustaría trabajar."
   ]
  },
  {
   "cell_type": "markdown",
   "metadata": {
    "slideshow": {
     "slide_type": "slide"
    }
   },
   "source": [
    "### Argumentos Opcionales\n",
    "En python podemos definir funciones cuyos parámetros toman algún argumento predefinido. Estos parámetros se conocen como **argumentos opcionales**"
   ]
  },
  {
   "cell_type": "code",
   "execution_count": 54,
   "metadata": {
    "slideshow": {
     "slide_type": "fragment"
    }
   },
   "outputs": [],
   "source": [
    "def distancia2(x1, y1, x0=0, y0=0):\n",
    "    return ((x1 - x0) ** 2 + (y1 - y0) **2) ** (1/2) "
   ]
  },
  {
   "cell_type": "code",
   "execution_count": 55,
   "metadata": {
    "slideshow": {
     "slide_type": "fragment"
    }
   },
   "outputs": [
    {
     "data": {
      "text/plain": [
       "2.23606797749979"
      ]
     },
     "execution_count": 55,
     "metadata": {},
     "output_type": "execute_result"
    }
   ],
   "source": [
    "distancia2(1, 2)"
   ]
  },
  {
   "cell_type": "code",
   "execution_count": 57,
   "metadata": {
    "slideshow": {
     "slide_type": "fragment"
    }
   },
   "outputs": [
    {
     "data": {
      "text/plain": [
       "0.5099019513592785"
      ]
     },
     "execution_count": 57,
     "metadata": {},
     "output_type": "execute_result"
    }
   ],
   "source": [
    "distancia2(1, 2, 1.5, 2.1)"
   ]
  },
  {
   "cell_type": "code",
   "execution_count": 13,
   "metadata": {
    "slideshow": {
     "slide_type": "fragment"
    }
   },
   "outputs": [
    {
     "data": {
      "text/plain": [
       "0.5099019513592785"
      ]
     },
     "execution_count": 13,
     "metadata": {},
     "output_type": "execute_result"
    }
   ],
   "source": [
    "# Cambiando el orden de los parametros\n",
    "distancia2(x0=1.5, x1=1, y0=2.1, y1=2) "
   ]
  },
  {
   "cell_type": "code",
   "execution_count": 60,
   "metadata": {},
   "outputs": [
    {
     "data": {
      "text/plain": [
       "1.2083045973594573"
      ]
     },
     "execution_count": 60,
     "metadata": {},
     "output_type": "execute_result"
    }
   ],
   "source": [
    "distancia2(1.5, 1, y0=2.1, x0=2)"
   ]
  },
  {
   "cell_type": "markdown",
   "metadata": {
    "slideshow": {
     "slide_type": "slide"
    }
   },
   "source": [
    "<h2 style=\"color:crimson\"> Ejercicio </h2>\n",
    "\n",
    "1. Considera el siguiente programa y responde: ¿Cuál es el valor de `y` una vez ejecutado el programa?\n",
    "\n",
    "```python\n",
    "def cuadrado(x):\n",
    "    y = x ** 2\n",
    "    \n",
    "y = 3\n",
    "cuadrado(2)\n",
    "print(y)\n",
    "```\n",
    "\n",
    "\n",
    "2. Escribe un programa que tome una lista de enteros y regrese la lista con solo los números impares\n",
    "```python\n",
    ">>> solo_impares([1, 5, 2, 8, 9, 10])\n",
    "[1, 5, 9]\n",
    "```\n",
    "\n",
    "3. Escribe la función `table` que imprima una tabla aritmética de suma, resta y multiplicación. La función tomará dos parámetros un tamaño de tabla `size` y una operación a realizar (una de `\"suma\"`, `\"resta\"`, `\"mult\"`)\n",
    "\n",
    "```python\n",
    ">>> table(5, \"resta\")\n",
    "00 -1 -2 -3 -4 \n",
    "01 00 -1 -2 -3 \n",
    "02 01 00 -1 -2 \n",
    "03 02 01 00 -1 \n",
    "04 03 02 01 00 \n",
    "\n",
    ">>> table(5, \"mult\")\n",
    "01 02 03 04 05 \n",
    "02 04 06 08 10 \n",
    "03 06 09 12 15 \n",
    "04 08 12 16 20 \n",
    "05 10 15 20 25\n",
    "\n",
    ">>> table(5, \"div\")\n",
    "Operación 'div' no reconocida\n",
    "```\n",
    "\n",
    "4. Escribe una función `sum_mult` que calcule la suma de todos los números divisibles por 3 o 5 por debajo de un número límite `n` (exclusivo). Por ejemplo, si $n=10$, entonces el programa debería regresar la suma de los valores `3, 5, 6, 9` \n",
    "```python\n",
    ">>> sum_mult(10)\n",
    "23\n",
    ">>> sum_mult(20)\n",
    "78\n",
    "```\n",
    "\n",
    "5. Escribe una función `factorial` que calcule el factorial de un número entero $n \\geq 0$. El factorial de un número $n \\geq 1$ se define como\n",
    "$$\n",
    "    n! = n \\times n - 1 \\times n - 2 \\times \\ldots \\times 2 \\times 1\n",
    "$$\n",
    "y $0! = 1$\n",
    "```python\n",
    ">>> factorial(3)\n",
    "6\n",
    ">>> factorial(6)\n",
    "720\n",
    "```\n",
    "\n",
    "6. Escribe la función `numeros` que tome una lista de elementos y regrese una nueva lista únicamente con los elementos numéricos `int`, `float`\n",
    "```python\n",
    ">>> numeros([1, \"2\", \"a\", False, 2, 4.2])\n",
    "[1, 2, 4.2]\n",
    ">>> numeros([True, False, type, 0.01])\n",
    "[0.01]\n",
    "```\n",
    "7. Escribe una función `fibonacci` que regrese una lista con los primeros `n` elementos de la secuencia Fibonacci. Recordemos, la secuencia fibonacci es la siguiente:\n",
    "```\n",
    "0 1 1 2 3 5 8 13 21\n",
    "```\n",
    "En general, el $n$-ésimo término de la secuencia Fibonacci es $F_1 = 0$, $F_2 = 1$ y, para cualquier $n \\geq 3$,\n",
    "\n",
    "$$\n",
    "    F_n = F_{n - 2} + F_{n - 1}\n",
    "$$\n",
    "8. *La conjetura de Collatz*. La conjetura de Collatz nos dice lo siguiente: elige cualquier número entero $n \\geq 2$ si $n$ es par, divídelo por $2$; si $n$ es impar, multiplicalo por $3$ y súmale uno\n",
    "$$\n",
    "    C(n) = \\begin{cases}\n",
    "        n / 2 & n \\text{ es par}  \\\\\n",
    "        3n + 1 & n \\text{ es impar}\n",
    "    \\end{cases}\n",
    "$$\n",
    "Sin importar el número con el que empieces, eventualmente, $n$ terminará siendo uno.  \n",
    "Escribe la función `collatz` que regrese el número de veces que tarda un número en llegar a $1$ (el primer paso no cuenta). Por ejemplo, si $n=3$. Los pasos a seguir serían los siguientes:\n",
    "```\n",
    "3 10 5 16 8 4 2 1 \n",
    "```\n",
    "```python\n",
    ">>> collatz(3)\n",
    "7\n",
    ">>> collatz(7)\n",
    "16\n",
    ">>> collatz(2 ** 100 - 1)\n",
    "108\n",
    ">>> collatz(63728127)\n",
    "949\n",
    "```"
   ]
  },
  {
   "cell_type": "markdown",
   "metadata": {
    "slideshow": {
     "slide_type": "slide"
    }
   },
   "source": [
    "## Ejemplo: Valuando opción Europea"
   ]
  },
  {
   "cell_type": "code",
   "execution_count": 259,
   "metadata": {
    "slideshow": {
     "slide_type": "subslide"
    }
   },
   "outputs": [],
   "source": [
    "from scipy.stats import norm\n",
    "from math import log, sqrt, exp\n",
    "\n",
    "def option(f, k, rate, sigma, ttm, say=\"call\"):\n",
    "    \"\"\"\n",
    "    Valora una opción \"call\" o \"put\" europea bajo\n",
    "    el modelo de Black '76.\n",
    "    Para una referencia, ver:\n",
    "    https://en.wikipedia.org/wiki/Black_model\n",
    "    \n",
    "    Parameters\n",
    "    ----------\n",
    "    f: float\n",
    "        Valor del forward sobre la opción\n",
    "    k: float\n",
    "        Strike de la opción\n",
    "    rate: float\n",
    "        Tasa de interés libre de riesgo\n",
    "    sigma: float\n",
    "        Volatilidad implicita de la opción\n",
    "    ttm: float\n",
    "        tiempo hacia la fecha de maduración de la opción (time to maturity)\n",
    "    say: string\n",
    "        Tipo de la acción: \"put\" o \"call\"\n",
    "        \n",
    "    Returns\n",
    "    -------\n",
    "    float: El valor presente de la opción bajo el modelo de Black '76\n",
    "    \"\"\"    \n",
    "    ind = 1 if say == \"call\" else -1\n",
    "    d1 = (log(f / k) + sigma ** 2 / 2 * ttm) / (sigma * sqrt(ttm))\n",
    "    d2 = d1 - sigma * sqrt(ttm)\n",
    "    Nd1 = norm.cdf(ind * d1); Nd2 = norm.cdf(ind * d2)\n",
    "    \n",
    "    option_price = ind * exp(-rate * ttm) * (f * Nd1 - k * Nd2)\n",
    "    return option_price"
   ]
  },
  {
   "cell_type": "code",
   "execution_count": 260,
   "metadata": {
    "slideshow": {
     "slide_type": "subslide"
    }
   },
   "outputs": [
    {
     "data": {
      "text/plain": [
       "1.9960592711207739"
      ]
     },
     "execution_count": 260,
     "metadata": {},
     "output_type": "execute_result"
    }
   ],
   "source": [
    "option(12, 10, 0.06, 0.23, 12 / 365, say=\"call\")"
   ]
  },
  {
   "cell_type": "code",
   "execution_count": 261,
   "metadata": {
    "slideshow": {
     "slide_type": "fragment"
    }
   },
   "outputs": [
    {
     "name": "stdout",
     "output_type": "stream",
     "text": [
      "Help on function option in module __main__:\n",
      "\n",
      "option(f, k, rate, sigma, ttm, say='call')\n",
      "    Valora una opción \"call\" o \"put\" europea bajo\n",
      "    el modelo de Black '76.\n",
      "    Para una referencia, ver:\n",
      "    https://en.wikipedia.org/wiki/Black_model\n",
      "    \n",
      "    Parameters\n",
      "    ----------\n",
      "    f: float\n",
      "        Valor del forward sobre la opción\n",
      "    k: float\n",
      "        Strike de la opción\n",
      "    rate: float\n",
      "        Tasa de interés libre de riesgo\n",
      "    sigma: float\n",
      "        Volatilidad implicita de la opción\n",
      "    ttm: float\n",
      "        tiempo hacia la fecha de maduración de la opción (time to maturity)\n",
      "    say: string\n",
      "        Tipo de la acción: \"put\" o \"call\"\n",
      "        \n",
      "    Returns\n",
      "    -------\n",
      "    float: El valor presente de la opción bajo el modelo de Black '76\n",
      "\n"
     ]
    }
   ],
   "source": [
    "help(option)"
   ]
  },
  {
   "cell_type": "markdown",
   "metadata": {
    "slideshow": {
     "slide_type": "slide"
    }
   },
   "source": [
    "## `*args` & `**kwargs`\n",
    "Podemos aceptar cualquier número de argumentos con `*args` y cualquier número de argumentos y llaves con `**kwargs`. En ocasiones no sabemos el número total de parametros para una función o queremos extender su dependencia hacia otras clases"
   ]
  },
  {
   "cell_type": "code",
   "execution_count": 281,
   "metadata": {
    "slideshow": {
     "slide_type": "fragment"
    }
   },
   "outputs": [],
   "source": [
    "def funcion_args(*args):\n",
    "    print(args)"
   ]
  },
  {
   "cell_type": "code",
   "execution_count": 282,
   "metadata": {
    "slideshow": {
     "slide_type": "fragment"
    }
   },
   "outputs": [
    {
     "name": "stdout",
     "output_type": "stream",
     "text": [
      "(1, 2, 3)\n"
     ]
    }
   ],
   "source": [
    "funcion_args(1, 2, 3)"
   ]
  },
  {
   "cell_type": "code",
   "execution_count": 288,
   "metadata": {
    "slideshow": {
     "slide_type": "fragment"
    }
   },
   "outputs": [],
   "source": [
    "def funcion_kwargs(**kwargs):\n",
    "    print(kwargs)"
   ]
  },
  {
   "cell_type": "code",
   "execution_count": 289,
   "metadata": {
    "slideshow": {
     "slide_type": "fragment"
    }
   },
   "outputs": [
    {
     "name": "stdout",
     "output_type": "stream",
     "text": [
      "{'a': 1, 'b': 2}\n"
     ]
    }
   ],
   "source": [
    "funcion_kwargs(a=1, b=2)"
   ]
  },
  {
   "cell_type": "code",
   "execution_count": 297,
   "metadata": {
    "slideshow": {
     "slide_type": "slide"
    }
   },
   "outputs": [],
   "source": [
    "def funcion_args_kwargs(*args, **kwargs):\n",
    "    print(args)\n",
    "    print(kwargs)"
   ]
  },
  {
   "cell_type": "code",
   "execution_count": 298,
   "metadata": {
    "slideshow": {
     "slide_type": "fragment"
    }
   },
   "outputs": [
    {
     "name": "stdout",
     "output_type": "stream",
     "text": [
      "(1, 2)\n",
      "{'a': 1, 'b': 2}\n"
     ]
    }
   ],
   "source": [
    "funcion_args_kwargs(1,2, a=1, b=2)"
   ]
  },
  {
   "cell_type": "markdown",
   "metadata": {
    "slideshow": {
     "slide_type": "slide"
    }
   },
   "source": [
    "## Ejemplo con ``**kwargs``"
   ]
  },
  {
   "cell_type": "code",
   "execution_count": 299,
   "metadata": {
    "slideshow": {
     "slide_type": "slide"
    }
   },
   "outputs": [],
   "source": [
    "from ipywidgets import interact, FloatSlider, Dropdown\n",
    "import matplotlib.pyplot as plt\n",
    "\n",
    "def graph_option(k, rate, sigma, ttm):\n",
    "    Ft = [i for i in range(10, 50, 1)]\n",
    "    prices = [option(F, k, rate, sigma, ttm) for F in Ft]\n",
    "    plt.figure(figsize=(13,8))\n",
    "    plt.plot(Ft, prices)\n",
    "    plt.xlabel(\"$F(t)$\")\n",
    "    plt.ylabel(\"$C(t)$\")\n",
    "    plt.ylim(-0.5, 25); plt.xlim(10, 50)\n",
    "    plt.show()"
   ]
  },
  {
   "cell_type": "code",
   "execution_count": 300,
   "metadata": {
    "slideshow": {
     "slide_type": "slide"
    }
   },
   "outputs": [
    {
     "data": {
      "application/vnd.jupyter.widget-view+json": {
       "model_id": "2a84d466579a457f8a51503cd86fdeee",
       "version_major": 2,
       "version_minor": 0
      },
      "text/plain": [
       "interactive(children=(FloatSlider(value=20.0, description='k', max=50.0, min=10.0, step=1.0), FloatSlider(valu…"
      ]
     },
     "metadata": {},
     "output_type": "display_data"
    },
    {
     "data": {
      "text/plain": [
       "<function __main__.graph_option(k, rate, sigma, ttm)>"
      ]
     },
     "execution_count": 300,
     "metadata": {},
     "output_type": "execute_result"
    }
   ],
   "source": [
    "interact(graph_option,\n",
    "         k=FloatSlider(min=10, max=50, step=1, value=20),\n",
    "         rate=FloatSlider(min=0.01, max=0.2, step=0.01, value=0.06),\n",
    "         sigma=FloatSlider(min=0.01, max=0.8, step=0.1, value=0.23),\n",
    "         ttm=FloatSlider(min=0.01, max=2, step=0.1, value=30/365))"
   ]
  },
  {
   "cell_type": "markdown",
   "metadata": {
    "slideshow": {
     "slide_type": "slide"
    }
   },
   "source": [
    "<h2 style=\"color:crimson\"> Ejercicio </h2>\n",
    "\n",
    "1. Escribe un programa `unicos` que tome una `n` cantidad de números enteros y regrese una lista con los valores únicos.\n",
    "```python\n",
    ">>> unicos(1, 2, 3, 4, 2, 3, 4)\n",
    "[1, 2, 3, 4]\n",
    ">>> unicos(1, 1, 2)\n",
    "[1, 2]\n",
    "```\n",
    "1. Escribe una función `familia` que describa una familia. El programa deberá tomar como parámetro el rol de un miembro de la familia y como argumento su nombre. El programa deberá imprimir `\"Los integrantes de la familia son:\"`, seguido de los integrantes de la familia\n",
    "```python\n",
    ">>> familia(papa=\"Mario\", hija1=\"Sophia\", hija2=\"Elizabeth\")\n",
    "Los integrantes de la familia son:\n",
    "Mario es papa\n",
    "Sophia es hija1\n",
    "Elizabeth es hija2\n",
    "```"
   ]
  }
 ],
 "metadata": {
  "celltoolbar": "Slideshow",
  "kernelspec": {
   "display_name": "Python 3",
   "language": "python",
   "name": "python3"
  },
  "language_info": {
   "codemirror_mode": {
    "name": "ipython",
    "version": 3
   },
   "file_extension": ".py",
   "mimetype": "text/x-python",
   "name": "python",
   "nbconvert_exporter": "python",
   "pygments_lexer": "ipython3",
   "version": "3.6.8"
  },
  "widgets": {
   "application/vnd.jupyter.widget-state+json": {
    "state": {
     "231dfe15434440398e01b449694ed7d0": {
      "model_module": "@jupyter-widgets/base",
      "model_module_version": "1.1.0",
      "model_name": "LayoutModel",
      "state": {}
     },
     "2a84d466579a457f8a51503cd86fdeee": {
      "model_module": "@jupyter-widgets/controls",
      "model_module_version": "1.3.0",
      "model_name": "VBoxModel",
      "state": {
       "_dom_classes": [
        "widget-interact"
       ],
       "children": [
        "IPY_MODEL_9f661c0e3aae41e6a817c6de22aeb6bb",
        "IPY_MODEL_c0626e8c75e146f0b210a8ddae54d6c4",
        "IPY_MODEL_8e6842184af9457396281d4c5145ef71",
        "IPY_MODEL_535fd4fa9baa4a139cb40aa823d6a851",
        "IPY_MODEL_83c37c9917f84cd3a7b5f7b5bec28abb"
       ],
       "layout": "IPY_MODEL_c5a7e5e4b28748a5a62cf79389fd8d66"
      }
     },
     "2c3cf2ad62aa46cebf35562fe9fd8b59": {
      "model_module": "@jupyter-widgets/base",
      "model_module_version": "1.1.0",
      "model_name": "LayoutModel",
      "state": {}
     },
     "30a32fe077c14b2db01f8168fc2266d4": {
      "model_module": "@jupyter-widgets/controls",
      "model_module_version": "1.3.0",
      "model_name": "SliderStyleModel",
      "state": {
       "description_width": ""
      }
     },
     "35de284bfc4343a293e3d453a96add18": {
      "model_module": "@jupyter-widgets/base",
      "model_module_version": "1.1.0",
      "model_name": "LayoutModel",
      "state": {}
     },
     "389abfb7558b402ebaf562488f08eb4f": {
      "model_module": "@jupyter-widgets/base",
      "model_module_version": "1.1.0",
      "model_name": "LayoutModel",
      "state": {}
     },
     "3c00d514247a4f9484e1d4bf3d850aac": {
      "model_module": "@jupyter-widgets/base",
      "model_module_version": "1.1.0",
      "model_name": "LayoutModel",
      "state": {}
     },
     "535fd4fa9baa4a139cb40aa823d6a851": {
      "model_module": "@jupyter-widgets/controls",
      "model_module_version": "1.3.0",
      "model_name": "FloatSliderModel",
      "state": {
       "description": "ttm",
       "layout": "IPY_MODEL_2c3cf2ad62aa46cebf35562fe9fd8b59",
       "max": 2,
       "min": 0.01,
       "step": 0.1,
       "style": "IPY_MODEL_30a32fe077c14b2db01f8168fc2266d4",
       "value": 0.41
      }
     },
     "83c37c9917f84cd3a7b5f7b5bec28abb": {
      "model_module": "@jupyter-widgets/output",
      "model_module_version": "1.0.0",
      "model_name": "OutputModel",
      "state": {
       "layout": "IPY_MODEL_389abfb7558b402ebaf562488f08eb4f",
       "outputs": [
        {
         "data": {
          "image/png": "iVBORw0KGgoAAAANSUhEUgAAAw4AAAHnCAYAAAARlgouAAAABHNCSVQICAgIfAhkiAAAAAlwSFlzAAALEgAACxIB0t1+/AAAADl0RVh0U29mdHdhcmUAbWF0cGxvdGxpYiB2ZXJzaW9uIDIuMi4yLCBodHRwOi8vbWF0cGxvdGxpYi5vcmcvhp/UCwAAIABJREFUeJzs3XdYlGfi9fFzKyKiYi/Ye+8US3rZjenNdBXFnmSTzS+btimbTXY3ve2mJyJgLzExvblJTJVmw94FRUURQekz9/uHbF7X1YjKzDPl+7kuLuERwrmeTGBOZp45xlorAAAAAPgtNZwOAAAAAMD3URwAAAAAnBTFAQAAAMBJURwAAAAAnBTFAQAAAMBJURwAAAAAnJRXioMxpq0x5htjzFpjzGpjzN2Vxx83xuw0xiyvfLvMG3kAAAAAnBrjjR0HY0ykpEhrbYYxpr6kdEnXSLpR0iFr7fMeDwEAAADgtIV445tYa3Mk5VS+X2iMWSuptTe+NwAAAIAz5/VrHIwxHSQNlLS08tCdxpiVxpgEY0wjb+cBAAAAcHJeearSr9/MmHqSvpP0d2vtQmNMC0n7JFlJT+rI05nij/N1EyVNlKS6detG9ejRw2uZAQCA76twWW3df1il5S61aRSuhuG1nI4E+LT09PR91tpmp/I1XisOxphakj6W9IW19sXj/H0HSR9ba/v81j8nOjrapqWleSQjAADwP1v3HdbohKXaf6hMb46M0rndTum+EBCUjDHp1troU/kar1zjYIwxkqZKWnt0aTDGRFZe/yBJ10rK9EYeAAAQGDJ3HlRcQoqspFkThmhA24ZORwIClleKg6SzJI2StMoYs7zy2J8l3WKMGaAjT1XaJmmSl/IAAAA/9+OmfZqYnKaG4aFKHherzs3qOR0JCGjeelWlHySZ4/zVp974/gAAILB8sjJH98xdro5N6yopPlYtG4Q5HQkIeN56xAEAAKBaTP95mx77cLWi2jXS1LgYNeBCaMArKA4AAMAvWGv10tcb9c/FG3Vxz+Z69dZBCqtV0+lYQNCgOAAAAJ/ncls9uihTs5bu0A1RbfTUdX0VUtPrc1RAUKM4AAAAn1ZS7tI9c5frs8zdmnJ+Z91/SXcdecFGAN5EcQAAAD6roKRcE5PT9MuWPD16RS+NO7uj05GAoEVxAAAAPmlvYYnGJKRqw55CvXzTAF0zsLXTkYCgRnEAAAA+Z/v+wxo1NUW5haV6Ny5a53dv7nQkIOhRHAAAgE/J3HlQY6alyuV2a9aEwRrYrpHTkQCI4gAAAHzIT5v3aWJyuiLCQpQ8cZi6NGcNGvAVFAcAAOATPluVo7vnLFf7JuFKHheryAZ1nI4E4CgUBwAA4LiZS7frkQ8yNahdI02Ni1bD8FCnIwE4BsUBAAA4xlqrfy7epJe+3qALezTXa7cOUp1Q1qABX0RxAAAAjnC5rR7/cLWm/7Jd1w9qo6ev76tarEEDPoviAAAAvK60wqX/m7tCn6zK0aTzOunB4T1YgwZ8HMUBAAB4VWFJuSZNT9dPm/fr4ct6asK5nZyOBKAKKA4AAMBrcgtLNTYxRetyCvXijf113aA2TkcCUEUUBwAA4BVZeUUaNXWpdheU6J24aF3AGjTgVygOAADA49bsKlDctBSVVbg1c/wQRbVnDRrwNxQHAADgUb9s2a8JSWmqFxaiWZOHqmuL+k5HAnAaKA4AAMBjPs/crbvmLFO7xuFKjo9Vq4asQQP+iuIAAAA8YnbKDj38/ir1b9tQCXExalSXNWjAn1EcAABAtbLW6tV/b9ILX23Q+d2b6fXbBik8lLscgL/jv2IAAFBt3G6rv360Wkk/b9e1A1vr2RH9WIMGAgTFAQAAVIvSCpfunbdCH6/M0fizO+rPl/VUjRqsQQOBguIAAADO2KHSCk2enq4fNu3TQ5f20KTzOjsdCUA1ozgAAIAzsv9QqcYmpmr1rgI9N6Kfbohu63QkAB5AcQAAAKctK69IoxNSlHOwWG+PitJFPVs4HQmAh1AcAADAaVmbU6C4hBSVlLs0c/xgRbVv7HQkAB5EcQAAAKcsZWuexiWlKjy0puZPHqbuLVmDBgIdxQEAAJySr9bs0Z2zMtS6UR0lx8eqTaNwpyMB8AKKAwAAqLJ5qVl6cOFK9W3TUNPGxKgxa9BA0KA4AACAk7LW6vVvN+u5L9br3G7N9MZtg1S3NncjgGDCf/EAAOA3ud1WT36yRtN+3Kar+rfS8zf0V2gIa9BAsKE4AACAEyqrcOu+BSu0aPkujT2rgx69vBdr0ECQojgAAIDjOlxaoSkzM7RkQ67uH95dU87rLGMoDUCwojgAAID/kXe4TGMTU7UqO1/PXN9XN8W0czoSAIdRHAAAwH/JPnBkDXrngWK9OTJKv+/d0ulIAHwAxQEAAPxqw55CjZ6aosNlFZo+brBiO7IGDeAIigMAAJAkpW/PU3ximmqH1ND8yUPVo2WE05EA+BCKAwAA0OK1e3THrAxFNjiyBt22MWvQAP4bxQEAgCC3ID1bD7y3Ur0iIzRtbIya1qvtdCQAPojiAABAEHvru8166rN1OrtLU705Kkr1WIMGcAL8dAAAIAi53VZPfbZW73y/VVf0i9QLN/ZX7ZCaTscC4MMoDgAABJlyl1v3L1ip95ftVNzQ9vrLlb1ZgwZwUhQHAACCSFFZhW6fmaFv1+fqT7/vpjsu6MIaNIAqoTgAABAkDhwuU3xSqlZk5eup6/rqlljWoAFUHcUBAIAgsCu/WKMTUrQjr0iv3xal4X1YgwZwaigOAAAEuI17CjU6IUWHSiqUHB+rIZ2aOB0JgB+iOAAAEMDStx/QuKRU1apZQ3MnDVWvVqxBAzg9FAcAAALUN+v2asrMdLWMCFNy/GC1a8IaNIDTR3EAACAALczI1n0LVqpHy/pKHBurZvVZgwZwZigOAAAEmHeWbNHfP12rYZ2b6K1RUaofVsvpSAACAMUBAIAAYa3V05+t01tLtujyvpF68SbWoAFUH4oDAAABoNzl1oPvrdJ7GdkaNaS9Hr+qt2qyBg2gGlEcAADwc8VlLt0xK0P/XrdX91zcTXddxBo0gOpHcQAAwI/lF5UpPjFVy7Ly9bdr+mjkkPZORwIQoCgOAAD4qZyDxRo9NUXb9xfp9VsH6dK+kU5HAhDAKA4AAPihTXsLNXpqigpKKpQYH6NhnZs6HQlAgKM4AADgZ5btOKCxiakKqVFDcyYOUZ/WDZyOBCAIUBwAAPAj367fqykzMtSsfm1NHxer9k3qOh0JQJCgOAAA4Cc+WLZTf5q/Qt1a1FdifIya1w9zOhKAIEJxAADAD7z7/Rb97ZO1GtKpsd4eHa0I1qABeBnFAQAAH2at1TOfr9eb323W8N4t9fLNAxRWizVoAN5HcQAAwEdVuNx6aOEqzU/P1q2D2+nJq/uwBg3AMRQHAAB8UHGZS3+YnaGv1+7VXRd11T0Xd2UNGoCjKA4AAPiYg0XlGpeUqvQdB/Tk1b01amgHpyMBAMUBAABfsvtgieISUrRl3yH965aBuqJfK6cjAYAkigMAAD5jc+4hjZ6aovyiMiWOjdVZXViDBuA7KA4AAPiAFVn5GpuYKiNpzsSh6tuGNWgAvoXiAACAw5ZsyNXkGelqXDdU08cNVsemrEED8D0UBwAAHLRo+ZE16M7N6ik5PlbNI1iDBuCbKA4AADhk2o9b9deP1ii2Y2O9MzpaDeqwBg3Ad1EcAADwMmutnv9yvV77ZrN+36uF/nnLQNagAfg8igMAAF5U4XLr4fczNTctSzfHtNXfrumjkJo1nI4FACdFcQAAwEtKyl26a/Yyfblmj/5wYRf93++6sQYNwG9QHAAA8IKDxeWakJSm1O15evzKXhpzVkenIwHAKfHKY6PGmLbGmG+MMWuNMauNMXdXHm9sjPnKGLOx8s9G3sgDAIA37S0o0U1v/axlWQf0ys0DKQ0A/JK3nlRZIelea21PSUMk3WGM6SXpQUmLrbVdJS2u/BgAgICxdd9hXffGT9qRV6SEMTG6qn8rpyMBwGnxSnGw1uZYazMq3y+UtFZSa0lXS0qq/LQkSdd4Iw8AAN6wKvugRrzxk4rKXJo9YYjO6drM6UgAcNq8fo2DMaaDpIGSlkpqYa3NkY6UC2NMc2/nAQDAE37YuE+TpqepYXiopo+LVadm9ZyOBABnxKuv/2aMqSfpPUl/tNYWnMLXTTTGpBlj0nJzcz0XEACAavDxyl0am5iiNo3CtfD2YZQGAAHBa8XBGFNLR0rDTGvtwsrDe4wxkZV/Hylp7/G+1lr7trU22lob3awZD/MCAHxX8s/b9IfZyzSgbUPNmzRULSLCnI4EANXCW6+qZCRNlbTWWvviUX/1oaS4yvfjJC3yRh4AAKqbtVYvfrlejy1arYt6tND0cYPVILyW07EAoNp46xqHsySNkrTKGLO88tifJT0taZ4xZpykHZJu8FIeAACqjctt9cgHmZqdskM3RrfRP67tyxo0gIDjleJgrf1B0ommMS/yRgYAADyhpNylP85Zrs9X79bt53fWfZd0Zw0aQEBiORoAgNNUUFKuiclp+mVLnh67opfiz2bYDUDgojgAAHAa9haWaExCqjbsKdQrNw/Q1QNaOx0JADyK4gAAwCnavv+wRk1N0b5DpZo6JkbndeMV/wAEPooDAACnIHPnQY2ZliKX22rWhCEa0Lah05EAwCsoDgAAVNFPm/dpYnK6GtSppaT4WHVpzrAbgOBBcQAAoAo+W5Wju+csV4em4UqKj1VkgzpORwIAr6I4AABwEjN+2a5HF2VqULtGmhoXrYbhoU5HAgCvozgAAHAC1lq9snijXv56oy7q0Vyv3jpIdUJrOh0LABxBcQAA4DhcbqvHP1yt6b9s1/WD2ujp6/uqFmvQAIIYxQEAgGOUVrh0z9zl+nTVbk06r5MeHN6DNWgAQY/iAADAUQpLyjVperp+2rxfj1zeU+PP6eR0JADwCRQHAAAq5RaWamxiitblFOrFG/vrukFtnI4EAD6D4gAAgKQd+4s0KmGp9haU6p24aF3QvbnTkQDAp1AcAABBb82uAsVNS1G5y62ZEwZrULtGTkcCAJ9DcQAABLVftuzXhKQ01QsL0ewJQ9WleX2nIwGAT6I4AACC1ueZObprznK1axyu5PhYtWrIGjQAnAjFAQAQlGan7NDD769S/7YNlRAXo0Z1WYMGgN9CcQAABBVrrV799ya98NUGnd+9mV6/bZDCQ/l1CAAnw09KAEDQcLutHv9otZJ/3q7rBrbWMyP6sQYNAFVEcQAABIXSCpfunbdCH6/M0cRzj6xB16jBGjQAVBXFAQAQ8A6VVmjy9HT9sGmfHrq0hyad19npSADgdygOAICAtu9QqcZOS9WanAI9f0N/jYhiDRoATgfFAQAQsLLyijQ6IUU5B4v1zugoXdijhdORAMBvURwAAAFpbU6B4hJSVFrh1szxgxXVvrHTkQDAr1EcAAABJ2VrnsYlpapuaIjmTx6qbi1YgwaAM0VxAAAElC9X79ads5epbaM6Sh43WK1ZgwaAakFxAAAEjLmpO/TQwlXq16ahEsbEqDFr0ABQbSgOAAC/Z63V699u1nNfrNd53ZrpjZGsQQNAdeOnKgDAr7ndVk98vEaJP23TNQNa6bkb+rMGDQAeQHEAAPitsgq3/jR/hT5csUvjzu6ohy/ryRo0AHgIxQEA4JcOl1Zo8ox0fb9xnx4Y3kOTz+skYygNAOApFAcAgN/Zf6hU8YmpytxVoGdH9NON0W2djgQAAY/iAADwK9kHijR6aop25hfrrZFRurgXa9AA4A0UBwCA31i/u1CjE5aquMylGeMHK6YDa9AA4C0UBwCAX0jdlqdxiamqE1pT8ycPU/eWrEEDgDdRHAAAPu/rNXt0x6wMtW5YR8njYtWmUbjTkQAg6FAcAAA+bV5alh5auEp9WkUoYUyMmtSr7XQkAAhKFAcAgE+y1urN77bomc/X6ZyuTfXmyCjVrc2vLQBwCj+BAQA+x+22+vunazX1h626qn8rPX9Df4WGsAYNAE6iOAAAfEpZhVv3L1ihD5bv0phhHfTYFb1YgwYAH0BxAAD4jKKyCk2ekaElG3J13yXddfv5nVmDBgAfQXEAAPiEA4fLNDYxVSuz8/X0dX11c2w7pyMBAI5CcQAAOG5nfrFGT12qrAPFemNklC7p3dLpSACAY1AcAACO2rCnUKOnpuhwWYWmx8dqcKcmTkcCABwHxQEA4Jj07XmKT0xT7ZAamjdpqHpGRjgdCQBwAhQHAIAj/r1uj26fmaHIBnWUHB+rto1ZgwYAX0ZxAAB43YL0bD3w3kr1iozQtLExasoaNAD4PIoDAMCr3vpus576bJ3O6tJEb42KVj3WoAHAL/DTGgDgFW631VOfrdU732/VFf0i9cKN/VU7pKbTsQAAVURxAAB4XLnLrQcWrNTCZTsVN7S9/nJlb9agAcDPUBwAAB5VVFahO2Zm6Jv1ubr3d91054VdWIMGAD9EcQAAeMyBw2WKT0rViqx8/ePavrp1MGvQAOCvKA4AAI/YlV+s0Qkp2pFXpNdvG6ThfSKdjgQAOAMUBwBAtdu0t1CjpqboUEmFksbGamhn1qABwN9RHAAA1SpjxwHFJ6YqpEYNzZk0RL1bNXA6EgCgGlAcAADV5pv1e3X7jAw1j6it6fGD1a4Ja9AAECgoDgCAavH+smzdN3+luresr8SxsWpWnzVoAAgkFAcAwBl79/st+tsnazWscxO9NSpK9cNqOR0JAFDNKA4AgNNmrdXTn6/TW99t0WV9W+qlmwawBg0AAYriAAA4LRUutx5cuEoL0rM1ckg7/fWqPqrJGjQABCyKAwDglBWXuXTnrAwtXrdXf7y4q+6+qCtr0AAQ4CgOAIBTkl9UpvFJaUrfcUB/u6aPRg5p73QkAIAXUBwAAFWWc7BYcQkp2ravSK/dOkiX9WUNGgCCBcUBAFAlm/YeUlxCig4WlytxbIyGdWnqdCQAgBdRHAAAJ7U8K19jp6WoZg2jOROHqE9r1qABINhQHAAAv+m7DbmaMiNdTevVVnJ8rDo0ret0JACAAygOAIATWrR8p+6dt0JdW9RXUnyMmtcPczoSAMAhFAcAwHEl/LBVT3y8RoM7NtY7cdGKYA0aAIIaxQEA8F+stXrui/V6/dvNGt67pV6+eYDCarEGDQDBjuIAAPhVhcuth9/P1Ny0LN0S205/u4Y1aADAERQHAIAkqaTcpTtnLdPXa/forgu76J7fdWMNGgDwK4oDAEAHi8s1ISlNqdvz9MTVvTV6aAenIwEAfAzFAQCC3J6CEsUlpGhz7iH98+aBurJ/K6cjAQB8EMUBAILYltxDGjU1RflFZZo2JlZnd2UNGgBwfBQHAAhSK7PzNWZaqoykOROHqm8b1qABACdGcQCAIPT9xlxNnp6uRnVDNX3cYHVkDRoAcBIUBwAIMh+u2KV75y1X52b1lBQfqxYRrEEDAE6uhje+iTEmwRiz1xiTedSxx40xO40xyyvfLvNGFgAIZok/btXdc5ZpYNtGmjtpKKUBAFBlXikOkhIlDT/O8ZestQMq3z71UhYACDrWWr3w5Xo9/tEa/a5nCyWPi1WDOrWcjgUA8CNeeaqStXaJMaaDN74XAOC/VbjcenRRpmanZOmm6Lb6+7V9FFLTW//fCAAQKJz+zXGnMWZl5VOZGp3ok4wxE40xacaYtNzcXG/mAwC/VlLu0u0zMzQ7JUt3XtBFT1/fl9IAADgtTv72eENSZ0kDJOVIeuFEn2itfdtaG22tjW7WrJm38gGAXysoKVdcQoq+XLNHj1/ZS3+6pLuMMU7HAgD4KcdeVclau+c/7xtj3pH0sVNZACDQ7C0oUdy0VG3aW6hXbh6gqwe0djoSAMDPOVYcjDGR1tqcyg+vlZT5W58PAKiarfsOa3TCUu0/VKapcTE6txuP1AIAzpxXioMxZrak8yU1NcZkS/qLpPONMQMkWUnbJE3yRhYACGSZOw8qLiFFVtKsCUM0oG1DpyMBAAKEt15V6ZbjHJ7qje8NAMHix037NDE5TQ3DQ5U8Lladm9VzOhIAIICwHA0AAeCTlTm6Z+5ydWxaV0nxsWrZgGE3AED1ojgAgJ+b/vM2PfbhakW1a6SpcTFqEM6wGwCg+lEcAMBPWWv10tcb9c/FG3Vxz+b61y2DVCe0ptOxAAABiuIAAH7I5bZ6dFGmZi3doRFRbfT0dQy7AQA8i+IAAH6mpNyle+Yu12eZuzX5vM56YDjDbgAAz6M4AIAfKSgp18TkNP2yJU+PXN5T48/p5HQkAECQoDgAgJ/YW1iiMQmp2rCnUC/fNEDXDGQNGgDgPRQHAPAD2/cf1qipKcotLNW7cdE6v3tzpyMBAIIMxQEAfFzmzoMaMy1VLrdbsyYM1sB2jZyOBAAIQhQHAPBhP23ep4nJ6YoIC1HyxGHq0pw1aACAMygOAOCjPluVo7vnLFf7JuFKHheryAZ1nI4EAAhiFAcA8EEzftmuRxdlalC7RpoaF62G4aFORwIABDmKAwD4EGutXlm8US9/vVEX9miu125lDRoA4BsoDgDgI1xuq8c/XK3pv2zX9YPa6Onr+6oWa9AAAB9BcQAAH1Ba4dL/zV2hT1blaNK5nfTgpT1YgwYA+BSKAwA4rLCkXJOmp+unzfv18GU9NeFc1qABAL6H4gAADsotLNXYxBStzSnUCzf01/VRbZyOBADAcVEcAMAhO/YXaXTCUu0uKNG7o6N1QQ/WoAEAvoviAAAOWLOrQHHTUlRW4dbM8UMU1Z41aACAb6M4AICX/bJlvyYkpaleWIhmTR6qri3qOx0JAICTojgAgBd9nrlbd81ZpnaNw5UcH6tWDVmDBgD4B4oDAHjJ7JQdevj9VerftqES4mLUqC5r0AAA/0FxAAAPs9bq1X9v0gtfbdD53Zvp9dsGKTyUH78AAP/Cby4A8CC32+qvH61W0s/bde3A1np2RD/WoAEAfoniAAAeUlrh0r3zVujjlTmacE5HPXRpT9WowRo0AMA/URwAwAMOlVZo8vR0/bBpnx66tIcmndfZ6UgAAJwRigMAVLP9h0o1NjFVq3cV6LkR/XRDdFunIwEAcMYoDgBQjbLyijQ6IUU5B4v19qgoXdSzhdORAACoFhQHAKgma3MKFJeQopJyl2aOH6yo9o2djgQAQLWhOABANUjZmqdxSamqGxqiBVOGqRtr0ACAAENxAIAz9NWaPbpzVoZaN6qj6eMGqzVr0ACAAERxAIAzMC81Sw8uXKm+bRpq2pgYNWYNGgAQoCgOAHAarLV6/dvNeu6L9Tq3WzO9cdsg1a3Nj1QAQODitxwAnCK32+rJT9Zo2o/bdPWAVnpuRH+FhrAGDQAIbKdcHIwxdSWVWGtdHsgDAD6trMKt+xas0KLluxR/Vkc9cjlr0ACA4HDS4mCMqSHpZkm3SYqRVCqptjEmV9Knkt621m70aEoA8AGHSys0ZWaGlmzI1f3Du2vKeZ1lDKUBABAcqvKIwzeSvpb0kKRMa61bkowxjSVdIOlpY8z71toZnosJAM7KO1ymsYmpWpWdr2ev76cbY1iDBgAEl6oUh4utteXGmPb/KQ2SZK3Nk/SepPeMMbU8lhAAHJZ94Mga9M4DxXprVLR+14s1aABA8Dnp1XzW2vLKd98/9u+MMUOO+RwACCjrdxdqxBs/K7ewVNPHDaY0AACCVlWucbhR0iBJ9Y0xPSVtOOrC6Lcl9fNgPgBwTNq2PMUnpiqsVk3NnzxUPVpGOB0JAADHVOWpSj9KCpM0XtKLkrobY/Il7ZJU7MFsAOCYxWv36PaZGWrdsI6S4mPVtnG405EAAHDUSYuDtXanpGRjzGZr7Y/SrxdGd5S0zsP5AMDr5qdl6cGFq9S7VYSmjYlRk3q1nY4EAIDjqvJUJWOP+PE/xyovjM479nM8lBEAvMJaq7eWbNHTn63T2V2a6s1RUarHGjQAAJKqcHG0pG+MMX8wxrQ7+qAxJtQYc6ExJklSnGfiAYB3uN1Wf/9krZ7+bJ2u7N9KCWNiKA0AABylKr8Vh0uKlzTbGNNRUr6OXPNQU9KXkl6y1i73XEQA8Kxyl1v3L1ip95ft1JhhHfTYFb1YgwYA4BhVKQ73SSqy1p5VudfQVFKxtTbfs9EAwPOKyio0ZUaGvtuQqz/9vpvuuKALa9AAABxHVYrDKEkDpF/3GnIkyRgzXlIza+1TnosHAJ5zoHINemV2vp66rq9uiW138i8CACBIVeUah2JrbdFxjk+XNLKa8wCAV+zML9aIN3/SmpwCvX5bFKUBAICTqMojDsXGmEhrbc7RB621pcaYCg/lAgCP2binUKMTUnSopELJ8bEa0qmJ05EAAPB5VXnE4QVJi4wx7Y8+aIxpLsntkVQA4CHp2w9oxJs/q8JtNXfSUEoDAABVVJUBuPnGmHBJ6caYXyQt15HCcYOkxz0bDwCqzzfr9mrKzHS1jAhTcvxgtWvCGjQAAFVVlUccZK1N0pGl6HmSakkqkXSLtXamB7MBQLVZmJGt8clp6tK8nuZPHkZpAADgFFV53chaWygp2YNZAMAj3l6yWf/4dJ2GdW6it0ZFqX5YLacjAQDgd5hFBRCwrLV6+rN1emvJFl3eN1Iv3tRftUNqOh0LAAC/RHEAEJDKXW49+N4qvZeRrVFD2uvxq3qrJmvQAACcNooDgIBTXObSHbMy9O91e3XPxd1010WsQQMAcKYoDgACSn5RmeITU7UsK19/u6aPRg5pf/IvAgAAJ0VxABAwcg4Wa/TUFG3fX6TXbx2kS/tGOh0JAICAQXEAEBA27S3U6KkpKiipUGJ8jIZ1bup0JAAAAgrFAYDfW7bjgMYmpiqkRg3NmThEfVo3cDoSAAABh+IAwK99u36vpszIULP6tTV9XKzaN6nrdCQAAAISxQGA3/pg2U79af4KdWtRX0nxsWpWv7bTkQAACFgUBwB+aeoPW/Xkx2s0pFNjvT06WhGsQQMA4FEUBwB+xVqrZz5frze/26xL+7TUSzcNUFgt1qABAPA0igMAv1HhcuvP76/SvLRs3Ta4nZ64ug9r0AAAeAnFAYBfKC5z6Q+zM/T12r26+6Ku+uPFXVm0GH3JAAAeCklEQVSDBgDAiygOAHzewaJyjUtKVfqOA3ry6t4aNbSD05EAAAg6FAcAPm33wRLFJaRo677DevWWQbq8H2vQAAA4geIAwGdtyT2kUVNTlF9UpsSxMRrWhTVoAACcQnEA4JNWZOVrbGKqahhpzsSh6tuGNWgAAJxEcQDgc5ZsyNXkGelqUi9U0+MHq0NT1qABAHAaxQGAT1m0/MgadJfm9ZU0NkbNI8KcjgQAAERxAOBDpv24VX/9aI1iOzbWu3GsQQMA4EsoDgAcZ63V81+u12vfbNYlvVvolZsHsgYNAICPoTgAcFSFy61HPsjUnNQs3RLbVn+7pi9r0AAA+CCKAwDHlJS7dNfsZfpyzR794cIu+r/fdWMNGgAAH1XDG9/EGJNgjNlrjMk86lhjY8xXxpiNlX828kYWAL7hYHG5Rk9N0Vdr9+jxK3vp3t93pzQAAODDvFIcJCVKGn7MsQclLbbWdpW0uPJjAEFgb0GJbnrrZy3LOqBXbh6oMWd1dDoSAAA4Ca8UB2vtEkl5xxy+WlJS5ftJkq7xRhYAztq677Cue+Mn7cgrUsKYGF3Vv5XTkQAAQBU4eY1DC2ttjiRZa3OMMc0dzALAC1ZlH9SYaSmykuZMHKJ+bRo6HQkAAFSRt56qdEaMMRONMWnGmLTc3Fyn4wA4DT9s3Keb3/5ZYbVqasHkoZQGAAD8jJPFYY8xJlKSKv/ce6JPtNa+ba2NttZGN2vWzGsBAVSPj1fu0tjEFLVtHK6Ftw9Tp2b1nI4EAABOkZPF4UNJcZXvx0la5GAWAB6S9NM2/WH2Mg1o21BzJw1Vi4gwpyMBAIDT4JVrHIwxsyWdL6mpMSZb0l8kPS1pnjFmnKQdkm7wRhYA3mGt1UtfbdA//71JF/dsoVdvZQ0aAAB/5pXiYK295QR/dZE3vj8A73K5rR5dlKlZS3foxug2+se1fRVS0y8uqQIAACfAcjSAalVS7tLdc5bpi9V7NOX8zrr/EobdAAAIBBQHANWmoKRcE5LStHRrnh67opfiz2bYDQCAQEFxAFAt9haWKC4hVRv3FOqVmwfo6gGtnY4EAACqEcUBwBnbtu+wRiekaN+hUk0dE6PzuvGyyQAABBqKA4AzkrnzyBq0y201a8IQDWjLsBsAAIGI4gDgtP20aZ8mTk9Xgzq1lBQfqy7NGXYDACBQURwAnJZPV+Xoj3OWq0PTcCXFxyqyQR2nIwEAAA+iOAA4ZTN+2a5HF2VqULtGmhoXrYbhoU5HAgAAHkZxAFBl1lq9/PVGvbJ4oy7q0Vyv3jpIdUJZgwYAIBhQHABUictt9ZcPMzXjlx0aEdVGT13XV7VYgwYAIGhQHACcVGmFS/fMXa5PV+3WpPM66cHhPViDBgAgyFAcAPymwpJyTUxO189b9uuRy3tq/DmdnI4EAAAcQHEAcEK5haUaMy1F63cX6qWb+uvagW2cjgQAABxCcQBwXDv2F2lUwlLtLSjVO3HRuqB7c6cjAQAAB1EcAPyP1bsOasy0VJW73Jo5YbAGtWvkdCQAAOAwigOA//Lz5v2amJym+mEhmj1hqLo0r+90JAAA4AMoDgB+9Xnmbt01Z5naNQ5XcnysWjVkDRoAABxBcQAgSZq1dIce+WCV+rdtqIS4GDWqyxo0AAD4/ygOQJCz1upf/96kF7/aoAu6N9Nrtw1SeCg/GgAAwH/j3gEQxNxuq8c/Wq3kn7frukGt9cz1/ViDBgAAx0VxAIJUaYVL985boY9X5mjiuUfWoGvUYA0aAAAcH8UBCEKHSis0eXq6fti0Tw9d2kOTzuvsdCQAAODjKA5AkNl3qFRjp6VqTU6Bnr+hv0ZEsQYNAABOjuIABJGsvCKNTkhRzsFivTM6Shf2aOF0JAAA4CcoDkCQWJtToLiEFJVWuDVz/GBFtW/sdCQAAOBHKA5AEFi6Zb/GJ6epbmiI5k8eqm4tWIMGAACnhuIABLgvV+/WnbOXqU2jOpo+brBaswYNAABOA8UBCGBzUnboz++vUr82DZUwJkaNWYMGAACnieIABCBrrV7/drOe+2K9zu3WTG+OZA0aAACcGe5JAAHG7bZ64uM1Svxpm64Z0ErPjuiv0BDWoAEAwJmhOAABpKzCrT/NX6EPV+zSuLM76uHLerIGDQAAqgXFAQgQh0srNHlGur7fuE8PDO+hyed1kjGUBgAAUD0oDkAAyDtcprHTUrRq50E9e30/3RjT1ulIAAAgwFAcAD+XfaBIo6emaGd+sd4aFa3f9WINGgAAVD+KA+DH1u0+sgZdXObSjPGDFdOBNWgAAOAZFAfAT6Vuy9O4xFTVCa2peZOHqkfLCKcjAQCAAEZxAPzQV2v26M5ZGWrdsI6Sx8WqTaNwpyMBAIAAR3EA/My8tCw9tHCV+rSKUMKYGDWpV9vpSAAAIAhQHAA/Ya3VG99t1rOfr9c5XZvqzZFRqlub/4QBAIB3cK8D8ANut9XfPlmrhB+36qr+rfT8DaxBAwAA76I4AD6urMKt+xas0KLluzRmWAc9dkUv1qABAIDXURwAH3a4tEJTZmZoyYZc3XdJd91+fmfWoAEAgCMoDoCPyjtcprGJqVqVna9nru+rm2LaOR0JAAAEMYoD4IOyDxRpdEKKdh4o1psjo/T73i2djgQAAIIcxQHwMRv2FGr01BQdLqvQ9HGDFduRNWgAAOA8igPgQ9K25Sk+MVVhtWpqPmvQAADAh1AcAB+xeO0e3T7zyBp0Unys2jZmDRoAAPgOigPgA+anZenBhavUu1WEprEGDQAAfBDFAXCQtVZvLdmipz9bp3O6NtUbI6NUjzVoAADgg7iHAjjE7bb6x6dr9e4PW3Vl/1Z6gTVoAADgwygOgAPKXW7dv2Cl3l+2kzVoAADgFygOgJcVlVVoyowMfccaNAAA8CMUB8CLDlSuQa/MztfT1/XVzbGsQQMAAP9AcQC8ZGd+sUZPXaqsA8V6Y2SULmENGgAA+BGKA+AF/7UGHR+rwZ2aOB0JAADglFAcAA9L356n+MQ01Q6poXmThqpnJGvQAADA/1AcAA9avHaP7piVocgGdZTMGjQAAPBjFAfAQ1iDBgAAgYTiAFSzo9egz+7SVG+OYg0aAAD4P+7NANWINWgAABCoKA5ANWENGgAABDKKA1ANWIMGAACBjuIAnCHWoAEAQDCgOABngDVoAAAQLCgOwGliDRoAAAQTigNwGliDBgAAwYbiAJyir9fs0Z2zWYMGAADBheIAnIJ5aVl6iDVoAAAQhCgOQBVYa/XGd5v17OfrdU7XpnpzZJTqsgYNAACCCPd8gJNwu62e/GSNpv24TVf1b6XnWYMGAABBiOIA/IayCrf+NH+FPlyxS/FnddQjl/dkDRoAAAQligNwAodKKzRlRrq+37hPDwzvocnndWINGgAABC2KA3Ac+w6VKj4xVat3Fei5Ef10Q3RbpyMBAAA4iuIAHCMrr0ijE1KUc7BYb4+K0kU9WzgdCQAAwHEUB+Aoa3YVKG5aisoq3Jo5frCi2jd2OhIAAIBPoDgAlX7Zsl8TktJULyxEsyYPVdcW9Z2OBAAA4DMcLw7GmG2SCiW5JFVYa6OdTYRg9Hlmju6as1ztGocrOT5WrRrWcToSAACAT3G8OFS6wFq7z+kQCE4zftmuRxdlamDbhkoYE6OG4aFORwIAAPA5vlIcAK+z1uqVxRv18tcbdWGP5nrt1kGqE1rT6VgAAAA+yRfmb62kL40x6caYiU6HQXBwua0e+SBTL3+9USOi2uitUVGUBgAAgN/gC484nGWt3WWMaS7pK2PMOmvtkqM/obJQTJSkdu3aOZERAaSk3KU/zlmuz1fv1pTzO+v+S7oz7AYAAHASjj/iYK3dVfnnXknvS4o9zue8ba2NttZGN2vWzNsREUAKSsoVl5Ciz1fv1qNX9NIDw3tQGgAAAKrA0eJgjKlrjKn/n/cl/V5SppOZELj2FpToprd+UcaOA3rl5gEad3ZHpyMBAAD4DaefqtRC0vuV/8c3RNIsa+3nzkZCINqce0ijp6Yov6hMU+NidG43HrkCAAA4FY4WB2vtFkn9ncyAwLdsxwHFJ6aqhjGaM3Go+rZp4HQkAAAAv+P0Iw6AR/173R7dMXOZmkfUVtLYWHVoWtfpSAAAAH6J4oCANS8tSw8tXKVekRFKGBOjZvVrOx0JAADAb1EcEHCstXr928167ov1OqdrU70xMkr1anNTBwAAOBPcm0JAcbmtnvhotZJ+3q5rBrTSsyP6KzTE8VcdBgAA8HsUBwSMknKX/m/ecn26arcmnttJDw7voRo12GgAAACoDhQHBISCknJNSErT0q15euTynhp/TienIwEAAAQUigP83p6CEsUlpGhz7iG9cvMAXT2gtdORAAAAAg7FAX5t095Diks4MuyWMCZG53Rl2A0AAMATKA7wWxk7DmhcYqpq1jCaO2mo+rRm2A0AAMBTKA7wS4vX7tEdszLUMiJMSfGxat+EYTcAAABPojjA78xLzdJD7x8Zdps2NkZN6zHsBgAA4GkUB/gNa61e+2aTnv9yg87p2lRvjoxSXYbdAAAAvIJ7XfALLrfV4x+u1vRftuvaga31zPX9GHYDAADwIooDfF5JuUv3zF2uzzJ3a9K5nfQAw24AAABeR3GATztwuEzjk9OUseMAw24AAAAOojjAZ+3YX6Qx01KUnV+s124dpMv6RjodCQAAIGhRHOCTVmTla1xSqircVjPHD1ZMh8ZORwIAAAhqFAf4nMVr9+jOWcvUtH6oEsfGqnOzek5HAgAACHoUB/iUGb9s12OLMtWndQNNjYtRs/psNAAAAPgCigN8gttt9dyX6/XGt5t1YY/mevXWgQoP5eYJAADgK7hnBseVVrh0/4KVWrR8l24d3E5PXNVbITXZaAAAAPAlFAc46mBxuSZNT9MvW/J0//DumnJeZxnDRgMAAICvoTjAMTvzizV2Woq27jusl28aoGsGtnY6EgAAAE6A4gBHrN51UGOnpaq43KWk+FgN69zU6UgAAAD4DRQHeN2SDbmaMiNdDerU0oLJw9S9ZX2nIwEAAOAkKA7wqnlpWfrzwlXq0ryeEsfGqmWDMKcjAQAAoAooDvAKa61e/nqjXlm8Ued0barXbxuk+mG1nI4FAACAKqI4wOPKXW79eeEqzU/P1oioNnrqur6qxcutAgAA+BWKAzzqUGmFbp+ZoSUbcnX3RV31x4u78nKrAAAAfojiAI/ZlV+s8UlpWr+nUM9c31c3xbRzOhIAAABOE8UBHpGx44AmJqertNylqXHROr97c6cjAQAA4AxQHFDt3l+WrQfeW6WWEWGaPWGwurbg5VYBAAD8HcUB1cbttnruy/V649vNGtKpsd64LUqN6oY6HQsAAADVgOKAanG4tEJ/nLtcX63Zo1ti2+mvV/VWaAivnAQAABAoKA44Y9kHijQ+KU0b9hTqL1f20phhHXjlJAAAgABDccAZSduWp0nT01XmcitxbKzO7dbM6UgAAADwAIoDTtuC9Gz9eeEqtWoYpnfjYtSleT2nIwEAAMBDKA44ZS631bOfr9NbS7ZoWOcmev22QWoYzkXQAAAAgYzigFNyqLRCd89epsXr9mrkkHb6y5W9VasmF0EDAAAEOooDqiwr78hF0JtyD+nJq3tr1NAOTkcCAACAl1AcUCUpW/M0eUa6KlxuJY2N1dldmzodCQAAAF5EccBJzUvN0sMfrFLbRuF6Ny5anZpxETQAAECwoTjghFxuq6c+Xat3f9iqc7o21au3DFKD8FpOxwIAAIADKA44roKSct01e5m+XZ+rMcM66JHLeyqEi6ABAACCFsUB/2PjnkJNmZmhbfsO6+/X9tFtg9s7HQkAAAAOozjgV9ZazUvL0l8+XK26oSFKHherYZ25CBoAAAAUB1QqLCnXn9/P1EcrdumsLk300o0D1DwizOlYAAAA8BEUB2hFVr7+MHuZduYX675LumvyeZ1Vs4ZxOhYAAAB8CMUhiLndVlN/2KpnPl+nFhFhmjtxiKI7NHY6FgAAAHwQxSFI7T9Uqj/NX6Fv1ufqkt4t9Mz1/dQwPNTpWAAAAPBRFIcg9NPmffrjnOXKLy7Xk1f31sgh7WUMT00CAADAiVEcgkiFy61/Lt6of32zSR2b1lXi2Fj1ahXhdCwAAAD4AYpDkNiVX6y75yxT6rYDGhHVRk9c3VvhofzrBwAAQNVwzzEIfLl6t+5bsFIVLrdeuqm/rh3YxulIAAAA8DMUhwBWUu7S05+tU+JP29SndYT+dcsgdWxa1+lYAAAA8EMUhwC1JfeQ7py1TGtyChR/Vkc9cGl31Q6p6XQsAAAA+CmKQwBamJGtRz7IVGhIDb07OloX92rhdCQAAAD4OYpDADlYVK6/frxaCzN2KrZjY71y8wBFNqjjdCwAAAAEAIpDAKhwuTU7NUsvfrleB4vLdfdFXXXXRV1VswbbDAAAAKgeFAc/99OmfXri4zVat7tQQzo11mNX9GabAQAAANWO4uCnduwv0t8/XaMvVu9Rm0Z19ObIQbqkd0sWoAEAAOARFAc/c6i0Qq99s0lTv9+qkJpG913SXePO7qiwWrxiEgAAADyH4uAn3G6rhct26pnP1ym3sFTXDWqtB4b3UIuIMKejAQAAIAhQHPxA+vYDeuKj1VqRfVAD2jbU26OiNLBdI6djAQAAIIhQHHxYzsFiPfPZOn2wfJdaRNTWSzf119X9W6sGr5YEAAAAL6M4+KCScpfeXrJFb3y7WS5rdecFXTTl/M6qW5t/XQAAAHAG90R9iLVWn6zK0VOfrtPO/GJd1relHrq0p9o2Dnc6GgAAAIIcxcFHZO48qCc+WqOUbXnqGRmhF27sryGdmjgdCwAAAJBEcXBUSblLX6/dowXp2fpuQ64ahYfqH9f21U0xbVl9BgAAgE+hOHiZtVbLs/K1ID1bH63YpYKSCkU2CNOdF3TR+HM6qUGdWk5HBAAAAP4HxcFLdh8s0fvLdmpBepY25x5W7ZAaurRPS42IaquhnZvwCAMAAAB8GsXBg0rKXfpqzZGnIn2/MVduK0W3b6Snr+uky/pFKiKMRxcAAADgHygO1exET0W6/fwuuj6qjTo2ret0RAAAAOCUURyqye6DJVq4LFvvpWdrc+5hhdWqoeG9eSoSAAAAAgPF4QzkF5VpycZ9WpCerR8qn4oU06GRJp7bSZf1jVR9nooEAACAAEFxqAK322p7XpHW7CrQ2pz//7brYIkkqVWDMN1xQRddN4inIgEAACAwURyOcbi0Qut2F2rNUQVh/e5CFZW5JEk1axh1alpXMR0bq2dkhAa0bajYDo1Vg6ciAQAAIIA5XhyMMcMlvSKppqR3rbVPe+P7Wmu162CJ1u4q+K+SsD2vSNYe+Zz6YSHqGRmhG6PbqldkhHpGRqhri3oKq1XTGxEBAAAAn+FocTDG1JT0mqTfScqWlGqM+dBau6aq/wyX2+pQSYUKSsp1sLhcBSXlKiiuUGFJuQpKKlRQeazwqPcLiiu0M79YB4vLf/3ntG8Srp4tI3TdoDbqGRmhnpH11bphHRnDIwkAAACA0484xEraZK3dIknGmDmSrpZ0wuKwJfewhr+8pLIEVOhQacVJv0m92iGKCAtRRJ1aigirpcgGYerftqF6RdZXr1YR6t4yQvVqO30qAAAAAN/l9L3l1pKyjvo4W9LgYz/JGDNR0kRJqhfZWe0ah/9aAur/WgiO/Fk/LEQRYbXUoPLv64WF8FKoAAAAwBlyujgc7x69/Z8D1r4t6W1Jio6Otm+PjvZ0LgAAAABHqeHw98+W1Paoj9tI2uVQFgAAAAAn4HRxSJXU1RjT0RgTKulmSR86nAkAAADAMRx9qpK1tsIYc6ekL3Tk5VgTrLWrncwEAAAA4H85fY2DrLWfSvrU6RwAAAAATszppyoBAAAA8AMUBwAAAAAnRXEAAAAAcFLG2v+ZTfBpxphCSeudzhEkmkra53SIIMB59h7Otfdwrr2D8+w9nGvv4Vx7R3drbf1T+QLHL44+DeuttSzAeYExJo1z7XmcZ+/hXHsP59o7OM/ew7n2Hs61dxhj0k71a3iqEgAAAICTojgAAAAAOCl/LA5vOx0giHCuvYPz7D2ca+/hXHsH59l7ONfew7n2jlM+z353cTQAAAAA7/PHRxwAAAAAeJlPFwdjTIIxZq8xJvOoY42NMV8ZYzZW/tnIyYyB4ATn+XFjzE5jzPLKt8uczBgojDFtjTHfGGPWGmNWG2PurjzO7boa/cZ55nZdzYwxYcaYFGPMispz/dfK4x2NMUsrb9NzjTGhTmf1d79xrhONMVuPul0PcDprIDDG1DTGLDPGfFz5MbdpDznOueY27QHGmG3GmFWV5zSt8tgp3f/w6eIgKVHS8GOOPShpsbW2q6TFlR/jzCTqf8+zJL1krR1Q+faplzMFqgpJ91pre0oaIukOY0wvcbuubic6zxK36+pWKulCa21/SQMkDTfGDJH0jI6c666SDkga52DGQHGicy1J9x11u17uXMSAcrektUd9zG3ac4491xK3aU+5oPKc/uflbk/p/odPFwdr7RJJecccvlpSUuX7SZKu8WqoAHSC8wwPsNbmWGszKt8v1JEflK3F7bpa/cZ5RjWzRxyq/LBW5ZuVdKGkBZXHuU1Xg98416hmxpg2ki6X9G7lx0bcpj3i2HMNrzul+x8+XRxOoIW1Nkc6cudAUnOH8wSyO40xKyufysRTZ6qZMaaDpIGSlorbtcccc54lbtfVrvJpBssl7ZX0laTNkvKttRWVn5Itilu1OPZcW2v/c7v+e+Xt+iVjTG0HIwaKlyXdL8ld+XETcZv2lGPP9X9wm65+9v+1dz+hUpVhHMe/PzRLSpBSyrhB0qKCFBNqkRJGERURBIaFiVCQLSMCMYI2Ldok7VpERJQlQv6JCBHSahuikJnuRErLiqwWlaFPizkXhtudpvHO3HGG7weGOfOel8vDywNzfve8MwPsS3IwyTPNWE/XH6MYHDQ73gBuonU7/DTw2nDLGS9JrgI+BJ6rqt+GXc+4mmad7esBqKrzVbUCmADuBG6dbtrsVjWepq51ktuALcAtwB3A1cDmIZY48pI8DJypqoPtw9NMtadnqMNagz09KKuqaiXwIK0tvHf3+gdGMTj8kGQJQPN8Zsj1jKWq+qF5g7oAvEnrYkB9kOQyWhez26pqZzNsX/fZdOtsXw9WVZ0FPqP1uZKFSeY2pyaAU8Oqaxy1rfUDzda8qqq/gLexr2dqFfBIkhPAdlpblF7Hnh6Ef611kvfs6cGoqlPN8xlgF6117en6YxSDw0fAxuZ4I7BniLWMrckmajwKHOk0V/9fs0/2LeCbqtradsq+7qNO62xf91+SxUkWNsfzgftofabkALC2mWZP90GHtT7W9qYfWvuT7esZqKotVTVRVTcCjwP7q2o99nTfdVjrJ+3p/ktyZZIFk8fA/bTWtafrj7n/dXLYknwArAEWJfkWeBl4FdiR5GngJPDY8CocDx3WeU3z9WcFnAA2Da3A8bIK2AB81exTBngR+7rfOq3zE/Z13y0B3kkyh9Y/o3ZU1cdJjgLbk7wCHKIV5DQzndZ6f5LFtLbTHAaeHWaRY2wz9vRs2WZP9921wK5WFmMu8H5V7U3yJT1cf/jL0ZIkSZK6GsWtSpIkSZJmmcFBkiRJUlcGB0mSJEldGRwkSZIkdWVwkCRJktSVwUGSJElSVwYHSZIkSV0ZHCRJPUuyKcnpJIebx7tJ5if5vPmBMpJMJFnXHM9L8kWSS/qHRyVJnRkcJEkXYznwUlWtaB4bgKeAnVV1vplzL7ASoKrOAZ8C64ZSrSRpxgwOkqSLsQw4PGVsPbAHIMlqYCuwtrkjsRTY3cyRJI2gVNWwa5AkjZgkPwPfAReAn4CHgJNVdV3bnL3AC1V1pHk9B/i+qhYPoWRJ0gy511SS1JMkN9AKAMvbxq4Hzk6ZejNwfPJFVZ1Pci7Jgqr6fXaqlST1i1uVJEm9Wg58PWXsD+CKyRdJrgF+raq/p8y7HPhzsOVJkgbB4CBJ6tUypgSHqvoFmJNkMjwsBU61z2nCxI/ThAlJ0ggwOEiSerUMODrN+D5gdXN8DFiU5EiSu5qxe4BPZqE+SdIA+OFoSVJfJLkdeL75atbpzu8EtlTV8enOS5Iubd5xkCT1RVUdAg5M/gBcuyTzgN2GBkkaXd5xkCRJktSVdxwkSZIkdWVwkCRJktSVwUGSJElSVwYHSZIkSV0ZHCRJkiR1ZXCQJEmS1JXBQZIkSVJX/wD2efDVKPd90gAAAABJRU5ErkJggg==\n",
          "text/plain": "<Figure size 936x576 with 1 Axes>"
         },
         "metadata": {},
         "output_type": "display_data"
        }
       ]
      }
     },
     "89aa9322cd7a4893a36b9d36e2294096": {
      "model_module": "@jupyter-widgets/controls",
      "model_module_version": "1.3.0",
      "model_name": "SliderStyleModel",
      "state": {
       "description_width": ""
      }
     },
     "8e6842184af9457396281d4c5145ef71": {
      "model_module": "@jupyter-widgets/controls",
      "model_module_version": "1.3.0",
      "model_name": "FloatSliderModel",
      "state": {
       "description": "sigma",
       "layout": "IPY_MODEL_3c00d514247a4f9484e1d4bf3d850aac",
       "max": 0.8,
       "min": 0.01,
       "step": 0.1,
       "style": "IPY_MODEL_e2ff9e7dedbb424690dae05093c6e954",
       "value": 0.21
      }
     },
     "9bdd7a4a8e7547a6b4d071f3e929e0d5": {
      "model_module": "@jupyter-widgets/controls",
      "model_module_version": "1.3.0",
      "model_name": "SliderStyleModel",
      "state": {
       "description_width": ""
      }
     },
     "9f661c0e3aae41e6a817c6de22aeb6bb": {
      "model_module": "@jupyter-widgets/controls",
      "model_module_version": "1.3.0",
      "model_name": "FloatSliderModel",
      "state": {
       "description": "k",
       "layout": "IPY_MODEL_35de284bfc4343a293e3d453a96add18",
       "max": 50,
       "min": 10,
       "style": "IPY_MODEL_9bdd7a4a8e7547a6b4d071f3e929e0d5",
       "value": 13
      }
     },
     "c0626e8c75e146f0b210a8ddae54d6c4": {
      "model_module": "@jupyter-widgets/controls",
      "model_module_version": "1.3.0",
      "model_name": "FloatSliderModel",
      "state": {
       "description": "rate",
       "layout": "IPY_MODEL_231dfe15434440398e01b449694ed7d0",
       "max": 0.2,
       "min": 0.01,
       "step": 0.01,
       "style": "IPY_MODEL_89aa9322cd7a4893a36b9d36e2294096",
       "value": 0.08
      }
     },
     "c5a7e5e4b28748a5a62cf79389fd8d66": {
      "model_module": "@jupyter-widgets/base",
      "model_module_version": "1.1.0",
      "model_name": "LayoutModel",
      "state": {}
     },
     "e2ff9e7dedbb424690dae05093c6e954": {
      "model_module": "@jupyter-widgets/controls",
      "model_module_version": "1.3.0",
      "model_name": "SliderStyleModel",
      "state": {
       "description_width": ""
      }
     }
    },
    "version_major": 2,
    "version_minor": 0
   }
  }
 },
 "nbformat": 4,
 "nbformat_minor": 2
}
