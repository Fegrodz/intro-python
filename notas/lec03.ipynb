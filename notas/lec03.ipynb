{
 "cells": [
  {
   "cell_type": "markdown",
   "metadata": {
    "slideshow": {
     "slide_type": "slide"
    }
   },
   "source": [
    "<img src=\"../files/misc/logo.gif\" width=300/>\n",
    "<h1 style=\"color:#872325\">Control Flow</h1>"
   ]
  },
  {
   "cell_type": "markdown",
   "metadata": {
    "slideshow": {
     "slide_type": "slide"
    }
   },
   "source": [
    "## Booleans en Python: `True`, `False`\n",
    "\n",
    "Los programas de computación toman decisiones en términos binarios, es decir, para una computadora algo solo puede ser cierto o falso.\n",
    "\n",
    "Los *booleans* son objetos en Python que pueden tomar estos valores."
   ]
  },
  {
   "cell_type": "code",
   "execution_count": 1,
   "metadata": {},
   "outputs": [
    {
     "name": "stdout",
     "output_type": "stream",
     "text": [
      "True\n",
      "False\n"
     ]
    }
   ],
   "source": [
    "print(True)\n",
    "print(False)"
   ]
  },
  {
   "cell_type": "markdown",
   "metadata": {},
   "source": [
    "Al igual que con `int`s y `float`s, los objetos booleanos contienen sus propios operadores:\n",
    "* `==`: Equivalencia\n",
    "* `!=`: Diferencia\n",
    "* `not`: Negación\n",
    "* `and`: y\n",
    "* `or`: o\n"
   ]
  },
  {
   "cell_type": "markdown",
   "metadata": {
    "slideshow": {
     "slide_type": "slide"
    }
   },
   "source": [
    "**Equivalencia**: Verdadero si y solo si a es igual a b\n",
    "\n",
    "| `==`  | True  | False |\n",
    "|-------|-------|-------|\n",
    "| True  | True  | False |\n",
    "| False | False | True  |"
   ]
  },
  {
   "cell_type": "markdown",
   "metadata": {},
   "source": [
    "**Diferencia**: Verdadero si y solo si `a` no es igual a `b`\n",
    "\n",
    "| `!=`  | True  | False |\n",
    "|-------|-------|-------|\n",
    "| True  | False  | True |\n",
    "| False | True | False  |"
   ]
  },
  {
   "cell_type": "markdown",
   "metadata": {},
   "source": [
    "**Condición \"y\":** Verdadero si y solo si `a` es verdadero y `b` es verdadero\n",
    "\n",
    "| `and`  | True  | False |\n",
    "|-------|-------|-------|\n",
    "| True  | True  | False |\n",
    "| False | False  | False  |"
   ]
  },
  {
   "cell_type": "markdown",
   "metadata": {
    "slideshow": {
     "slide_type": "fragment"
    }
   },
   "source": [
    "**Condición \"o\"**: Verdadero si `a` es verdadero o `b` es verdadero\n",
    "\n",
    "| `or`  | True  | False |\n",
    "|-------|-------|-------|\n",
    "| True  | True  | True |\n",
    "| False | True  | False  |"
   ]
  },
  {
   "cell_type": "markdown",
   "metadata": {},
   "source": [
    "**Negación**\n",
    "\n",
    "| `not`  |   |\n",
    "|-------|-------|\n",
    "| True  | False  |\n",
    "| False | True  |"
   ]
  },
  {
   "cell_type": "markdown",
   "metadata": {},
   "source": [
    "### Métodos cuyos resultados son `type(bool)`"
   ]
  },
  {
   "cell_type": "code",
   "execution_count": 2,
   "metadata": {},
   "outputs": [],
   "source": [
    "my_str = \"The Tipping Point\""
   ]
  },
  {
   "cell_type": "code",
   "execution_count": 3,
   "metadata": {},
   "outputs": [
    {
     "data": {
      "text/plain": [
       "False"
      ]
     },
     "execution_count": 3,
     "metadata": {},
     "output_type": "execute_result"
    }
   ],
   "source": [
    "my_str.endswith(\"boolean\")"
   ]
  },
  {
   "cell_type": "code",
   "execution_count": 4,
   "metadata": {},
   "outputs": [
    {
     "data": {
      "text/plain": [
       "True"
      ]
     },
     "execution_count": 4,
     "metadata": {},
     "output_type": "execute_result"
    }
   ],
   "source": [
    "my_str.endswith(\"Point\")"
   ]
  },
  {
   "cell_type": "code",
   "execution_count": 5,
   "metadata": {},
   "outputs": [
    {
     "data": {
      "text/plain": [
       "True"
      ]
     },
     "execution_count": 5,
     "metadata": {},
     "output_type": "execute_result"
    }
   ],
   "source": [
    "my_str.istitle()"
   ]
  },
  {
   "cell_type": "markdown",
   "metadata": {},
   "source": [
    "### Usos y el keyword  `in`\n",
    "\n",
    "En algunas ocasiones nos interesa conocer si un objeto cuenta con alguna propiedad; tiene ciertas carácterísticas. Al correr estos programas, esperaríamos un resultado positivo o negativo, dependiendo si la propiedad se cumple."
   ]
  },
  {
   "cell_type": "markdown",
   "metadata": {},
   "source": [
    "Dada una colección de valores, usamos el keyword `in` para determinar si un valor específico se encuentra dentro de la colección dada."
   ]
  },
  {
   "cell_type": "code",
   "execution_count": 6,
   "metadata": {},
   "outputs": [
    {
     "data": {
      "text/plain": [
       "'The Tipping Point'"
      ]
     },
     "execution_count": 6,
     "metadata": {},
     "output_type": "execute_result"
    }
   ],
   "source": [
    "my_str"
   ]
  },
  {
   "cell_type": "code",
   "execution_count": 7,
   "metadata": {},
   "outputs": [
    {
     "data": {
      "text/plain": [
       "True"
      ]
     },
     "execution_count": 7,
     "metadata": {},
     "output_type": "execute_result"
    }
   ],
   "source": [
    "# Busqueda de los carácteres \"tipping\" dentro de la variable my_str\n",
    "\"Tipping\" in my_str"
   ]
  },
  {
   "cell_type": "code",
   "execution_count": 8,
   "metadata": {},
   "outputs": [
    {
     "data": {
      "text/plain": [
       "True"
      ]
     },
     "execution_count": 8,
     "metadata": {},
     "output_type": "execute_result"
    }
   ],
   "source": [
    "# Búsqueda del elemento \"one\" dentro de la variable my_list\n",
    "\"one\" in [\"one\", \"two\", \"three\", \"four\"]"
   ]
  },
  {
   "cell_type": "code",
   "execution_count": 9,
   "metadata": {},
   "outputs": [
    {
     "data": {
      "text/plain": [
       "False"
      ]
     },
     "execution_count": 9,
     "metadata": {},
     "output_type": "execute_result"
    }
   ],
   "source": [
    "\"five\" in [\"one\", \"two\", \"three\", \"four\"]"
   ]
  },
  {
   "cell_type": "markdown",
   "metadata": {},
   "source": [
    "Para un `dict`, el keyword `in` determina si una **llave** se encuentra dentro de la colección."
   ]
  },
  {
   "cell_type": "code",
   "execution_count": 10,
   "metadata": {},
   "outputs": [
    {
     "data": {
      "text/plain": [
       "True"
      ]
     },
     "execution_count": 10,
     "metadata": {},
     "output_type": "execute_result"
    }
   ],
   "source": [
    "\"one\" in {\"one\": 1, \"two\": 2, \"three\": 3}"
   ]
  },
  {
   "cell_type": "code",
   "execution_count": 11,
   "metadata": {},
   "outputs": [
    {
     "data": {
      "text/plain": [
       "False"
      ]
     },
     "execution_count": 11,
     "metadata": {},
     "output_type": "execute_result"
    }
   ],
   "source": [
    "\"four\" in {\"one\": 1, \"two\": 2, \"three\": 3}"
   ]
  },
  {
   "cell_type": "markdown",
   "metadata": {
    "slideshow": {
     "slide_type": "slide"
    }
   },
   "source": [
    "## Comparaciones Lógicas\n",
    "\n",
    "Adicional a los operadores aritméticos, los `int`s y `float`s en python cuentan con operadores que nos permiten comparar valores numéricos.\n",
    "\n",
    "`>`, `<`, `==`, `!=`"
   ]
  },
  {
   "cell_type": "code",
   "execution_count": 12,
   "metadata": {
    "slideshow": {
     "slide_type": "fragment"
    }
   },
   "outputs": [
    {
     "data": {
      "text/plain": [
       "False"
      ]
     },
     "execution_count": 12,
     "metadata": {},
     "output_type": "execute_result"
    }
   ],
   "source": [
    "3 > 5"
   ]
  },
  {
   "cell_type": "code",
   "execution_count": 13,
   "metadata": {
    "slideshow": {
     "slide_type": "fragment"
    }
   },
   "outputs": [
    {
     "data": {
      "text/plain": [
       "True"
      ]
     },
     "execution_count": 13,
     "metadata": {},
     "output_type": "execute_result"
    }
   ],
   "source": [
    "3 < 5"
   ]
  },
  {
   "cell_type": "code",
   "execution_count": 14,
   "metadata": {
    "slideshow": {
     "slide_type": "fragment"
    }
   },
   "outputs": [
    {
     "data": {
      "text/plain": [
       "True"
      ]
     },
     "execution_count": 14,
     "metadata": {},
     "output_type": "execute_result"
    }
   ],
   "source": [
    "3 <= 5"
   ]
  },
  {
   "cell_type": "code",
   "execution_count": 15,
   "metadata": {
    "slideshow": {
     "slide_type": "fragment"
    }
   },
   "outputs": [
    {
     "data": {
      "text/plain": [
       "False"
      ]
     },
     "execution_count": 15,
     "metadata": {},
     "output_type": "execute_result"
    }
   ],
   "source": [
    "4 == 1"
   ]
  },
  {
   "cell_type": "code",
   "execution_count": 16,
   "metadata": {
    "slideshow": {
     "slide_type": "fragment"
    }
   },
   "outputs": [
    {
     "data": {
      "text/plain": [
       "True"
      ]
     },
     "execution_count": 16,
     "metadata": {},
     "output_type": "execute_result"
    }
   ],
   "source": [
    "4 != 1"
   ]
  },
  {
   "cell_type": "code",
   "execution_count": 17,
   "metadata": {
    "slideshow": {
     "slide_type": "fragment"
    }
   },
   "outputs": [
    {
     "data": {
      "text/plain": [
       "False"
      ]
     },
     "execution_count": 17,
     "metadata": {},
     "output_type": "execute_result"
    }
   ],
   "source": [
    "1 < -4 < 10"
   ]
  },
  {
   "cell_type": "markdown",
   "metadata": {},
   "source": [
    "<h2 style=\"color:#d62728\">Ejercicios</h2>\n",
    "\n",
    "1. Analiza y explica el resultado de los siguientes comandos:\n",
    "    * `(True or False) and False`\n",
    "    * `True or False and False`\n",
    "    * `not False != (False or True)`\n",
    "    * `not not False and not False`\n",
    "2. Usando `>`, `<` y `and`, ¿de qué manera reescribrías la siguiente expresión: `3 < x < 10`? Considera `type(x) == int`\n",
    "3. Considerando la lista `nombres` y dadas las variables `edad` y `nombre` por un usuario, valida si el nombre dado se encuentra dentro de la lista de nombres y si la edad es mayor a 23. Por ejemplo, si el nombre es `\"Isaac\"` y la edad es `20`, el valor debería ser `False`.\n",
    "```python\n",
    "nombres = ['Javier', 'Tadeo', 'Simón', 'Mariano', 'Arcadio',\n",
    "           'Magdalena', 'Román', 'Liduvina', 'Isaac', 'Lorena']\n",
    "```\n",
    "4. Considera el diccionario `nombre_edad`. Sin evaluar las siguientes expresiones en python, piensa en los resultados de las siguientes expresiones:\n",
    "    * `\"Javier\" in nombre_edad`\n",
    "    * `\"Javier \" in nombre_edad`\n",
    "    * `28 in nombre_edad`\n",
    "    * `nombre_edad[\"Mariano\"] < 8`\n",
    "    * `\"Simón\" in nombre_edad and \"Isaac\" not in nombre_edad`\n",
    "```python\n",
    "nombre_edad = {'Javier': 25,\n",
    "                     'Tadeo': 28,\n",
    "                     'Simón': 28,\n",
    "                     'Mariano': 8}\n",
    "```"
   ]
  },
  {
   "cell_type": "markdown",
   "metadata": {
    "slideshow": {
     "slide_type": "slide"
    }
   },
   "source": [
    "## Conditional Statments\n",
    "\n",
    "Hasta ahora solo hemos visto programas cuya sequencia opera de manera lineal. Cada *input* sigue la misma serie de pasos independientemente de su valor.\n",
    "<img src=\"../files/lec02/prg01.png\" width=200>"
   ]
  },
  {
   "cell_type": "markdown",
   "metadata": {},
   "source": [
    "Los programas, muy comúnmente, no siguen una serie de pasos que regrese al mismo valor. Por ejemplo, al querer hacer *login* en una página de internet.\n",
    "\n",
    "<img src=\"../files/lec02/prg02.png\" width=400>"
   ]
  },
  {
   "cell_type": "markdown",
   "metadata": {},
   "source": [
    "A fin de poder incluir pasos alternativos, dependiendo de una operación booleana, usamos las condiciones booleanas `if`, `else`"
   ]
  },
  {
   "cell_type": "markdown",
   "metadata": {
    "slideshow": {
     "slide_type": "slide"
    }
   },
   "source": [
    "Sintaxís de un `if` en Python\n",
    "```python\n",
    "if <condicion>:\n",
    "    <expresion>\n",
    "```\n",
    "\n",
    "* La `<condicion>` hace referencia a una operación booleana, es decir, una operación que regrese `True` o `False`. \n",
    "* La `<expresion>` hace referencia a cualquier otro programa valido. Esta se ejectuta solo si el resultado de `<condicion>` resulta `True`.\n",
    "\n",
    "El código definido arriba se conoce como un *code block*. Es importante notar que siempre, despues de una condición como `if`, toda expresión que se desee correr si esta es verdadera **debe contener una sangría de 4 espacios o un tab** en las líneas subsecuentes al `if`."
   ]
  },
  {
   "cell_type": "code",
   "execution_count": 18,
   "metadata": {},
   "outputs": [
    {
     "name": "stdout",
     "output_type": "stream",
     "text": [
      "Ingresa tu usuario: usr186\n",
      "Hola, usr186!\n"
     ]
    }
   ],
   "source": [
    "## Saludo a usuario\n",
    "lista_usuarios = ['usr186', 'usr203', 'usr919', 'usr989',\n",
    "                  'usr587', 'usr131', 'usr640', 'usr757',\n",
    "                  'usr237', 'usr491']\n",
    "usuario = input(\"Ingresa tu usuario: \")\n",
    "if usuario in lista_usuarios:\n",
    "    print(f\"Hola, {usuario}!\")"
   ]
  },
  {
   "cell_type": "markdown",
   "metadata": {},
   "source": [
    "¿Qué sucede si el usuario no se reconoce?  \n",
    "En ese caso `usuario in lista_usuarios == False` y la expresión no se ejecuta."
   ]
  },
  {
   "cell_type": "code",
   "execution_count": 19,
   "metadata": {},
   "outputs": [
    {
     "name": "stdout",
     "output_type": "stream",
     "text": [
      "Ingresa tu usuario: usr000\n",
      "Usuario no reconocido\n"
     ]
    }
   ],
   "source": [
    "## Saludo a usuario\n",
    "lista_usuarios = ['usr186', 'usr203', 'usr919', 'usr989',\n",
    "                  'usr587', 'usr131', 'usr640', 'usr757',\n",
    "                  'usr237', 'usr491']\n",
    "usuario = input(\"Ingresa tu usuario: \")\n",
    "if usuario in lista_usuarios:\n",
    "    print(f\"Hola, {usuario}!\")\n",
    "else:\n",
    "    print(\"Usuario no reconocido\")"
   ]
  },
  {
   "cell_type": "markdown",
   "metadata": {},
   "source": [
    "En ocasiones es necesario tener más de dos condiciones.  \n",
    "Supongamos que dentro de nuestro ejemplo de usuarios en un sistema existen usarios bloqueados. En este caso, tendríamos tres condiciones."
   ]
  },
  {
   "cell_type": "code",
   "execution_count": 20,
   "metadata": {},
   "outputs": [
    {
     "name": "stdout",
     "output_type": "stream",
     "text": [
      "Ingresa tu usuario: usr491\n",
      "El usuario usr491 ha sido bloqueado...\n"
     ]
    }
   ],
   "source": [
    "## Saludo a usuario\n",
    "lista_usuarios = ['usr186', 'usr203', 'usr919', 'usr989',\n",
    "                  'usr587', 'usr131', 'usr640', 'usr757',\n",
    "                  'usr237', 'usr491']\n",
    "lista_usuarios_bloqueados = ['usr160', 'usr464', 'usr461',\n",
    "                             'usr737', 'usr835', 'usr491']\n",
    "usuario = input(\"Ingresa tu usuario: \")\n",
    "\n",
    "if usuario in lista_usuarios_bloqueados:\n",
    "    print(f\"El usuario {usuario} ha sido bloqueado...\")\n",
    "elif usuario in lista_usuarios:\n",
    "    print(f\"Hola, {usuario}!\")\n",
    "else:\n",
    "    print(\"Usuario no reconocido\")"
   ]
  },
  {
   "cell_type": "markdown",
   "metadata": {},
   "source": [
    "**Nota** Las condiciones declaradas se corren una por una de manera *top down*, una vez que algunas de las condiciones regresa `True`, el programa corre el código declarado para la cóndicion y se descartan."
   ]
  },
  {
   "cell_type": "markdown",
   "metadata": {},
   "source": [
    "<h2 style=\"color:#d62728\">Ejercicios</h2>\n",
    "\n",
    "1. Escribe un programa que mencione cómo se encuentra el clima. El Usuario deberá ingresar la temperatura actual:\n",
    "    * Si `temperatura` es mayor a 35 o igual, el programa deberá imprimir `\"Hace mucho calor\"`.\n",
    "    * Si `temperatura` es menor a -15, el programa deberá imprimir `\"Hace mucho frío\"`\n",
    "    * Si `temperatura` es mayor a 25 y menor a 35, el programa deberá imprimir `\"Hace calor\"` \n",
    "    * Si `temperatura` es mayor o igual a -15 y menor a 12, el programa deberá imprimir `\"Hace frío\"`\n",
    "    * Si `temperatura` se encuentra entre 12 y 25 (inclusivo), el programa deberá imprimir `\"El clima es templado\"`\n",
    "1. Consierando el diccionario `user_pass`, crea un programa que pida un usuario y valide si este se encuentra dentro del diccionario. Si el usuario se encuentra dentro de `user_pass`, el programa deberá imprimir `\"usuario registrado\"`; de otra manera, el programa deberá imprimir `\"usuario no registrado\"`. **nota: los programas de usuario-contraseña son más complicados**\n",
    "```python\n",
    "user_pass = {'usr503': '2vu2bo',\n",
    " 'usr085': 'geeaa',\n",
    " 'usr406': 'xqzbiy',\n",
    " 'usr182': 'jbngo0',\n",
    " 'usr168': 'qih6e',\n",
    " 'usr900': '6ynym',\n",
    " 'usr542': '7p6mnd',\n",
    " 'usr847': 'ruqq6y',\n",
    " 'usr629': '9qs9g5',\n",
    " 'usr418': 'f15lg'}\n",
    "```\n",
    "Por ejemplo:\n",
    "```\n",
    "Ingresa tu usuario: usr085\n",
    "Usuario Registrado\n",
    "```\n",
    "1. Modifica el programa anterior: si el usuario **no** ha sido registrado, el programa deberá preguntarle al usuario si se desea registrar, si el usuario ingresa `\"s\"`, el programa deberá preguntarle al usuario una contraseña y agregarlo a `user_pass`; si el usuario ingresa `\"n\"` el programa deberá imprimir `\"El usuario no fue registrado\"`; si el usuario ingresa cualquier otra secuencia, el programa deberá imprimir `\"Opción no valida. Saliendo del programa\"`  \n",
    "Por ejemplo:\n",
    "```\n",
    "Ingresa tu usuario: usr1643\n",
    "Usuario no registrado. ¿Deseas inscribirte (s/n)? n\n",
    "Saliendo del programa...\n",
    "```\n",
    "```\n",
    "Ingresa tu usuario: usr1643\n",
    "Usuario no registrado. ¿Deseas inscribirte (s/n)? y\n",
    "Opción no valida. Saliendo del programa\n",
    "```\n",
    "```\n",
    "Ingresa tu usuario: usr1643\n",
    "Usuario no registrado. ¿Deseas inscribirte (s/n)? s\n",
    "Ingresa tu contraseña: grapple981\n",
    "```\n",
    "Y el diccionario se vería modificado de la siguiente manera\n",
    "```python\n",
    "{'usr503': '2vu2bo',\n",
    "     ...\n",
    " 'usr418': 'f15lg',\n",
    " 'usr1643': 'grapple981'}\n",
    "```\n",
    "1. Modifica el programa anterior: Si el usuario ya se ha registrado, el programa deberá pedirle al usuario que ingrese su contraseña. Si la contraseña no es la correcta, el programa deberá imprimir `\"Contraseña invalida\"`; si lo es, el programa deberá darle la bienvenida al usuario.\n",
    "```\n",
    "Ingresa tu usuario: usr085\n",
    "Ingresa tu contraseña: passw\n",
    "Contraseña invalida\n",
    "```\n",
    "```\n",
    "Ingresa tu usuario: usr085\n",
    "Ingresa tu contraseña: geeaa\n",
    "Bienvenido, usr085\n",
    "```"
   ]
  },
  {
   "cell_type": "markdown",
   "metadata": {
    "slideshow": {
     "slide_type": "slide"
    }
   },
   "source": [
    "### in-line conditionals\n",
    "En ocasiones es necesario asignar el valor a una variable de manera dinámica."
   ]
  },
  {
   "cell_type": "code",
   "execution_count": 21,
   "metadata": {
    "slideshow": {
     "slide_type": "fragment"
    }
   },
   "outputs": [
    {
     "name": "stdout",
     "output_type": "stream",
     "text": [
      "Dame tu edad 13\n",
      "False\n"
     ]
    }
   ],
   "source": [
    "edad = int(input(\"Dame tu edad \"))\n",
    "if edad >= 18:\n",
    "    puedes_votar = True\n",
    "else:\n",
    "    puedes_votar = False\n",
    "    \n",
    "print(puedes_votar)"
   ]
  },
  {
   "cell_type": "markdown",
   "metadata": {},
   "source": [
    "En casos cuando las condiciones son binarias (`if-else`) y de complejidad baja, python nos permite asignar el valor a una variable de una manera dinámica."
   ]
  },
  {
   "cell_type": "code",
   "execution_count": 22,
   "metadata": {},
   "outputs": [
    {
     "name": "stdout",
     "output_type": "stream",
     "text": [
      "Dame tu edad 13\n",
      "no\n"
     ]
    }
   ],
   "source": [
    "edad = int(input(\"Dame tu edad \"))\n",
    "puedes_votar = \"sí\" if edad >= 18 else \"no\"\n",
    "\n",
    "print(puedes_votar)"
   ]
  },
  {
   "cell_type": "markdown",
   "metadata": {},
   "source": [
    "<h2 style=\"color:#d62728\">Ejercicios</h2>\n",
    "\n",
    "1. Usando *in conditionals* escribe un programa que le pida al usuario un número `num` e imprima `\"El número <num> es par\"`, si `num` es par o `\"El número <num> es impar\"` si el número es impar."
   ]
  }
 ],
 "metadata": {
  "celltoolbar": "Slideshow",
  "kernelspec": {
   "display_name": "Python 3",
   "language": "python",
   "name": "python3"
  },
  "language_info": {
   "codemirror_mode": {
    "name": "ipython",
    "version": 3
   },
   "file_extension": ".py",
   "mimetype": "text/x-python",
   "name": "python",
   "nbconvert_exporter": "python",
   "pygments_lexer": "ipython3",
   "version": "3.6.6"
  }
 },
 "nbformat": 4,
 "nbformat_minor": 2
}
