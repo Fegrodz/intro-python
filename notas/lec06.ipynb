{
 "cells": [
  {
   "cell_type": "markdown",
   "metadata": {},
   "source": [
    "<img src=\"../files/misc/logo.gif\" width=300/>\n",
    "<h1 style=\"color:#872325\">File I/O y Módulos</h1>"
   ]
  },
  {
   "cell_type": "markdown",
   "metadata": {},
   "source": [
    "En esta sección veremos como trabajar y manipular archivos desde python. Python viene incluido con una serie de librerías y funciones predefinidas que nos permiten trabajar con archivos. De esta manera, al correr un proceso, podemos guardar su resultado a un archivo o, en su defecto, leer el contenido del archivo a fin de trabajar con sus valores."
   ]
  },
  {
   "cell_type": "markdown",
   "metadata": {},
   "source": [
    "### `open`\n",
    "\n",
    "La función `open` nos permite abrir un archivo encontrado desde nuestra computadora. Con un archivo abierto, podemos escribir, leer, o añadir. \n",
    "\n",
    "**Es importante tener en cuenta en donde estamos trabajando y en donde se encuentra el archivo que queremos leer.**"
   ]
  },
  {
   "cell_type": "markdown",
   "metadata": {},
   "source": [
    "Actualmente me encuentro en el directorio"
   ]
  },
  {
   "cell_type": "code",
   "execution_count": 1,
   "metadata": {},
   "outputs": [
    {
     "data": {
      "text/plain": [
       "'/Users/gerardoduran/Dropbox (Personal)/Analysic-Nabla/proyectos/cursos/python101/notas'"
      ]
     },
     "execution_count": 1,
     "metadata": {},
     "output_type": "execute_result"
    }
   ],
   "source": [
    "pwd"
   ]
  },
  {
   "cell_type": "markdown",
   "metadata": {},
   "source": [
    "El archivo que deseamos leer se llama `texto.txt`, el cual no se encuentra dentro de la carpeta actual"
   ]
  },
  {
   "cell_type": "code",
   "execution_count": 2,
   "metadata": {},
   "outputs": [
    {
     "name": "stdout",
     "output_type": "stream",
     "text": [
      "lec01.ipynb  lec03.ipynb  lec05.ipynb  lec07.ipynb\r\n",
      "lec02.ipynb  lec04.ipynb  lec06.ipynb  lec08.ipynb\r\n"
     ]
    }
   ],
   "source": [
    "ls"
   ]
  },
  {
   "cell_type": "markdown",
   "metadata": {},
   "source": [
    "Sabiendo la ruta al archivo a leer, existen dos maneras de acceder directamente al archivo sin necesidad de modificar el directorio en donde estamos trabajando.\n",
    "\n",
    "En este ejemplo, el archivo a leer se encuentra dentro de  \n",
    "`/Users/gerardoduran/Dropbox/Analysic-Nabla/proyectos/cursos/python101/files/lec06`"
   ]
  },
  {
   "cell_type": "markdown",
   "metadata": {},
   "source": [
    "**Referencia Absoluta**  \n",
    "La primera manera es llegar al archivo desedo considerando toda la ruta hasta el archivo a leer  \n",
    "`/Users/gerardoduran/Dropbox/Analysic-Nabla/proyectos/cursos/python101/files/lec06/texto.txt`"
   ]
  },
  {
   "cell_type": "markdown",
   "metadata": {},
   "source": [
    "**Referencia Relativa**  \n",
    "La segunda manera es especificando, relativo a nuestro directorio, hacía donde nos vamos a mover. Abajo se muestra el diagrama del proyecto.\n",
    "```\n",
    ".\n",
    "├── README.md\n",
    "├── files\n",
    "│   ├── lec01\n",
    "│   │   ├── hello.py\n",
    "│   │   ├── hw_script.png\n",
    "│   │   └── hw_terminal.png\n",
    "│   ├── lec02\n",
    "│   │   ├── prg01.png\n",
    "│   │   └── prg02.png\n",
    "│   ├── lec06\n",
    "│   │   ├── mun_cdmx.csv\n",
    "│   │   └── texto.txt\n",
    "│   └── misc\n",
    "│       └── logo.gif\n",
    "└── notas\n",
    "    ├── lec01.ipynb\n",
    "    ├── lec02.ipynb\n",
    "    ├── lec03.ipynb\n",
    "    ├── lec04.ipynb\n",
    "    ├── lec05.ipynb\n",
    "    ├── lec06.ipynb\n",
    "    └── lec07.ipynb\n",
    "```\n",
    "\n",
    "\n",
    " Nos encontramos actualmente dentro la carpeta `notas`. Si quisieramos llegar a la carpeta `lec06` dentro de `files`, tendríamos que *retroceder* una carpeta para luego acceder a `files`.\n",
    " \n",
    " Retrocedemos una carpeta de manera *relativa* por medio de `..`. En otras palabras, si quisieramos acceder al archivo `texto.txt` de manera relativa, la ruta sería  \n",
    "`../files/lec06/texto.txt`"
   ]
  },
  {
   "cell_type": "markdown",
   "metadata": {},
   "source": [
    "### ...de regreso a `open` (leyendo archivos)\n",
    "\n",
    "Abrimos y leemos un archivo en Python con la función `open` cuyo primer argumento es la ruta del archivo a a acceder.\n",
    "\n",
    "```python\n",
    "open(file, mode='r', buffering=-1, encoding=None, errors=None, newline=None, closefd=True, opener=None)\n",
    "```"
   ]
  },
  {
   "cell_type": "code",
   "execution_count": 3,
   "metadata": {},
   "outputs": [
    {
     "data": {
      "text/plain": [
       "<_io.TextIOWrapper name='../files/lec06/texto.txt' mode='r' encoding='UTF-8'>"
      ]
     },
     "execution_count": 3,
     "metadata": {},
     "output_type": "execute_result"
    }
   ],
   "source": [
    "route = \"../files/lec06/texto.txt\"\n",
    "f = open(route)\n",
    "f"
   ]
  },
  {
   "cell_type": "markdown",
   "metadata": {},
   "source": [
    "El resultado de abrir un archivo es un `file object` sobre el cual podemos manipular antes de visualizar el contenido del archivo. Dependiendo del *modo* seleccionado para trabajar con el archivo, `f` toma diferentes propiedades. Por *default* el modo es *r* (read), sin embargo, existen diferentes modos de trabajo. Enunciaremos los más comunes abajo.\n",
    "\n",
    "* `r`: leer (default)\n",
    "* `w`: escribir\n",
    "* `a`: escribir. Agrega información al final del archivo si este ya existe\n",
    "* `b`: binario. Para trabajar con archivos binarios, e.g., excel"
   ]
  },
  {
   "cell_type": "code",
   "execution_count": 4,
   "metadata": {},
   "outputs": [
    {
     "data": {
      "text/plain": [
       "'Esto es un archivo de texto.\\n'"
      ]
     },
     "execution_count": 4,
     "metadata": {},
     "output_type": "execute_result"
    }
   ],
   "source": [
    "# Con el método f.read() leemos los contenidos del archivo\n",
    "f.read()"
   ]
  },
  {
   "cell_type": "markdown",
   "metadata": {},
   "source": [
    "Para evitar posibles conflictos en el archivo, es importante cerrarlo una vez que se haya terminado de utilizar"
   ]
  },
  {
   "cell_type": "code",
   "execution_count": 5,
   "metadata": {},
   "outputs": [],
   "source": [
    "f.close()"
   ]
  },
  {
   "cell_type": "code",
   "execution_count": 6,
   "metadata": {},
   "outputs": [
    {
     "name": "stdout",
     "output_type": "stream",
     "text": [
      "Esto es un archivo de texto.\n",
      "\n"
     ]
    }
   ],
   "source": [
    "## Código completo para abrir un archivo y ver su contenido\n",
    "route = \"../files/lec06/texto.txt\"\n",
    "file = open(route) # Abrimos el archivo\n",
    "print(file.read()) # Guardamos información en una variable\n",
    "file.close() # cerramos el archivo"
   ]
  },
  {
   "cell_type": "markdown",
   "metadata": {},
   "source": [
    "Una vez abierto un archivo es imprescindible cerrarlo. Para tener un poco más de legibilidad y no olvidar cerrar el archivo, se puede hacer uso del *keyword* `with` que abre un archivo dentro de un bloque de texto para posteiormente cerrarlo.\n",
    "\n",
    "El keywork `with` toma un objeto (en nuestro caso un lector de archivos) que incluya dos métodos: `.open` y `.close`. Python se encarga de abrir y cerrar el archivo.\n",
    "\n",
    "\n",
    "```python\n",
    "with open(filename, mode) as f:\n",
    "    <manipulación del archivo>\n",
    "```"
   ]
  },
  {
   "cell_type": "code",
   "execution_count": 7,
   "metadata": {},
   "outputs": [
    {
     "name": "stdout",
     "output_type": "stream",
     "text": [
      "Esto es un archivo de texto.\n",
      "\n"
     ]
    }
   ],
   "source": [
    "route = \"../files/lec06/texto.txt\"\n",
    "with open(route, \"r\") as file:\n",
    "    print(file.read())"
   ]
  },
  {
   "cell_type": "markdown",
   "metadata": {},
   "source": [
    "Si tratamos de volver a leer el archivo, el siguiente error nos aparece:\n",
    "```python\n",
    ">>> f.read()\n",
    "ValueError                                Traceback (most recent call last)\n",
    "<ipython-input-24-873bb1270d85> in <module>()\n",
    "      1 # Si tratamos y\n",
    "----> 2 f.read()\n",
    "\n",
    "ValueError: I/O operation on closed file.\n",
    "```\n",
    "El cuál anuncia que el archivo ha sido cerrado"
   ]
  },
  {
   "cell_type": "markdown",
   "metadata": {},
   "source": [
    "### Escribiendo Archivos\n",
    "El modo `\"w\"` dentro de `open` nos permite crear nuevos archivos. La sintáxis sería la siguiente\n",
    "```python\n",
    "open(filename, \"w\")\n",
    "```"
   ]
  },
  {
   "cell_type": "code",
   "execution_count": 8,
   "metadata": {},
   "outputs": [],
   "source": [
    "# Un pequeño ejemplo\n",
    "with open(\"../files/lec06/wtest1.txt\", \"w\") as f:\n",
    "    for i in range(10):\n",
    "        f.write(str(i))"
   ]
  },
  {
   "cell_type": "code",
   "execution_count": 9,
   "metadata": {},
   "outputs": [
    {
     "name": "stdout",
     "output_type": "stream",
     "text": [
      "0123456789"
     ]
    }
   ],
   "source": [
    "%%bash\n",
    "cat ../files/lec06/wtest1.txt"
   ]
  },
  {
   "cell_type": "markdown",
   "metadata": {},
   "source": [
    "**Notas**  \n",
    "* El código anterior escribió un caracter después de otro.\n",
    "* Fue necesario convertir nuestro `int` a un `str` para poder escribir su valor"
   ]
  },
  {
   "cell_type": "markdown",
   "metadata": {},
   "source": [
    "## Módulos\n",
    "\n",
    "Un modulo  es un archivo escrito en python con funciones, clases, etc. Python contiene una librería *estándard* que contiene diferentes funciones o clases. Para hace uso de estas librerías, es necesario importarlas."
   ]
  },
  {
   "cell_type": "markdown",
   "metadata": {},
   "source": [
    "**Dos maneras de importar librerias en Python**\n",
    "```python\n",
    "import libreria\n",
    "from libreria import modulo\n",
    "```"
   ]
  },
  {
   "cell_type": "markdown",
   "metadata": {},
   "source": [
    "La primera manera de cargar una libreria es importar el nombre de la libreria. Para poder acceder a un elemento de la libería de esta manera es necesario acceder a este como `libreria.elemento`"
   ]
  },
  {
   "cell_type": "code",
   "execution_count": 10,
   "metadata": {},
   "outputs": [
    {
     "data": {
      "text/plain": [
       "3.141592653589793"
      ]
     },
     "execution_count": 10,
     "metadata": {},
     "output_type": "execute_result"
    }
   ],
   "source": [
    "import math\n",
    "math.pi"
   ]
  },
  {
   "cell_type": "code",
   "execution_count": 11,
   "metadata": {},
   "outputs": [
    {
     "data": {
      "text/plain": [
       "24"
      ]
     },
     "execution_count": 11,
     "metadata": {},
     "output_type": "execute_result"
    }
   ],
   "source": [
    "math.factorial(4)"
   ]
  },
  {
   "cell_type": "code",
   "execution_count": 12,
   "metadata": {},
   "outputs": [
    {
     "data": {
      "text/plain": [
       "-1.0"
      ]
     },
     "execution_count": 12,
     "metadata": {},
     "output_type": "execute_result"
    }
   ],
   "source": [
    "math.log(math.exp(-1))"
   ]
  },
  {
   "cell_type": "markdown",
   "metadata": {},
   "source": [
    "Para poder ver los elementos que dependen de una libreria (o cualquier función) usamos la función `dir`."
   ]
  },
  {
   "cell_type": "code",
   "execution_count": 13,
   "metadata": {},
   "outputs": [
    {
     "name": "stdout",
     "output_type": "stream",
     "text": [
      "['__doc__', '__file__', '__loader__', '__name__', '__package__', '__spec__', 'acos', 'acosh', 'asin', 'asinh', 'atan', 'atan2', 'atanh', 'ceil', 'copysign', 'cos', 'cosh', 'degrees', 'e', 'erf', 'erfc', 'exp', 'expm1', 'fabs', 'factorial', 'floor', 'fmod', 'frexp', 'fsum', 'gamma', 'gcd', 'hypot', 'inf', 'isclose', 'isfinite', 'isinf', 'isnan', 'ldexp', 'lgamma', 'log', 'log10', 'log1p', 'log2', 'modf', 'nan', 'pi', 'pow', 'radians', 'sin', 'sinh', 'sqrt', 'tan', 'tanh', 'tau', 'trunc']\n"
     ]
    }
   ],
   "source": [
    "print(dir(math))"
   ]
  },
  {
   "cell_type": "markdown",
   "metadata": {},
   "source": [
    "Si deseamos solo un objecto de un módulo, podemos importar el objecto sin importar toda la librería usando \n",
    "```python\n",
    "from modulo import objecto\n",
    "```"
   ]
  },
  {
   "cell_type": "code",
   "execution_count": 14,
   "metadata": {},
   "outputs": [
    {
     "data": {
      "text/plain": [
       "3.141592653589793"
      ]
     },
     "execution_count": 14,
     "metadata": {},
     "output_type": "execute_result"
    }
   ],
   "source": [
    "from math import tau\n",
    "tau / 2"
   ]
  },
  {
   "cell_type": "markdown",
   "metadata": {},
   "source": [
    "## Módulos I/O"
   ]
  },
  {
   "cell_type": "markdown",
   "metadata": {},
   "source": [
    "### JSON\n",
    "\n",
    "JSON (Javascript Object Notation) es un formato de bajo peso para intercambio de información basado en el lenguaje de programación JavaScript. Es parecido, en estructura, a un diccionario.\n",
    "\n",
    "Podemos cargar objectos json desde python con la librería `json`"
   ]
  },
  {
   "cell_type": "code",
   "execution_count": 15,
   "metadata": {},
   "outputs": [
    {
     "name": "stdout",
     "output_type": "stream",
     "text": [
      "{\n",
      "  \"colors\": [\n",
      "    {\n",
      "      \"color\": \"black\",\n",
      "      \"category\": \"hue\",\n",
      "      \"type\": \"primary\",\n",
      "      \"code\": {\n",
      "        \"rgba\": [255,255,255,1],\n",
      "        \"hex\": \"#000\"\n",
      "      }\n",
      "    },\n"
     ]
    }
   ],
   "source": [
    "%%bash\n",
    "head -11 ../files/lec07/colors.json"
   ]
  },
  {
   "cell_type": "code",
   "execution_count": 16,
   "metadata": {},
   "outputs": [],
   "source": [
    "import json"
   ]
  },
  {
   "cell_type": "markdown",
   "metadata": {},
   "source": [
    "Para cargar archivos json, es necesario abrir un archivo y usar la función `json.load` aplicado sobre el archivo abierto"
   ]
  },
  {
   "cell_type": "code",
   "execution_count": 17,
   "metadata": {},
   "outputs": [
    {
     "data": {
      "text/plain": [
       "dict"
      ]
     },
     "execution_count": 17,
     "metadata": {},
     "output_type": "execute_result"
    }
   ],
   "source": [
    "with open(\"../files/lec07/colors.json\") as f:\n",
    "    colors = json.load(f)\n",
    "type(colors)"
   ]
  },
  {
   "cell_type": "markdown",
   "metadata": {},
   "source": [
    "## CSV"
   ]
  },
  {
   "cell_type": "code",
   "execution_count": 18,
   "metadata": {},
   "outputs": [],
   "source": [
    "import csv"
   ]
  },
  {
   "cell_type": "code",
   "execution_count": 19,
   "metadata": {},
   "outputs": [
    {
     "name": "stdout",
     "output_type": "stream",
     "text": [
      "['CVE_ENT', 'NOM_ENT', 'CVE_MUN', 'NOM_MUN', 'CVE_CAB']\n",
      "\n",
      "02\tAzcapotzalco\n",
      "03\tCoyoacan\n",
      "04\tCuajimalpa de Morelos\n",
      "05\tGustavo A. Madero\n",
      "06\tIztacalco\n",
      "07\tIztapalapa\n",
      "08\tLa Magdalena Contreras\n",
      "09\tMilpa Alta\n",
      "10\tAlvaro Obregon\n",
      "11\tTlahuac\n",
      "12\tTlalpan\n",
      "13\tXochimilco\n",
      "14\tBenito Juarez\n",
      "15\tCuauhtemoc\n",
      "16\tMiguel Hidalgo\n",
      "17\tVenustiano Carranza\n"
     ]
    }
   ],
   "source": [
    "# Leyendo un archivo\n",
    "with open(\"../files/lec07/mun_cdmx.csv\") as f:\n",
    "    munmx = csv.DictReader(f)\n",
    "    print(munmx.fieldnames, end=\"\\n\\n\")\n",
    "    for row in munmx:\n",
    "        int_clave_mun = int(row[\"CVE_MUN\"])\n",
    "        nom_mun = row[\"NOM_MUN\"]\n",
    "        print(f'{int_clave_mun:02}\\t{nom_mun}')"
   ]
  },
  {
   "cell_type": "code",
   "execution_count": 20,
   "metadata": {},
   "outputs": [],
   "source": [
    "# Creando un archivo csv con números al cuadrado\n",
    "with open(\"../files/lec06/numeros.csv\", \"w\") as f:\n",
    "    csvfile = csv.DictWriter(f, [\"num\", \"num_2\"])\n",
    "    csvfile.writeheader()\n",
    "    for num in range(11):\n",
    "        csvfile.writerow({\"num\": num, \"num_2\": num ** 2})"
   ]
  }
 ],
 "metadata": {
  "kernelspec": {
   "display_name": "Python 3",
   "language": "python",
   "name": "python3"
  },
  "language_info": {
   "codemirror_mode": {
    "name": "ipython",
    "version": 3
   },
   "file_extension": ".py",
   "mimetype": "text/x-python",
   "name": "python",
   "nbconvert_exporter": "python",
   "pygments_lexer": "ipython3",
   "version": "3.6.6"
  }
 },
 "nbformat": 4,
 "nbformat_minor": 2
}
