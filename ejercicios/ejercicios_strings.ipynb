{
 "cells": [
  {
   "cell_type": "markdown",
   "metadata": {},
   "source": [
    "# Números en formato europeo\n",
    "\n",
    "Es muy probable que se encuentre en una situación en donde sus datos numéricos utilicen el formato europeo para separar los números en sus parte decimal y su parte entera.\n",
    "\n",
    "Este formato (a diferencia del formato utilizado en países como México) utiliza una coma **,** para separar la parte decimal de un número y un punto **.** para como separador de miles.\n",
    "\n",
    "Así, tenemos por ejemplo las siguientes situaciones:\n",
    "\n",
    "+ $100,500.50 (en México un millón quinientos mil pesos con cincuenta centavos)\n",
    "\n",
    "+ €100.500,50 (en formato europeo un millón quinientos mil euros con ciencuenta centavos)\n",
    "\n",
    "## Ejercicio\n",
    "Utilizando el ejemplo anterior ¿Cómo convertiría los siguientes strings en números?\n",
    "\n",
    "```python\n",
    "s1 = '$100,500.50'\n",
    "s2 = '€100.500,50'\n",
    "```"
   ]
  },
  {
   "cell_type": "code",
   "execution_count": 1,
   "metadata": {},
   "outputs": [],
   "source": [
    "#Anote aquí su código\n",
    "s1 = '$100,500.50'\n",
    "s2 = '€100.500,50'"
   ]
  },
  {
   "cell_type": "markdown",
   "metadata": {},
   "source": [
    "# Feed de órdenes\n",
    "\n",
    "Usualmente, las bolsas de valores envían sus datos a través de un *feed*. Esta información generalmente se envía en forma de texto como se muestra en el siguiente ejemplo:\n",
    "\n",
    "```python\n",
    "orden = 'Compra:100:AMXL:@14.50:MXN'\n",
    "```\n",
    "la cadena anterior puede interpretarse como:\n",
    "\n",
    "Comprar 100 acciones de la serie AMXL a 14.50 MXN.\n",
    "\n",
    "Cree un diccionario que contenga cada componente de la orden convirtiendo el tipo de dato en los casos necesarios.\n",
    "\n",
    "**Nota: NO puede utilizar variables auxiliares, por ejemplo**\n",
    "\n",
    "```python\n",
    "var_auxiliar_precio = var_auxiliar_precio_string\n",
    "diccionario['precio'] = var_auxiliar_precio\n",
    "```\n",
    "\n"
   ]
  },
  {
   "cell_type": "code",
   "execution_count": 2,
   "metadata": {},
   "outputs": [],
   "source": [
    "#Escriba aquí su código\n",
    "orden = 'Compra:100:AMXL:@14.50:MXN'\n",
    "dicc = {}\n"
   ]
  },
  {
   "cell_type": "markdown",
   "metadata": {},
   "source": [
    "# Detección de palíndromos\n",
    "\n",
    "Suponga que tiene la siguiente cadenas (un palíndromo):\n",
    "\n",
    "```python\n",
    "s1 = 'Anita Lava la Tina'\n",
    "```\n",
    "\n",
    "Cree una función que detecte si las siguientes cadenas son un palídromo o no:\n",
    "\n",
    "```python\n",
    "s1 = 'Anita Lava la Tina'\n",
    "s2 = 'Yo dono rosas, oro no doy'\n",
    "s3 = 'Sera lodo o dolares'\n",
    "s4 = 'Yo no soy palindromo'\n",
    "\n",
    "```\n",
    "\n",
    "**NOTA: No se le permite utilizar cíclos FOR**\n"
   ]
  },
  {
   "cell_type": "code",
   "execution_count": 3,
   "metadata": {},
   "outputs": [],
   "source": [
    "#Escriba su código aquí y pruébelo con las siguientes cadenas\n",
    "s1 = 'Anita Lava la Tina'\n",
    "s2 = 'Yo dono rosas, oro no doy'\n",
    "s3 = 'Sera lodo o dolares'\n",
    "s4 = 'Yo no soy palindromo'\n"
   ]
  }
 ],
 "metadata": {
  "kernelspec": {
   "display_name": "Python 3",
   "language": "python",
   "name": "python3"
  },
  "language_info": {
   "codemirror_mode": {
    "name": "ipython",
    "version": 3
   },
   "file_extension": ".py",
   "mimetype": "text/x-python",
   "name": "python",
   "nbconvert_exporter": "python",
   "pygments_lexer": "ipython3",
   "version": "3.7.3"
  }
 },
 "nbformat": 4,
 "nbformat_minor": 2
}
