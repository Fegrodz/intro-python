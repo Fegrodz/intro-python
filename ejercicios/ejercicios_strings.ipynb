{
 "cells": [
  {
   "cell_type": "markdown",
   "metadata": {},
   "source": [
    "# Números en formato europeo\n",
    "\n",
    "Es muy probable que se encuentre en una situación en donde sus datos numéricos utilicen el formato europeo para separar los números en sus parte decimal y su parte entera.\n",
    "\n",
    "Este formato (a diferencia del formato utilizado en países como México) utiliza una coma **,** para separar la parte decimal de un número y un punto **.** para como separador de miles.\n",
    "\n",
    "Así, tenemos por ejemplo las siguientes situaciones:\n",
    "\n",
    "+ $100,500.50 (en México un millón quinientos mil pesos con cincuenta centavos)\n",
    "\n",
    "+ €100.500,50 (en formato europeo un millón quinientos mil euros con ciencuenta centavos)\n",
    "\n",
    "## Ejercicio\n",
    "Utilizando el ejemplo anterior ¿Cómo convertiría los siguientes strings en números?\n",
    "\n",
    "```python\n",
    "s1 = '$100,500.50'\n",
    "s2 = '€100.500,50'\n",
    "```"
   ]
  },
  {
   "cell_type": "code",
   "execution_count": 1,
   "metadata": {},
   "outputs": [],
   "source": [
    "#Anote aquí su código\n",
    "s1 = '$100,500.50'\n",
    "s2 = '€100.500,50'"
   ]
  },
  {
   "cell_type": "markdown",
   "metadata": {},
   "source": [
    "# Detección de palíndromos\n",
    "\n",
    "Suponga que tiene la siguiente cadenas (un palíndromo):\n",
    "\n",
    "```python\n",
    "s1 = 'Anita Lava la Tina'\n",
    "```\n",
    "\n",
    "Cree una función que detecte si las siguientes cadenas son un palídromo o no:\n",
    "\n",
    "```python\n",
    "s1 = 'Anita Lava la Tina'\n",
    "s2 = 'Yo dono rosas, oro no doy'\n",
    "s3 = 'Sera lodo o dolares'\n",
    "s4 = 'Yo no soy palindromo'\n",
    "\n",
    "```\n",
    "\n",
    "**NOTA: No se le permite utilizar cíclos FOR**\n"
   ]
  },
  {
   "cell_type": "code",
   "execution_count": 3,
   "metadata": {},
   "outputs": [],
   "source": [
    "#Escriba su código aquí y pruébelo con las siguientes cadenas\n",
    "s1 = 'Anita Lava la Tina'\n",
    "s2 = 'Yo dono rosas, oro no doy'\n",
    "s3 = 'Sera lodo o dolares'\n",
    "s4 = 'Yo no soy palindromo'"
   ]
  },
  {
   "cell_type": "markdown",
   "metadata": {},
   "source": [
    "# Extracción de información\n",
    "\n",
    "En este ejercicio se busca extraer información de un texto (html).\n",
    "\n",
    "Cree un programa para crear una lista con las palabras:\n",
    "\n",
    "+ Nombre\n",
    "+ Apellido\n",
    "+ Edad\n",
    "\n",
    "Para extraer estos datos debe de utilizar las etiquetas\n",
    "`<th>` y `</th>` como guía.\n",
    "\n",
    "Valide su código agregando lo siguiente:\n",
    "`<th>Estado Civil</th>`"
   ]
  },
  {
   "cell_type": "code",
   "execution_count": 6,
   "metadata": {},
   "outputs": [],
   "source": [
    "html = ''' \n",
    "<table>\n",
    "  <tr>\n",
    "    <th>Nombre</th>\n",
    "    <th>Apellido</th> \n",
    "    <th>Edad</th>\n",
    "</table>\n",
    "'''"
   ]
  }
 ],
 "metadata": {
  "kernelspec": {
   "display_name": "Python 3",
   "language": "python",
   "name": "python3"
  },
  "language_info": {
   "codemirror_mode": {
    "name": "ipython",
    "version": 3
   },
   "file_extension": ".py",
   "mimetype": "text/x-python",
   "name": "python",
   "nbconvert_exporter": "python",
   "pygments_lexer": "ipython3",
   "version": "3.7.3"
  }
 },
 "nbformat": 4,
 "nbformat_minor": 2
}
