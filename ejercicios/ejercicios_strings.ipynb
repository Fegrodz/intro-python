{
 "cells": [
  {
   "cell_type": "markdown",
   "metadata": {},
   "source": [
    "# Números en formato europeo\n",
    "\n",
    "Es muy probable que se encuentre en una situación en donde sus datos numéricos utilicen el formato europeo para separar los números en sus parte decimal y su parte entera.\n",
    "\n",
    "Este formato (a diferencia del formato utilizado en países como México) utiliza una coma **,** para separar la parte decimal de un número y un punto **.** para como separador de miles.\n",
    "\n",
    "Así, tenemos por ejemplo las siguientes situaciones:\n",
    "\n",
    "+ $100,500.50 (en México un millón quinientos mil pesos con cincuenta centavos)\n",
    "\n",
    "+ €100.500,50 (en formato europeo un millón quinientos mil euros con ciencuenta centavos)\n",
    "\n",
    "## Ejercicio\n",
    "Utilizando el ejemplo anterior ¿Cómo convertiría los siguientes strings en números?\n",
    "\n",
    "```python\n",
    "s1 = '100,500.50'\n",
    "s2 = '100.500,50'\n",
    "```"
   ]
  },
  {
   "cell_type": "code",
   "execution_count": null,
   "metadata": {},
   "outputs": [],
   "source": [
    "#Anote aquí su código"
   ]
  }
 ],
 "metadata": {
  "kernelspec": {
   "display_name": "Python 3",
   "language": "python",
   "name": "python3"
  },
  "language_info": {
   "codemirror_mode": {
    "name": "ipython",
    "version": 3
   },
   "file_extension": ".py",
   "mimetype": "text/x-python",
   "name": "python",
   "nbconvert_exporter": "python",
   "pygments_lexer": "ipython3",
   "version": "3.7.3"
  }
 },
 "nbformat": 4,
 "nbformat_minor": 2
}
