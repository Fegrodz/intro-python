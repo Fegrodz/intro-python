{
 "cells": [
  {
   "cell_type": "markdown",
   "metadata": {},
   "source": [
    "# Value at Risk\n",
    "\n",
    "---\n",
    "\n",
    "El **Valor en Riesgo** (Value at Risk o VaR) es una de las medidas de riesgo más utilizadas en finanzas. Esta medida busca medir el riesgo de mercado en un portafolio.\n",
    "\n",
    "Matemáticamente, el VaR hace referencia a un cuantil de la distrubición de los rendimientos de un portafolio o, de manera más general, la distribución de nuestra variable de interés.\n",
    "\n",
    "Recordemos que un cuantil de nivel $\\alpha$ de la distribución $F_{X}$, se define como el número $q_{\\alpha}$ tal que\n",
    "\n",
    "$$ F_{X}(q_{\\alpha}) = \\mathbb{P}[X \\leq q_{\\alpha}] = \\alpha$$\n",
    "\n",
    "El VaR se define como una medida de riesgo (estadística) que estima la máxima pérdida que puede presentar un portafolio dado un nivel de confianza $\\alpha$.\n",
    "\n",
    "Si la variable aleatoria $X$ representa los rendimientos de un portafolio (esto implica que $X \\in (-\\infty, \\infty)$), el VaR con un nivel de confianza $\\alpha$, es el número $VaR_{X}(\\alpha)$ tal que:\n",
    "\n",
    "$$\\mathbb{P}[X \\leq VaR_{X}(\\alpha)] = 1- \\alpha$$\n",
    "\n",
    "Por ejemplo si $\\alpha = 0.95$, entonces el $VaR_{X}(0.95)$ se puede interpretar como la pérdida que se tendría en a lo más el $5\\%$ de los casos.\n",
    "\n",
    "Podemos ver así que el $VaR_{X}(\\alpha)$ representa el cuantil $1 - \\alpha$ de la distribución de $X$."
   ]
  },
  {
   "cell_type": "code",
   "execution_count": 2,
   "metadata": {},
   "outputs": [],
   "source": [
    "import numpy as np\n",
    "from scipy.stats import norm\n",
    "np.random.seed(54321)\n",
    "\n",
    "#Datos a utilizar\n",
    "datos = np.random.normal(loc = 0, scale = 0.2, size = 50000)"
   ]
  },
  {
   "cell_type": "markdown",
   "metadata": {},
   "source": [
    "## VaR Paramétrico\n",
    "---\n",
    "\n",
    "Suponga que $X \\sim N(\\mu, \\sigma)$ es una variable aleatoria que representa los rendimientos diarios de un portafolio.\n",
    "\n",
    "Podemos calcular el $VaR_{X}(\\alpha)$ de la siguiente manera:\n",
    "\n",
    "$$\n",
    "\\begin{array}{ccl}\n",
    "\\mathbb{P}[X \\leq VaR_{X}(\\alpha)] & = & 1 - \\alpha \\\\\n",
    "\\mathbb{P}\\left[Z \\leq \\dfrac{VaR_{X}(\\alpha) - \\mu}{\\sigma}\\right] & = & 1 - \\alpha \\\\\n",
    "VaR_{X}(\\alpha) & = & \\mu + \\sigma \\Phi^{-1}(1 - \\alpha) \\\\\n",
    " & = & \\mu - \\sigma \\Phi^{-1}(\\alpha) \\\\\n",
    "\\end{array}\n",
    "$$\n",
    "\n",
    "en donde $Z$ es una variable aleatoria normal, $\\Phi^{-1}$ es la función inversa de la función de distribución de una variable aleatoria normal.\n",
    "\n",
    "**Ejercicio**\n",
    "Utilizando el desarrollo anterior, programe una función que estime el var paramétrico para un conjunto de observaciones.\n",
    "\n",
    "**Sugerencia** \n",
    "Lea la documentación de \n",
    "```python\n",
    "help(norm.ppf)\n",
    "help(np.std)\n",
    "help(np.mean)\n",
    "```"
   ]
  },
  {
   "cell_type": "code",
   "execution_count": 3,
   "metadata": {},
   "outputs": [],
   "source": [
    "#Escriba aquí su código"
   ]
  },
  {
   "cell_type": "markdown",
   "metadata": {},
   "source": [
    "## VaR Histórico (no paramétrico)\n",
    "\n",
    "A diferencia del VaR paramétrico, el VaR histórico no asume ninguna distribución para los rendimientos de un portafolio.\n",
    "\n",
    "Su cálculo se realiza utilizando los cuantiles empíricos de los datos dados.\n",
    "\n",
    "**Ejercicio**  Lea la documentación de\n",
    "```python\n",
    "help(np.quantile)\n",
    "```\n",
    "y programe una función que calcule el VaR histórico. Compare sus resultados con aquellos obtenidos con el VaR paramétrico.\n",
    "\n",
    "**Sugerencia** Recuerde la definición de un cuantil $q_\\alpha$ así como la interpretación del VaR."
   ]
  },
  {
   "cell_type": "code",
   "execution_count": null,
   "metadata": {},
   "outputs": [],
   "source": [
    "#Escriba su código aquí"
   ]
  },
  {
   "cell_type": "markdown",
   "metadata": {},
   "source": [
    "## Conditional Value at Risk (CVaR)\n",
    "\n",
    "A diferencia del VaR, el CVaR toma en cuenta la forma de la distribución de los rendimientos.\n",
    "\n",
    "Esta medida puede interpretarse como la pérdida promedio esperada, cuando los rendimientos del portafolio son menores o iguales al VaR. En otras palabras, si $X$ es una variable aleatoria que representa los rendimientos de un portafolio y $\\alpha$ el nivel de confianza, el CVaR está dado por:\n",
    "\n",
    "$$\n",
    "\\begin{array}\n",
    "CVaR_{X}(\\alpha) & = & \\mathbb{E}[X | X \\leq VaR_{X}(\\alpha)] \\\\\n",
    "& \\approx & \\dfrac{1}{|A|} \\sum_{x_{i} \\in A} x_{i}\n",
    "\\end{array}\n",
    "$$\n",
    "\n",
    "en donde $A = \\{ x : x \\leq VaR_{X}(\\alpha) \\}$.\n",
    "\n",
    "**Ejercicio** Programe una función que calcule el CVaR de un conjunto de datos.\n",
    "\n"
   ]
  },
  {
   "cell_type": "code",
   "execution_count": 19,
   "metadata": {},
   "outputs": [],
   "source": [
    "# Escriba aquí su código"
   ]
  }
 ],
 "metadata": {
  "kernelspec": {
   "display_name": "Python 3",
   "language": "python",
   "name": "python3"
  },
  "language_info": {
   "codemirror_mode": {
    "name": "ipython",
    "version": 3
   },
   "file_extension": ".py",
   "mimetype": "text/x-python",
   "name": "python",
   "nbconvert_exporter": "python",
   "pygments_lexer": "ipython3",
   "version": "3.7.3"
  }
 },
 "nbformat": 4,
 "nbformat_minor": 1
}
