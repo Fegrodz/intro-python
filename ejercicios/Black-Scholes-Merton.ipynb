{
 "cells": [
  {
   "cell_type": "markdown",
   "metadata": {},
   "source": [
    "# Opciones\n",
    "\n",
    "Una opción es un contrato que da al comprador, el derecho de entrar en otro contrato durante un periodo de tiempo en particular. Este contrato recibe el nombre de **derivado** ya que su valor depende del valor de otro contrato, el **subyacente**. Este contrato subyacente puede ser una acción, un bono o algún activo financiero como un commodity, una moneda o una tasa de interés.\n",
    "\n",
    "Si la opción da el derecho de comprar el subyacente, se dice que es una **opción call**, en cambio, si se da el derecho de venderlo, se habla de una **opción put**.\n",
    "\n",
    "En este notebook consideraremos únicamente aquellas opciones que sólo tienen una fecha de ejercicio, es decir, **opciones europeas**.\n",
    "\n",
    "## Fórmula de Black-Scholes-Merton\n",
    "Para valuar el precio de una opción call europea (con un payoff de $max(S_{T} - K, 0)$ ) con subyacente $S$ y precio de ejercico (strike) $K$, el modelo de Black-Scholes-Merton establace la siguiente fórmula:\n",
    "\n",
    "$$\n",
    "\\begin{array}{rll}\n",
    " Call(S_{t}, K, t, T, r, \\sigma) & = & S_{t}N(d_1) - e^{-r(T-t)} K N(d_2) \\\\\n",
    " N(d) & = &\\dfrac{1}{\\sqrt{2\\pi}} \\int_{- \\infty}^{d} e^{- 0.5 x^2}dx \\\\\n",
    "d_1 & = & \\dfrac{ Ln \\Big(\\dfrac{S_t}{K}\\Big) + \\Big( r + \\dfrac{\\sigma^2}{2} \\Big) \\Big(T - t \\Big) }{ \\sigma \\sqrt{T-t} } \\\\\n",
    "d_2 & = & \\dfrac{ Ln \\Big(\\dfrac{S_t}{K}\\Big) - \\Big( r + \\dfrac{\\sigma^2}{2} \\Big) \\Big(T - t \\Big) }{ \\sigma \\sqrt{T-t} } \n",
    "\\end{array}\n",
    "$$\n",
    "\n",
    "en donde $r$ es la tasa (anual) libre de riesgo, $\\sigma$ es la volatilidad anual del subyacente, $T$ es la fecha de vencimiento de la opción, $t$ es la fecha de valuación y $N$ es la función de distribución de una variable aleatoria normal estándar. La diferencia $T-t$ se expresa en fracciones de año.\n",
    "\n",
    "### Ejercicio\n",
    "\n",
    "+ Implemente la ecuación de Black-Scholes-Merton para valuar una opción call europea y prueba su función con los siguientes datos:\n",
    "    * $S_{t} = 100$\n",
    "    * $K = 105$\n",
    "    * $\\sigma = 0.2$\n",
    "    * $r = 0.05$\n",
    "    * $T = 2020/08/18$\n",
    "    * $t = 2019/08/18$\n",
    "    * Considere un año de 365 días.\n",
    "\n",
    "**Sugerencia** Para calcular la función $N(d)$, puede utilizar el método *cdf* de la clase norm\n",
    "```python\n",
    "from scipy.stats import norm\n",
    "help(norm.cdf)\n",
    "```\n",
    "    "
   ]
  },
  {
   "cell_type": "code",
   "execution_count": 1,
   "metadata": {},
   "outputs": [],
   "source": [
    "#Escriba aquí su código\n",
    "import numpy as np\n",
    "from scipy.stats import norm"
   ]
  },
  {
   "cell_type": "markdown",
   "metadata": {},
   "source": [
    "## Valuación utilizando simulación Monte Carlo\n",
    "La simulación Monte Carlo es uno de los métodos más importantes en finanzas. Particularmente, es de gran ayuda al momento de valuar instrumentos financieros derivados.\n",
    "\n",
    "En el modelo de Black-Scholes-Merton (bajo la medida neutral al riesgo) los precios siguen un movimiento browniano geométrico que satisface la siguiente ecuación diferencial estocástica:\n",
    "\n",
    "$$\n",
    "dS_{t} = rS_{t}dt + \\sigma S_{t} dW_{t}\n",
    "$$\n",
    "en donde $\\{W_t\\}$ es un proceso de Wiener (movimiento browniano).\n",
    "\n",
    "Para poder valuar un derivado utilizando simulación Monte Carlo, es necesario primero simular los precios del subyacente de acuerdo a la ecuación que los describe. Utilizando el esquema de discretización de Euler, podemos simular $S_t$ de la siguiente manera:\n",
    "\n",
    "$$\n",
    "S_{t} = S_{t - \\Delta t} exp \\Big \\{ \\Big ( r - 0.5 \\sigma^2 \\Big)\\Delta t + \\sigma \\sqrt{\\Delta t} z_{t} \\Big \\}.\n",
    "$$\n",
    "\n",
    "en donde $z_t$ es una variable aleatoria normal estándar y $0 < \\Delta t < T$ un intervalo de tiempo (pequeño).\n",
    "\n",
    "Los pasos para valuar un instrumento derivado con payoff $H$ a través del método de Monte Carlo, son los siguientes:\n",
    "\n",
    "1. Dividir el intervalo $[t, T]$ en $N$ subintervalos del mismo tamaño $\\Delta t$, es decir, $\\Delta t = \\dfrac{T-t}{N}$ (recuerde que $T-t$ se expresa como fracción de año.\n",
    "\n",
    "2. Para cada simulación $i = 1, \\ldots, M$:\n",
    "\n",
    "    a. Para cada tiempo $t \\in \\{\\Delta t, 2 \\Delta t, \\ldots, T\\}$ simula $S_{t}$ (esta es una trayectoria del precio desde $S_{t}$ hasta $S_{T}$).\n",
    "    \n",
    "    b. Con los datos de la trayectoria simulada, se obtiene el valor del payoff $H$, en el caso de un call europeo el payoff es $H(S) = max(S_{T} - K, 0)$.\n",
    "    \n",
    "3. El valor del derivado es el promedio los payoff obtenidos en cada trayectoría, descontándolo utilizando la tasa libre de riesgo, es decir:\n",
    "\n",
    "$$\\text{Valor d = e^{-r \\big( T - t \\big)} \\dfrac{1}{M} \\sum_{i = 1}^{M} H_{i}(S).$$\n",
    "\n",
    "### Ejercicio\n",
    "\n",
    "+ Utilizando los datos del ejercicio anterior, obtenga el precio de la call europea utilizando simulación Monte Carlo.\n",
    "\n",
    "**Sugerencia**\n",
    "Para obtener una realización de la variable $z_t$ puede utilizar la función *normal* del módulo *random* de numpy\n",
    "```python\n",
    "import numpy as np\n",
    "help(np.random.normal)\n",
    "```"
   ]
  },
  {
   "cell_type": "code",
   "execution_count": 2,
   "metadata": {},
   "outputs": [],
   "source": [
    "#Escriba aquí su código\n",
    "import numpy as np\n",
    "np.random.seed(54321)"
   ]
  }
 ],
 "metadata": {
  "kernelspec": {
   "display_name": "Python 3",
   "language": "python",
   "name": "python3"
  },
  "language_info": {
   "codemirror_mode": {
    "name": "ipython",
    "version": 3
   },
   "file_extension": ".py",
   "mimetype": "text/x-python",
   "name": "python",
   "nbconvert_exporter": "python",
   "pygments_lexer": "ipython3",
   "version": "3.7.3"
  }
 },
 "nbformat": 4,
 "nbformat_minor": 2
}
