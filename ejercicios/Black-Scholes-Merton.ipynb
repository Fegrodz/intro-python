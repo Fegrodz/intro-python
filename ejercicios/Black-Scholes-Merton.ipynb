{
 "cells": [
  {
   "cell_type": "markdown",
   "metadata": {},
   "source": [
    "# Opciones\n",
    "\n",
    "Una opción es un contrato que da al comprador, el derecho de entrar en otro contrato durante un periodo de tiempo en particular. Este contrato recibe el nombre de **derivado** ya que su valor depende del valor de otro contrato, el **subyacente**. Este contrato subyacente puede ser una acción, un bono o algún activo financiero como un commodity, una moneda o una tasa de interés.\n",
    "\n",
    "Si la opción da el derecho de comprar el subyacente, se dice que es una **opción call**, en cambio, si se da el derecho de venderlo, se habla de una **opción put**.\n",
    "\n",
    "En este notebook consideraremos únicamente aquellas opciones que sólo tienen una fecha de ejercicio, es decir, **opciones europeas**.\n",
    "\n",
    "## Fórmula de Black-Scholes-Merton\n",
    "Para valuar el precio de una opción call europea con subyacente $S$ y precio de ejercico (strike) $K$, el modelo de Black-Scholes-Merton establace la siguiente fórmula:\n",
    "\n",
    "$$\n",
    "\\begin{array}{rll}\n",
    " Call(S_{t}, K, t, T, r, \\sigma) & = & S_{t}N(d_1) - e^{-r(T-t)} K N(d_2) \\\\\n",
    " N(d) & = &\\dfrac{1}{\\sqrt{2\\pi}} \\int_{- \\infty}^{d} e^{- 0.5 x^2}dx \\\\\n",
    "d_1 & = & \\dfrac{ Ln \\Big(\\dfrac{S_t}{K}\\Big) + \\Big( r + \\dfrac{\\sigma^2}{2} \\Big) \\Big(T - t \\Big) }{ \\sigma \\sqrt{T-t} } \\\\\n",
    "d_2 & = & \\dfrac{ Ln \\Big(\\dfrac{S_t}{K}\\Big) - \\Big( r + \\dfrac{\\sigma^2}{2} \\Big) \\Big(T - t \\Big) }{ \\sigma \\sqrt{T-t} } \n",
    "\\end{array}\n",
    "$$\n",
    "\n",
    "en donde $r$ es la tasa libre de riesgo, $T$ es la fecha de vencimiento de la opción, $t$ es la fecha de valuación y $N$ es la función de distribución de una variable aleatoria normal estándar.\n",
    "\n",
    "### Ejercicio\n",
    "\n",
    "+ Implemente la ecuación de Black-Scholes-Merton para valuar una opción call europea y prueba su función con los siguientes datos:\n",
    "    * $S_{t} = 100$\n",
    "    * $K = 97$\n",
    "    * $\\sigma = 0.2$\n",
    "    * $r = 0.01$\n",
    "    * $T = 2020/08/18$\n",
    "    * $t = 2019/08/18$\n",
    "\n",
    "**Sugerencia** Para calcular la función $N(d)$, puede utilizar el método *cdf* de la clase norm\n",
    "```python\n",
    "from scipy.stats import norm\n",
    "help(norm.cdf)\n",
    "```\n",
    "    "
   ]
  },
  {
   "cell_type": "code",
   "execution_count": 1,
   "metadata": {},
   "outputs": [],
   "source": [
    "#Escriba aquí su código\n",
    "import numpy as np\n",
    "from scipy.stats import norm"
   ]
  }
 ],
 "metadata": {
  "kernelspec": {
   "display_name": "Python 3",
   "language": "python",
   "name": "python3"
  },
  "language_info": {
   "codemirror_mode": {
    "name": "ipython",
    "version": 3
   },
   "file_extension": ".py",
   "mimetype": "text/x-python",
   "name": "python",
   "nbconvert_exporter": "python",
   "pygments_lexer": "ipython3",
   "version": "3.7.3"
  }
 },
 "nbformat": 4,
 "nbformat_minor": 2
}
