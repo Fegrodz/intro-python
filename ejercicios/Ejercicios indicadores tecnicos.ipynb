{
 "cells": [
  {
   "cell_type": "markdown",
   "metadata": {},
   "source": [
    "# Promedios móviles\n",
    "\n",
    "Los promedios móviles son uno de los indicadores técnicos más famosos. Como lo señala su nombre, estos indicadores se calculan promediando los valores de una serie de tiempo que se encuentran dentro de una ventana de tiempo en particular.\n",
    "\n",
    "Para los promedios móviles $M$, se tienen las siguientes señales:\n",
    "\n",
    "+ Si $P_t > M_{t|w}$ y $P_{t - 1} < M_{t-1 | w}$, entonces **compra en $t$**.\n",
    "+ Si $P_t < M_{t|w}$ y $P_{t - 1} > M_{t-1 | w}$, entonces **vende en $t$**.\n",
    "\n",
    "## Promedio móvil simple\n",
    "Sea $\\{P_{t}\\} = \\{P_1, P_2, \\ldots, P_n\\}$ una serie de tiempo con $n$ observaciones (la observación más reciente es $P_n$). Sea $w$ el tamaño de la ventana de tiempo. El promedio móvil simple para el periodo $t$ se define como:\n",
    "$$\n",
    "SMA_{t|w} = \\dfrac{P_t + P_{t-1} + \\ldots + P_{t-w + 1} }{w}\n",
    "$$\n",
    "para $t \\in [w, n]$.\n",
    "\n",
    "## Promedio móvil exponencial\n",
    "A diferencia del promedio móvil simple, el promedio móvil exponencial puede capturar el hecho de que la información del pasado no tiene el mismo impacto que la información más reciente.\n",
    "\n",
    "$$\n",
    "EMA_{t|w,\\lambda} = \\left(1 - \\lambda \\right)EMA_{t-1 | w, \\lambda}  + \\lambda P_{t}\n",
    "$$\n",
    "\n",
    "en donde $0 \\leq \\lambda \\leq 1$ y $t \\in [w + 1, n]$, el valor inicial de este promedio, usualmente es $EMA_{w|w, \\lambda} = SMA_{w|w}$.\n",
    "\n",
    "### Ejercicio\n",
    "\n",
    "+ Programe funciones para calcular los dos tipos de promedio móviles anteriores.\n",
    "\n",
    "+ Programe una función que genere las señales de compra y venta para cada periodo $t$.\n",
    "\n",
    "+ Programe una función que grafique la serie de tiempo original junto con sus promedios móviles."
   ]
  },
  {
   "cell_type": "code",
   "execution_count": null,
   "metadata": {},
   "outputs": [],
   "source": [
    "#Escriba su código aquí"
   ]
  }
 ],
 "metadata": {
  "kernelspec": {
   "display_name": "Python 3",
   "language": "python",
   "name": "python3"
  },
  "language_info": {
   "codemirror_mode": {
    "name": "ipython",
    "version": 3
   },
   "file_extension": ".py",
   "mimetype": "text/x-python",
   "name": "python",
   "nbconvert_exporter": "python",
   "pygments_lexer": "ipython3",
   "version": "3.7.3"
  }
 },
 "nbformat": 4,
 "nbformat_minor": 2
}
